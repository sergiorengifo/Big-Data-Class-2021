{
 "cells": [
  {
   "cell_type": "markdown",
   "metadata": {},
   "source": [
    "# Unifying Results"
   ]
  },
  {
   "cell_type": "code",
   "execution_count": 1,
   "metadata": {},
   "outputs": [
    {
     "data": {
      "text/html": [
       "Query OK"
      ]
     },
     "metadata": {},
     "output_type": "display_data"
    }
   ],
   "source": [
    "USE rookery;"
   ]
  },
  {
   "cell_type": "code",
   "execution_count": 2,
   "metadata": {},
   "outputs": [
    {
     "data": {
      "text/html": [
       "<html><body><table border=\"1\"><tr><th style=\"text-align:left;white-space:pre\">Family</th><th style=\"text-align:left;white-space:pre\">Species</th></tr><tr><td style=\"text-align:left;white-space:pre\">Pelecanidae</td><td style=\"text-align:left;white-space:pre\">0</td></tr><tr><td style=\"text-align:left;white-space:pre\">Ardeidae</td><td style=\"text-align:left;white-space:pre\">0</td></tr></table></body></html>"
      ]
     },
     "metadata": {},
     "output_type": "display_data"
    }
   ],
   "source": [
    "SELECT 'Pelecanidae' AS 'Family',\n",
    "COUNT(*) AS 'Species'\n",
    "FROM birds, bird_families AS families\n",
    "WHERE birds.family_id = families.family_id\n",
    "AND families.scientific_name = 'Pelecanidae'\n",
    "UNION\n",
    "SELECT 'Ardeidae',\n",
    "COUNT(*)\n",
    "FROM birds, bird_families AS families\n",
    "WHERE birds.family_id = families.family_id\n",
    "AND families.scientific_name = 'Ardeidae';"
   ]
  },
  {
   "cell_type": "code",
   "execution_count": 3,
   "metadata": {},
   "outputs": [
    {
     "data": {
      "text/html": [
       "<html><body><table border=\"1\"><tr><th style=\"text-align:left;white-space:pre\">Family</th><th style=\"text-align:left;white-space:pre\">Species</th></tr><tr><td style=\"text-align:left;white-space:pre\">Pelecanidae (Pelicans)</td><td style=\"text-align:left;white-space:pre\">1</td></tr><tr><td style=\"text-align:left;white-space:pre\">Balaenicipitidae (Shoebill)</td><td style=\"text-align:left;white-space:pre\">3</td></tr><tr><td style=\"text-align:left;white-space:pre\">Scopidae (Hamerkop)</td><td style=\"text-align:left;white-space:pre\">157</td></tr><tr><td style=\"text-align:left;white-space:pre\">Ardeidae (Herons, Egrets, and Bitterns)</td><td style=\"text-align:left;white-space:pre\">53</td></tr><tr><td style=\"text-align:left;white-space:pre\">Threskiornithidae (Ibises and Spoonbills)</td><td style=\"text-align:left;white-space:pre\">14</td></tr></table></body></html>"
      ]
     },
     "metadata": {},
     "output_type": "display_data"
    }
   ],
   "source": [
    "SELECT families.scientific_name AS 'Family',\n",
    "COUNT(*) AS 'Species'\n",
    "FROM birds, bird_families AS families, bird_orders AS orders\n",
    "WHERE birds.family_id = families.family_id\n",
    "AND families.order_id = orders.order_id\n",
    "AND orders.scientific_name = 'Pelecaniformes'\n",
    "GROUP BY families.family_id\n",
    "UNION\n",
    "SELECT families.scientific_name, COUNT(*)\n",
    "FROM birds, bird_families AS families, bird_orders AS orders\n",
    "WHERE birds.family_id = families.family_id\n",
    "AND families.order_id = orders.order_id\n",
    "AND orders.scientific_name = 'Suliformes'\n",
    "GROUP BY families.family_id;"
   ]
  },
  {
   "cell_type": "code",
   "execution_count": 4,
   "metadata": {},
   "outputs": [
    {
     "data": {
      "text/html": [
       "<html><body><table border=\"1\"><tr><th style=\"text-align:left;white-space:pre\">Family</th><th style=\"text-align:left;white-space:pre\">Species</th><th style=\"text-align:left;white-space:pre\">Order</th></tr><tr><td style=\"text-align:left;white-space:pre\">Ardeidae (Herons, Egrets, and Bitterns)</td><td style=\"text-align:left;white-space:pre\">53</td><td style=\"text-align:left;white-space:pre\">Pelecaniformes</td></tr><tr><td style=\"text-align:left;white-space:pre\">Balaenicipitidae (Shoebill)</td><td style=\"text-align:left;white-space:pre\">3</td><td style=\"text-align:left;white-space:pre\">Pelecaniformes</td></tr><tr><td style=\"text-align:left;white-space:pre\">Pelecanidae (Pelicans)</td><td style=\"text-align:left;white-space:pre\">1</td><td style=\"text-align:left;white-space:pre\">Pelecaniformes</td></tr><tr><td style=\"text-align:left;white-space:pre\">Scopidae (Hamerkop)</td><td style=\"text-align:left;white-space:pre\">157</td><td style=\"text-align:left;white-space:pre\">Pelecaniformes</td></tr><tr><td style=\"text-align:left;white-space:pre\">Threskiornithidae (Ibises and Spoonbills)</td><td style=\"text-align:left;white-space:pre\">14</td><td style=\"text-align:left;white-space:pre\">Pelecaniformes</td></tr></table></body></html>"
      ]
     },
     "metadata": {},
     "output_type": "display_data"
    }
   ],
   "source": [
    "SELECT * FROM\n",
    "(\n",
    "SELECT families.scientific_name AS 'Family',\n",
    "COUNT(*) AS 'Species',\n",
    "orders.scientific_name AS 'Order'\n",
    "FROM birds, bird_families AS families, bird_orders AS orders\n",
    "WHERE birds.family_id = families.family_id\n",
    "AND families.order_id = orders.order_id\n",
    "AND orders.scientific_name = 'Pelecaniformes'\n",
    "GROUP BY families.family_id\n",
    "UNION\n",
    "SELECT families.scientific_name, COUNT(*), orders.scientific_name\n",
    "FROM birds, bird_families AS families, bird_orders AS orders\n",
    "WHERE birds.family_id = families.family_id\n",
    "AND families.order_id = orders.order_id\n",
    "AND orders.scientific_name = 'Suliformes'\n",
    "GROUP BY families.family_id ) AS derived_1\n",
    "ORDER BY Family;"
   ]
  },
  {
   "cell_type": "markdown",
   "metadata": {},
   "source": [
    "# Joining Tables"
   ]
  },
  {
   "cell_type": "code",
   "execution_count": 6,
   "metadata": {},
   "outputs": [
    {
     "data": {
      "text/html": [
       "Query OK"
      ]
     },
     "metadata": {},
     "output_type": "display_data"
    }
   ],
   "source": [
    "Use test;"
   ]
  },
  {
   "cell_type": "code",
   "execution_count": 7,
   "metadata": {},
   "outputs": [
    {
     "data": {
      "text/html": [
       "<html><body><table border=\"1\"><tr><th style=\"text-align:left;white-space:pre\">book_id</th><th style=\"text-align:left;white-space:pre\">title</th><th style=\"text-align:left;white-space:pre\">status_name</th></tr><tr><td style=\"text-align:left;white-space:pre\">100</td><td style=\"text-align:left;white-space:pre\">Heart of Darkness</td><td style=\"text-align:left;white-space:pre\">Inactive</td></tr><tr><td style=\"text-align:left;white-space:pre\">101</td><td style=\"text-align:left;white-space:pre\">The Catcher in the Rye</td><td style=\"text-align:left;white-space:pre\">Active</td></tr><tr><td style=\"text-align:left;white-space:pre\">102</td><td style=\"text-align:left;white-space:pre\">My Antonia</td><td style=\"text-align:left;white-space:pre\">Active</td></tr></table></body></html>"
      ]
     },
     "metadata": {},
     "output_type": "display_data"
    }
   ],
   "source": [
    "SELECT book_id, title, status_name\n",
    "FROM books JOIN status_names\n",
    "WHERE status = status_id;"
   ]
  },
  {
   "cell_type": "code",
   "execution_count": 8,
   "metadata": {},
   "outputs": [
    {
     "data": {
      "text/html": [
       "<html><body><table border=\"1\"><tr><th style=\"text-align:left;white-space:pre\">book_id</th><th style=\"text-align:left;white-space:pre\">title</th><th style=\"text-align:left;white-space:pre\">status_name</th></tr><tr><td style=\"text-align:left;white-space:pre\">100</td><td style=\"text-align:left;white-space:pre\">Heart of Darkness</td><td style=\"text-align:left;white-space:pre\">Inactive</td></tr><tr><td style=\"text-align:left;white-space:pre\">101</td><td style=\"text-align:left;white-space:pre\">The Catcher in the Rye</td><td style=\"text-align:left;white-space:pre\">Active</td></tr><tr><td style=\"text-align:left;white-space:pre\">102</td><td style=\"text-align:left;white-space:pre\">My Antonia</td><td style=\"text-align:left;white-space:pre\">Active</td></tr></table></body></html>"
      ]
     },
     "metadata": {},
     "output_type": "display_data"
    }
   ],
   "source": [
    "SELECT book_id, title, status_name\n",
    "FROM books\n",
    "JOIN status_names ON(status = status_id);"
   ]
  },
  {
   "cell_type": "code",
   "execution_count": 16,
   "metadata": {},
   "outputs": [
    {
     "name": "stderr",
     "output_type": "stream",
     "text": [
      "Unknown column 'status_name' in 'from clause'\r\n",
      "\u0007\u001b(B\u001b[0;7m\u001b(B\u001b[m\n"
     ]
    }
   ],
   "source": [
    "SELECT book_id, title, status_name\n",
    "FROM books\n",
    "JOIN status_names USING(status_name);"
   ]
  },
  {
   "cell_type": "code",
   "execution_count": 17,
   "metadata": {},
   "outputs": [
    {
     "data": {
      "text/html": [
       "<html><body><table border=\"1\"><tr><th style=\"text-align:left;white-space:pre\">Tables_in_test</th></tr><tr><td style=\"text-align:left;white-space:pre\">books</td></tr><tr><td style=\"text-align:left;white-space:pre\">status_names</td></tr></table></body></html>"
      ]
     },
     "metadata": {},
     "output_type": "display_data"
    }
   ],
   "source": [
    "show tables;"
   ]
  },
  {
   "cell_type": "code",
   "execution_count": 18,
   "metadata": {},
   "outputs": [
    {
     "data": {
      "text/html": [
       "<html><body><table border=\"1\"><tr><th style=\"text-align:left;white-space:pre\">Field</th><th style=\"text-align:left;white-space:pre\">Type</th><th style=\"text-align:left;white-space:pre\">Null</th><th style=\"text-align:left;white-space:pre\">Key</th><th style=\"text-align:left;white-space:pre\">Default</th><th style=\"text-align:left;white-space:pre\">Extra</th></tr><tr><td style=\"text-align:left;white-space:pre\">status_id</td><td style=\"text-align:left;white-space:pre\">int(11)</td><td style=\"text-align:left;white-space:pre\">YES</td><td style=\"text-align:left;white-space:pre\"></td><td style=\"text-align:left;white-space:pre\">NULL</td><td style=\"text-align:left;white-space:pre\"></td></tr><tr><td style=\"text-align:left;white-space:pre\">status_name</td><td style=\"text-align:left;white-space:pre\">char(8)</td><td style=\"text-align:left;white-space:pre\">YES</td><td style=\"text-align:left;white-space:pre\"></td><td style=\"text-align:left;white-space:pre\">NULL</td><td style=\"text-align:left;white-space:pre\"></td></tr></table></body></html>"
      ]
     },
     "metadata": {},
     "output_type": "display_data"
    }
   ],
   "source": [
    "describe status_names;"
   ]
  },
  {
   "cell_type": "code",
   "execution_count": 19,
   "metadata": {},
   "outputs": [
    {
     "data": {
      "text/html": [
       "<html><body><table border=\"1\"><tr><th style=\"text-align:left;white-space:pre\">status_id</th><th style=\"text-align:left;white-space:pre\">status_name</th></tr><tr><td style=\"text-align:left;white-space:pre\">0</td><td style=\"text-align:left;white-space:pre\">Inactive</td></tr><tr><td style=\"text-align:left;white-space:pre\">1</td><td style=\"text-align:left;white-space:pre\">Active</td></tr></table></body></html>"
      ]
     },
     "metadata": {},
     "output_type": "display_data"
    }
   ],
   "source": [
    "SELECT * FROM status_names;"
   ]
  },
  {
   "cell_type": "markdown",
   "metadata": {},
   "source": [
    "# Selecting a Basic Join"
   ]
  },
  {
   "cell_type": "code",
   "execution_count": 20,
   "metadata": {},
   "outputs": [
    {
     "data": {
      "text/html": [
       "Query OK"
      ]
     },
     "metadata": {},
     "output_type": "display_data"
    }
   ],
   "source": [
    "USE rookery;"
   ]
  },
  {
   "cell_type": "code",
   "execution_count": 21,
   "metadata": {},
   "outputs": [
    {
     "data": {
      "text/html": [
       "<html><body><table border=\"1\"><tr><th style=\"text-align:left;white-space:pre\">Tables_in_rookery</th></tr><tr><td style=\"text-align:left;white-space:pre\">bird_families</td></tr><tr><td style=\"text-align:left;white-space:pre\">bird_orders</td></tr><tr><td style=\"text-align:left;white-space:pre\">birds</td></tr><tr><td style=\"text-align:left;white-space:pre\">birds_details</td></tr><tr><td style=\"text-align:left;white-space:pre\">birds_new</td></tr><tr><td style=\"text-align:left;white-space:pre\">conservation_status</td></tr><tr><td style=\"text-align:left;white-space:pre\">country_countries</td></tr></table></body></html>"
      ]
     },
     "metadata": {},
     "output_type": "display_data"
    }
   ],
   "source": [
    "show tables;"
   ]
  },
  {
   "cell_type": "code",
   "execution_count": 22,
   "metadata": {},
   "outputs": [
    {
     "data": {
      "text/html": [
       "Query OK"
      ]
     },
     "metadata": {},
     "output_type": "display_data"
    }
   ],
   "source": [
    "SELECT common_name, conservation_state\n",
    "FROM birds\n",
    "JOIN conservation_status\n",
    "ON(birds.conservation_status_id = conservation_status.conservation_status_id)\n",
    "WHERE conservation_category = 'Threatened'\n",
    "AND common_name LIKE '%Goose%';"
   ]
  },
  {
   "cell_type": "code",
   "execution_count": 23,
   "metadata": {},
   "outputs": [
    {
     "data": {
      "text/html": [
       "<html><body><table border=\"1\"><tr><th style=\"text-align:left;white-space:pre\">Field</th><th style=\"text-align:left;white-space:pre\">Type</th><th style=\"text-align:left;white-space:pre\">Null</th><th style=\"text-align:left;white-space:pre\">Key</th><th style=\"text-align:left;white-space:pre\">Default</th><th style=\"text-align:left;white-space:pre\">Extra</th></tr><tr><td style=\"text-align:left;white-space:pre\">bird_id</td><td style=\"text-align:left;white-space:pre\">int(11)</td><td style=\"text-align:left;white-space:pre\">NO</td><td style=\"text-align:left;white-space:pre\">PRI</td><td style=\"text-align:left;white-space:pre\">NULL</td><td style=\"text-align:left;white-space:pre\">auto_increment</td></tr><tr><td style=\"text-align:left;white-space:pre\">scientific_name</td><td style=\"text-align:left;white-space:pre\">varchar(100)</td><td style=\"text-align:left;white-space:pre\">YES</td><td style=\"text-align:left;white-space:pre\">UNI</td><td style=\"text-align:left;white-space:pre\">NULL</td><td style=\"text-align:left;white-space:pre\"></td></tr><tr><td style=\"text-align:left;white-space:pre\">common_name</td><td style=\"text-align:left;white-space:pre\">varchar(255)</td><td style=\"text-align:left;white-space:pre\">YES</td><td style=\"text-align:left;white-space:pre\"></td><td style=\"text-align:left;white-space:pre\">NULL</td><td style=\"text-align:left;white-space:pre\"></td></tr><tr><td style=\"text-align:left;white-space:pre\">family_id</td><td style=\"text-align:left;white-space:pre\">int(11)</td><td style=\"text-align:left;white-space:pre\">YES</td><td style=\"text-align:left;white-space:pre\"></td><td style=\"text-align:left;white-space:pre\">NULL</td><td style=\"text-align:left;white-space:pre\"></td></tr><tr><td style=\"text-align:left;white-space:pre\">conservation_status_id</td><td style=\"text-align:left;white-space:pre\">int(11)</td><td style=\"text-align:left;white-space:pre\">YES</td><td style=\"text-align:left;white-space:pre\"></td><td style=\"text-align:left;white-space:pre\">NULL</td><td style=\"text-align:left;white-space:pre\"></td></tr><tr><td style=\"text-align:left;white-space:pre\">wing_id</td><td style=\"text-align:left;white-space:pre\">char(2)</td><td style=\"text-align:left;white-space:pre\">YES</td><td style=\"text-align:left;white-space:pre\"></td><td style=\"text-align:left;white-space:pre\">NULL</td><td style=\"text-align:left;white-space:pre\"></td></tr><tr><td style=\"text-align:left;white-space:pre\">body_id</td><td style=\"text-align:left;white-space:pre\">char(2)</td><td style=\"text-align:left;white-space:pre\">YES</td><td style=\"text-align:left;white-space:pre\"></td><td style=\"text-align:left;white-space:pre\">NULL</td><td style=\"text-align:left;white-space:pre\"></td></tr><tr><td style=\"text-align:left;white-space:pre\">bill_id</td><td style=\"text-align:left;white-space:pre\">char(2)</td><td style=\"text-align:left;white-space:pre\">YES</td><td style=\"text-align:left;white-space:pre\"></td><td style=\"text-align:left;white-space:pre\">NULL</td><td style=\"text-align:left;white-space:pre\"></td></tr><tr><td style=\"text-align:left;white-space:pre\">description</td><td style=\"text-align:left;white-space:pre\">text</td><td style=\"text-align:left;white-space:pre\">YES</td><td style=\"text-align:left;white-space:pre\"></td><td style=\"text-align:left;white-space:pre\">NULL</td><td style=\"text-align:left;white-space:pre\"></td></tr></table></body></html>"
      ]
     },
     "metadata": {},
     "output_type": "display_data"
    }
   ],
   "source": [
    "describe birds;"
   ]
  },
  {
   "cell_type": "code",
   "execution_count": 2,
   "metadata": {},
   "outputs": [
    {
     "data": {
      "text/html": [
       "Query OK"
      ]
     },
     "metadata": {},
     "output_type": "display_data"
    }
   ],
   "source": [
    "Use rookery;"
   ]
  },
  {
   "cell_type": "code",
   "execution_count": 3,
   "metadata": {},
   "outputs": [
    {
     "data": {
      "text/html": [
       "Query OK"
      ]
     },
     "metadata": {},
     "output_type": "display_data"
    }
   ],
   "source": [
    "SELECT common_name, conservation_state\n",
    "FROM birds\n",
    "JOIN conservation_status\n",
    "USING(conservation_status_id)\n",
    "WHERE conservation_category = 'Threatened'\n",
    "AND common_name LIKE '%Goose%';"
   ]
  },
  {
   "cell_type": "code",
   "execution_count": 4,
   "metadata": {},
   "outputs": [
    {
     "data": {
      "text/html": [
       "Query OK"
      ]
     },
     "metadata": {},
     "output_type": "display_data"
    }
   ],
   "source": [
    "SELECT common_name AS 'Bird',\n",
    "bird_families.scientific_name AS 'Family', conservation_state AS 'Status'\n",
    "FROM birds\n",
    "JOIN conservation_status USING(conservation_status_id)\n",
    "JOIN bird_families USING(family_id)\n",
    "WHERE conservation_category = 'Threatened'\n",
    "AND common_name REGEXP 'Goose|Duck'\n",
    "ORDER BY Status, Bird;"
   ]
  },
  {
   "cell_type": "code",
   "execution_count": 5,
   "metadata": {},
   "outputs": [
    {
     "data": {
      "text/html": [
       "Query OK"
      ]
     },
     "metadata": {},
     "output_type": "display_data"
    }
   ],
   "source": [
    "SELECT common_name AS 'Bird',\n",
    "bird_families.scientific_name AS 'Family', conservation_state AS 'Status'\n",
    "FROM birds, conservation_status, bird_families\n",
    "WHERE birds.conservation_status_id = conservation_status.conservation_status_id\n",
    "AND birds.family_id = bird_families.family_id\n",
    "AND conservation_category = 'Threatened'\n",
    "AND common_name REGEXP 'Goose|Duck'\n",
    "ORDER BY Status, Bird;"
   ]
  },
  {
   "cell_type": "code",
   "execution_count": 6,
   "metadata": {},
   "outputs": [
    {
     "data": {
      "text/html": [
       "Query OK"
      ]
     },
     "metadata": {},
     "output_type": "display_data"
    }
   ],
   "source": [
    "SELECT common_name AS 'Bird from Anatidae',\n",
    "conservation_state AS 'Conservation Status'\n",
    "FROM birds\n",
    "JOIN conservation_status AS states USING(conservation_status_id)\n",
    "JOIN bird_families USING(family_id)\n",
    "WHERE conservation_category = 'Threatened'\n",
    "AND bird_families.scientific_name = 'Anatidae'\n",
    "ORDER BY states.conservation_status_id DESC, common_name ASC;"
   ]
  },
  {
   "cell_type": "code",
   "execution_count": 7,
   "metadata": {},
   "outputs": [
    {
     "name": "stderr",
     "output_type": "stream",
     "text": [
      "Table 'birdwatchers.bird_sightings' doesn't exist\r\n",
      "\u0007\u001b(B\u001b[0;7m\u001b(B\u001b[m\n"
     ]
    }
   ],
   "source": [
    "SELECT CONCAT(name_first, ' ', name_last) AS Birder,\n",
    "common_name AS Bird, location_gps AS 'Location of Sighting'\n",
    "FROM birdwatchers.humans\n",
    "JOIN birdwatchers.bird_sightings USING(human_id)\n",
    "JOIN rookery.birds USING(bird_id)\n",
    "JOIN rookery.bird_families USING(family_id)\n",
    "WHERE country_id = 'ru'\n",
    "AND bird_families.scientific_name = 'Scolopacidae'\n",
    "ORDER BY Birder;"
   ]
  },
  {
   "cell_type": "code",
   "execution_count": 8,
   "metadata": {},
   "outputs": [
    {
     "data": {
      "text/html": [
       "<html><body><table border=\"1\"><tr><th style=\"text-align:left;white-space:pre\">Bird</th><th style=\"text-align:left;white-space:pre\">Status</th></tr><tr><td style=\"text-align:left;white-space:pre\">Cattle Egret</td><td style=\"text-align:left;white-space:pre\">NULL</td></tr><tr><td style=\"text-align:left;white-space:pre\">Chinese Egret</td><td style=\"text-align:left;white-space:pre\">NULL</td></tr><tr><td style=\"text-align:left;white-space:pre\">Great Egret</td><td style=\"text-align:left;white-space:pre\">NULL</td></tr><tr><td style=\"text-align:left;white-space:pre\">Intermediate Egret</td><td style=\"text-align:left;white-space:pre\">NULL</td></tr><tr><td style=\"text-align:left;white-space:pre\">Little Egret</td><td style=\"text-align:left;white-space:pre\">NULL</td></tr><tr><td style=\"text-align:left;white-space:pre\">Reddish Egret</td><td style=\"text-align:left;white-space:pre\">NULL</td></tr><tr><td style=\"text-align:left;white-space:pre\">Slaty Egret</td><td style=\"text-align:left;white-space:pre\">NULL</td></tr><tr><td style=\"text-align:left;white-space:pre\">Snowy Egret</td><td style=\"text-align:left;white-space:pre\">NULL</td></tr></table></body></html>"
      ]
     },
     "metadata": {},
     "output_type": "display_data"
    }
   ],
   "source": [
    "SELECT common_name AS 'Bird',\n",
    "conservation_state AS 'Status'\n",
    "FROM birds\n",
    "LEFT JOIN conservation_status USING(conservation_status_id)\n",
    "WHERE common_name LIKE '%Egret%'\n",
    "ORDER BY Status, Bird;"
   ]
  },
  {
   "cell_type": "code",
   "execution_count": 9,
   "metadata": {},
   "outputs": [
    {
     "data": {
      "text/html": [
       "Query OK"
      ]
     },
     "metadata": {},
     "output_type": "display_data"
    }
   ],
   "source": [
    "SELECT common_name,\n",
    "conservation_state\n",
    "FROM birds\n",
    "LEFT JOIN conservation_status USING(conservation_status_id)\n",
    "JOIN bird_families USING(family_id)\n",
    "WHERE bird_families.scientific_name = 'Ardeidae';"
   ]
  },
  {
   "cell_type": "code",
   "execution_count": 10,
   "metadata": {},
   "outputs": [
    {
     "data": {
      "text/html": [
       "<html><body><table border=\"1\"><tr><th style=\"text-align:left;white-space:pre\">LAST_INSERT_ID()</th></tr><tr><td style=\"text-align:left;white-space:pre\">9</td></tr></table></body></html>"
      ]
     },
     "metadata": {},
     "output_type": "display_data"
    }
   ],
   "source": [
    "INSERT INTO conservation_status (conservation_state)\n",
    "VALUES('Unknown');\n",
    "SELECT LAST_INSERT_ID();"
   ]
  },
  {
   "cell_type": "code",
   "execution_count": 11,
   "metadata": {},
   "outputs": [
    {
     "data": {
      "text/html": [
       "Query OK"
      ]
     },
     "metadata": {},
     "output_type": "display_data"
    }
   ],
   "source": [
    "UPDATE birds\n",
    "LEFT JOIN conservation_status USING(conservation_status_id)\n",
    "JOIN bird_families USING(family_id)\n",
    "SET birds.conservation_status_id = 9\n",
    "WHERE bird_families.scientific_name = 'Ardeidae'\n",
    "AND conservation_status.conservation_status_id IS NULL;"
   ]
  },
  {
   "cell_type": "code",
   "execution_count": 18,
   "metadata": {},
   "outputs": [
    {
     "data": {
      "text/html": [
       "Query OK"
      ]
     },
     "metadata": {},
     "output_type": "display_data"
    }
   ],
   "source": [
    "USE birdwatchers;"
   ]
  },
  {
   "cell_type": "code",
   "execution_count": 19,
   "metadata": {},
   "outputs": [
    {
     "data": {
      "text/html": [
       "Query OK"
      ]
     },
     "metadata": {},
     "output_type": "display_data"
    }
   ],
   "source": [
    "DELETE FROM humans, prize_winners\n",
    "USING humans JOIN prize_winners\n",
    "WHERE name_first = 'Elena'\n",
    "AND name_last = 'Bokova'\n",
    "AND email_address LIKE '%yahoo.com'\n",
    "AND humans.human_id = prize_winners.human_id;"
   ]
  },
  {
   "cell_type": "code",
   "execution_count": 20,
   "metadata": {},
   "outputs": [
    {
     "data": {
      "text/html": [
       "Query OK"
      ]
     },
     "metadata": {},
     "output_type": "display_data"
    }
   ],
   "source": [
    "DELETE FROM humans, prize_winners\n",
    "USING humans LEFT JOIN prize_winners\n",
    "ON humans.human_id = prize_winners.human_id\n",
    "WHERE name_first = 'Elena'\n",
    "AND name_last = 'Bokova'\n",
    "AND email_address LIKE '%yahoo.com';"
   ]
  },
  {
   "cell_type": "code",
   "execution_count": 21,
   "metadata": {},
   "outputs": [
    {
     "data": {
      "text/html": [
       "Query OK"
      ]
     },
     "metadata": {},
     "output_type": "display_data"
    }
   ],
   "source": [
    "DELETE FROM prize_winners\n",
    "USING humans RIGHT JOIN prize_winners\n",
    "ON humans.human_id = prize_winners.human_id\n",
    "WHERE humans.human_id IS NULL;"
   ]
  },
  {
   "cell_type": "code",
   "execution_count": 22,
   "metadata": {},
   "outputs": [
    {
     "data": {
      "text/html": [
       "<html><body><table border=\"1\"><tr><th style=\"text-align:left;white-space:pre\">Tables_in_birdwatchers</th></tr><tr><td style=\"text-align:left;white-space:pre\">humans</td></tr><tr><td style=\"text-align:left;white-space:pre\">prize_winners</td></tr><tr><td style=\"text-align:left;white-space:pre\">survey_answers</td></tr><tr><td style=\"text-align:left;white-space:pre\">survey_questions</td></tr><tr><td style=\"text-align:left;white-space:pre\">surveys</td></tr></table></body></html>"
      ]
     },
     "metadata": {},
     "output_type": "display_data"
    }
   ],
   "source": [
    "show tables;"
   ]
  },
  {
   "cell_type": "code",
   "execution_count": 24,
   "metadata": {},
   "outputs": [
    {
     "data": {
      "text/html": [
       "Query OK"
      ]
     },
     "metadata": {},
     "output_type": "display_data"
    }
   ],
   "source": [
    "use rookery;"
   ]
  },
  {
   "cell_type": "code",
   "execution_count": 25,
   "metadata": {},
   "outputs": [
    {
     "data": {
      "text/html": [
       "<html><body><table border=\"1\"><tr><th style=\"text-align:left;white-space:pre\">Family</th></tr><tr><td style=\"text-align:left;white-space:pre\">Megapodiidae (Megapodes)</td></tr><tr><td style=\"text-align:left;white-space:pre\">Cracidae (Guans, Chachalacas, and Curassows)</td></tr><tr><td style=\"text-align:left;white-space:pre\">Numididae (Guineafowl)</td></tr><tr><td style=\"text-align:left;white-space:pre\">Odontophoridae (New World Quail)</td></tr><tr><td style=\"text-align:left;white-space:pre\">Phasianidae (Pheasants, Grouse, and Allies)</td></tr></table></body></html>"
      ]
     },
     "metadata": {},
     "output_type": "display_data"
    }
   ],
   "source": [
    "SELECT scientific_name AS Family\n",
    "FROM bird_families\n",
    "WHERE order_id =\n",
    "(SELECT order_id\n",
    "FROM bird_orders\n",
    "WHERE scientific_name = 'Galliformes');"
   ]
  },
  {
   "cell_type": "code",
   "execution_count": 28,
   "metadata": {},
   "outputs": [
    {
     "data": {
      "text/html": [
       "Query OK"
      ]
     },
     "metadata": {},
     "output_type": "display_data"
    }
   ],
   "source": [
    "USE birdwatchers;"
   ]
  },
  {
   "cell_type": "code",
   "execution_count": 29,
   "metadata": {},
   "outputs": [
    {
     "name": "stderr",
     "output_type": "stream",
     "text": [
      "Table 'birdwatchers.bird_sightings' doesn't exist\r\n",
      "\u0007\u001b(B\u001b[0;7m\u001b(B\u001b[m\n"
     ]
    }
   ],
   "source": [
    "UPDATE humans\n",
    "SET membership_type = 'premium',\n",
    "membership_expiration = DATE_ADD(IFNULL(membership_expiration,\n",
    "CURDATE()), INTERVAL 1 YEAR)\n",
    "WHERE human_id =\n",
    "(SELECT human_id\n",
    "FROM\n",
    "(SELECT human_id, COUNT(*) AS sightings, join_date\n",
    "FROM birdwatchers.bird_sightings\n",
    "JOIN birdwatchers.humans USING(human_id)\n",
    "JOIN rookery.birds USING(bird_id)\n",
    "JOIN rookery.bird_families USING(family_id)\n",
    "WHERE country_id = 'ru'\n",
    "AND bird_families.scientific_name = 'Scolopacidae'\n",
    "GROUP BY human_id) AS derived_1\n",
    "WHERE sightings > 5\n",
    "ORDER BY join_date ASC\n",
    "LIMIT 1);"
   ]
  },
  {
   "cell_type": "code",
   "execution_count": null,
   "metadata": {},
   "outputs": [],
   "source": []
  }
 ],
 "metadata": {
  "kernelspec": {
   "display_name": "MariaDB",
   "language": "SQL",
   "name": "mariadb_kernel"
  },
  "language_info": {
   "file_extension": ".sql",
   "mimetype": "text/plain",
   "name": "SQL"
  }
 },
 "nbformat": 4,
 "nbformat_minor": 4
}
