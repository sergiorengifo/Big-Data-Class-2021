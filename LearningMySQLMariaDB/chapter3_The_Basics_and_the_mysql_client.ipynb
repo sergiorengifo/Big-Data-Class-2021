{
 "cells": [
  {
   "cell_type": "code",
   "execution_count": 16,
   "metadata": {},
   "outputs": [
    {
     "data": {
      "text/html": [
       "<html><body><table border=\"1\"><tr><th style=\"text-align:left;white-space:pre\">Database</th></tr><tr><td style=\"text-align:left;white-space:pre\">GRUPOS</td></tr><tr><td style=\"text-align:left;white-space:pre\">information_schema</td></tr><tr><td style=\"text-align:left;white-space:pre\">mysql</td></tr><tr><td style=\"text-align:left;white-space:pre\">performance_schema</td></tr><tr><td style=\"text-align:left;white-space:pre\">test</td></tr></table></body></html>"
      ]
     },
     "metadata": {},
     "output_type": "display_data"
    }
   ],
   "source": [
    "SHOW DATABASES;"
   ]
  },
  {
   "cell_type": "code",
   "execution_count": 17,
   "metadata": {
    "scrolled": true
   },
   "outputs": [
    {
     "name": "stderr",
     "output_type": "stream",
     "text": [
      "Can't create database 'test'; database exists\r\n",
      "ERROR 1050 (42S01) at line 3 in file: '/home/sergior/Escritorio/Big data/LearningMySQLMariaDB/.mariadb_statement': Table 'books' already exists\r\n",
      "\u0007\u001b(B\u001b[0;7m\u001b(B\u001b[m\u0007\u001b(B\u001b[0;7m\u001b(B\u001b[m<TABLE BORDER=1><TR><TH>Tables_in_test</TH></TR><TR><TD>books</TD></TR></TABLE><TABLE BORDER=1><TR><TH>Tables_in_test</TH></TR><TR><TD>books</TD></TR></TABLE><TABLE BORDER=1><TR><TH>Field</TH><TH>Type</TH><TH>Null</TH><TH>Key</TH><TH>Default</TH><TH>Extra</TH></TR><TR><TD>book_id</TD><TD>int(11)</TD><TD>YES</TD><TD></TD><TD>NULL</TD><TD></TD></TR><TR><TD>title</TD><TD>text</TD><TD>YES</TD><TD></TD><TD>NULL</TD><TD></TD></TR><TR><TD>status</TD><TD>int(11)</TD><TD>YES</TD><TD></TD><TD>NULL</TD><TD></TD></TR></TABLE>\n"
     ]
    }
   ],
   "source": [
    "CREATE DATABASE test;\n",
    "\n",
    "CREATE TABLE test.books (book_id INT, title TEXT, status INT);\n",
    "\n",
    "SHOW TABLES FROM test;\n",
    "\n",
    "USE test;\n",
    "\n",
    "SHOW TABLES;\n",
    "\n",
    "DESCRIBE books;"
   ]
  },
  {
   "cell_type": "code",
   "execution_count": 18,
   "metadata": {},
   "outputs": [
    {
     "data": {
      "text/html": [
       "Query OK"
      ]
     },
     "metadata": {},
     "output_type": "display_data"
    }
   ],
   "source": [
    "USE test;"
   ]
  },
  {
   "cell_type": "code",
   "execution_count": 3,
   "metadata": {},
   "outputs": [
    {
     "data": {
      "text/html": [
       "Query OK"
      ]
     },
     "metadata": {},
     "output_type": "display_data"
    }
   ],
   "source": [
    "INSERT INTO books VALUES(100,'Heart of Darkness',0);"
   ]
  },
  {
   "cell_type": "code",
   "execution_count": 4,
   "metadata": {},
   "outputs": [
    {
     "data": {
      "text/html": [
       "Query OK"
      ]
     },
     "metadata": {},
     "output_type": "display_data"
    }
   ],
   "source": [
    "INSERT INTO books VALUES(101,'The Catcher of the Rye',1);"
   ]
  },
  {
   "cell_type": "code",
   "execution_count": 5,
   "metadata": {},
   "outputs": [
    {
     "data": {
      "text/html": [
       "Query OK"
      ]
     },
     "metadata": {},
     "output_type": "display_data"
    }
   ],
   "source": [
    "INSERT INTO books VALUES(102,'My Antonia',0);"
   ]
  },
  {
   "cell_type": "code",
   "execution_count": 7,
   "metadata": {},
   "outputs": [
    {
     "data": {
      "text/html": [
       "<html><body><table border=\"1\"><tr><th style=\"text-align:left;white-space:pre\">book_id</th><th style=\"text-align:left;white-space:pre\">title</th><th style=\"text-align:left;white-space:pre\">status</th></tr><tr><td style=\"text-align:left;white-space:pre\">100</td><td style=\"text-align:left;white-space:pre\">Heart of Darkness</td><td style=\"text-align:left;white-space:pre\">0</td></tr><tr><td style=\"text-align:left;white-space:pre\">101</td><td style=\"text-align:left;white-space:pre\">The Catcher of the Rye</td><td style=\"text-align:left;white-space:pre\">1</td></tr><tr><td style=\"text-align:left;white-space:pre\">102</td><td style=\"text-align:left;white-space:pre\">My Antonia</td><td style=\"text-align:left;white-space:pre\">0</td></tr></table></body></html>"
      ]
     },
     "metadata": {},
     "output_type": "display_data"
    }
   ],
   "source": [
    "SELECT * FROM books;"
   ]
  },
  {
   "cell_type": "code",
   "execution_count": 11,
   "metadata": {},
   "outputs": [
    {
     "data": {
      "text/html": [
       "Query OK"
      ]
     },
     "metadata": {},
     "output_type": "display_data"
    }
   ],
   "source": [
    "#Este es un comentario;"
   ]
  },
  {
   "cell_type": "code",
   "execution_count": 12,
   "metadata": {},
   "outputs": [
    {
     "data": {
      "text/html": [
       "<html><body><table border=\"1\"><tr><th style=\"text-align:left;white-space:pre\">book_id</th><th style=\"text-align:left;white-space:pre\">title</th><th style=\"text-align:left;white-space:pre\">status</th></tr><tr><td style=\"text-align:left;white-space:pre\">101</td><td style=\"text-align:left;white-space:pre\">The Catcher of the Rye</td><td style=\"text-align:left;white-space:pre\">1</td></tr></table></body></html>"
      ]
     },
     "metadata": {},
     "output_type": "display_data"
    }
   ],
   "source": [
    "SELECT * FROM books WHERE status =1;"
   ]
  },
  {
   "cell_type": "code",
   "execution_count": 22,
   "metadata": {},
   "outputs": [
    {
     "data": {
      "text/html": [
       "<html><body><table border=\"1\"><tr><th style=\"text-align:left;white-space:pre\">book_id</th><th style=\"text-align:left;white-space:pre\">title</th><th style=\"text-align:left;white-space:pre\">status</th></tr><tr><td style=\"text-align:left;white-space:pre\">101</td><td style=\"text-align:left;white-space:pre\">The Catcher of the Rye</td><td style=\"text-align:left;white-space:pre\">1</td></tr></table></body></html>"
      ]
     },
     "metadata": {},
     "output_type": "display_data"
    }
   ],
   "source": [
    "select * from books where status =1;\n",
    "#Funciona igual en minusculas;"
   ]
  },
  {
   "cell_type": "code",
   "execution_count": 24,
   "metadata": {},
   "outputs": [
    {
     "data": {
      "text/html": [
       "<html><body><table border=\"1\"><tr><th style=\"text-align:left;white-space:pre\">book_id</th><th style=\"text-align:left;white-space:pre\">title</th><th style=\"text-align:left;white-space:pre\">status</th></tr><tr><td style=\"text-align:left;white-space:pre\">100</td><td style=\"text-align:left;white-space:pre\">Heart of Darkness</td><td style=\"text-align:left;white-space:pre\">0</td></tr><tr><td style=\"text-align:left;white-space:pre\">102</td><td style=\"text-align:left;white-space:pre\">My Antonia</td><td style=\"text-align:left;white-space:pre\">0</td></tr></table></body></html>"
      ]
     },
     "metadata": {},
     "output_type": "display_data"
    }
   ],
   "source": [
    "SELECT * FROM books WHERE status=0;"
   ]
  },
  {
   "cell_type": "code",
   "execution_count": 35,
   "metadata": {},
   "outputs": [
    {
     "data": {
      "text/html": [
       "Query OK"
      ]
     },
     "metadata": {},
     "output_type": "display_data"
    }
   ],
   "source": [
    "# SELECT * FROM books WHERE status=0 \\G ;\n",
    "#El comando anterior \\G no funciona bien en jupyter, pero en la terminal, no tiene problema en desplegar;"
   ]
  },
  {
   "cell_type": "code",
   "execution_count": 36,
   "metadata": {},
   "outputs": [
    {
     "data": {
      "text/html": [
       "Query OK"
      ]
     },
     "metadata": {},
     "output_type": "display_data"
    }
   ],
   "source": [
    "UPDATE books SET status =1 WHERE book_id =102;"
   ]
  },
  {
   "cell_type": "code",
   "execution_count": 38,
   "metadata": {},
   "outputs": [
    {
     "data": {
      "text/html": [
       "Query OK"
      ]
     },
     "metadata": {},
     "output_type": "display_data"
    }
   ],
   "source": [
    "UPDATE books SET status =1 WHERE title ='My Antonia'; \n",
    "#Funciona tambien con el titulo del libro;"
   ]
  },
  {
   "cell_type": "code",
   "execution_count": 39,
   "metadata": {},
   "outputs": [
    {
     "data": {
      "text/html": [
       "<html><body><table border=\"1\"><tr><th style=\"text-align:left;white-space:pre\">book_id</th><th style=\"text-align:left;white-space:pre\">title</th><th style=\"text-align:left;white-space:pre\">status</th></tr><tr><td style=\"text-align:left;white-space:pre\">101</td><td style=\"text-align:left;white-space:pre\">The Catcher of the Rye</td><td style=\"text-align:left;white-space:pre\">1</td></tr><tr><td style=\"text-align:left;white-space:pre\">102</td><td style=\"text-align:left;white-space:pre\">My Antonia</td><td style=\"text-align:left;white-space:pre\">1</td></tr></table></body></html>"
      ]
     },
     "metadata": {},
     "output_type": "display_data"
    }
   ],
   "source": [
    "SELECT * FROM books WHERE status =1;"
   ]
  },
  {
   "cell_type": "code",
   "execution_count": 40,
   "metadata": {},
   "outputs": [
    {
     "data": {
      "text/html": [
       "Query OK"
      ]
     },
     "metadata": {},
     "output_type": "display_data"
    }
   ],
   "source": [
    "UPDATE books SET status =0 WHERE book_id =101;"
   ]
  },
  {
   "cell_type": "code",
   "execution_count": 41,
   "metadata": {},
   "outputs": [
    {
     "data": {
      "text/html": [
       "<html><body><table border=\"1\"><tr><th style=\"text-align:left;white-space:pre\">book_id</th><th style=\"text-align:left;white-space:pre\">title</th><th style=\"text-align:left;white-space:pre\">status</th></tr><tr><td style=\"text-align:left;white-space:pre\">102</td><td style=\"text-align:left;white-space:pre\">My Antonia</td><td style=\"text-align:left;white-space:pre\">1</td></tr></table></body></html>"
      ]
     },
     "metadata": {},
     "output_type": "display_data"
    }
   ],
   "source": [
    "SELECT * FROM books WHERE status =1;"
   ]
  },
  {
   "cell_type": "code",
   "execution_count": 42,
   "metadata": {},
   "outputs": [
    {
     "data": {
      "text/html": [
       "<html><body><table border=\"1\"><tr><th style=\"text-align:left;white-space:pre\">book_id</th><th style=\"text-align:left;white-space:pre\">title</th><th style=\"text-align:left;white-space:pre\">status</th></tr><tr><td style=\"text-align:left;white-space:pre\">100</td><td style=\"text-align:left;white-space:pre\">Heart of Darkness</td><td style=\"text-align:left;white-space:pre\">0</td></tr><tr><td style=\"text-align:left;white-space:pre\">101</td><td style=\"text-align:left;white-space:pre\">The Catcher of the Rye</td><td style=\"text-align:left;white-space:pre\">0</td></tr></table></body></html>"
      ]
     },
     "metadata": {},
     "output_type": "display_data"
    }
   ],
   "source": [
    "SELECT * FROM books WHERE status =0;"
   ]
  },
  {
   "cell_type": "code",
   "execution_count": 43,
   "metadata": {},
   "outputs": [
    {
     "data": {
      "text/html": [
       "Query OK"
      ]
     },
     "metadata": {},
     "output_type": "display_data"
    }
   ],
   "source": [
    "UPDATE books\n",
    "SET title= 'The Catcher in the Rye', status=1\n",
    "WHERE book_id =101;"
   ]
  },
  {
   "cell_type": "code",
   "execution_count": 62,
   "metadata": {},
   "outputs": [
    {
     "data": {
      "text/html": [
       "Query OK"
      ]
     },
     "metadata": {},
     "output_type": "display_data"
    }
   ],
   "source": [
    "DROP TABLE status_names;"
   ]
  },
  {
   "cell_type": "code",
   "execution_count": 63,
   "metadata": {},
   "outputs": [
    {
     "data": {
      "text/html": [
       "Query OK"
      ]
     },
     "metadata": {},
     "output_type": "display_data"
    }
   ],
   "source": [
    "CREATE TABLE status_names (status_id INT, status_name CHAR(8));"
   ]
  },
  {
   "cell_type": "code",
   "execution_count": 65,
   "metadata": {},
   "outputs": [
    {
     "data": {
      "text/html": [
       "Query OK"
      ]
     },
     "metadata": {},
     "output_type": "display_data"
    }
   ],
   "source": [
    "INSERT INTO status_names VALUES(0,'Inactive'), (1, 'Active');"
   ]
  },
  {
   "cell_type": "code",
   "execution_count": 66,
   "metadata": {},
   "outputs": [
    {
     "data": {
      "text/html": [
       "<html><body><table border=\"1\"><tr><th style=\"text-align:left;white-space:pre\">status_id</th><th style=\"text-align:left;white-space:pre\">status_name</th></tr><tr><td style=\"text-align:left;white-space:pre\">0</td><td style=\"text-align:left;white-space:pre\">Inactive</td></tr><tr><td style=\"text-align:left;white-space:pre\">1</td><td style=\"text-align:left;white-space:pre\">Active</td></tr></table></body></html>"
      ]
     },
     "metadata": {},
     "output_type": "display_data"
    }
   ],
   "source": [
    "SELECT * FROM status_names;"
   ]
  },
  {
   "cell_type": "code",
   "execution_count": 68,
   "metadata": {},
   "outputs": [
    {
     "data": {
      "text/html": [
       "<html><body><table border=\"1\"><tr><th style=\"text-align:left;white-space:pre\">book_id</th><th style=\"text-align:left;white-space:pre\">title</th><th style=\"text-align:left;white-space:pre\">status_name</th></tr><tr><td style=\"text-align:left;white-space:pre\">100</td><td style=\"text-align:left;white-space:pre\">Heart of Darkness</td><td style=\"text-align:left;white-space:pre\">Inactive</td></tr><tr><td style=\"text-align:left;white-space:pre\">101</td><td style=\"text-align:left;white-space:pre\">The Catcher in the Rye</td><td style=\"text-align:left;white-space:pre\">Active</td></tr><tr><td style=\"text-align:left;white-space:pre\">102</td><td style=\"text-align:left;white-space:pre\">My Antonia</td><td style=\"text-align:left;white-space:pre\">Active</td></tr></table></body></html>"
      ]
     },
     "metadata": {},
     "output_type": "display_data"
    }
   ],
   "source": [
    "SELECT book_id, title, status_name \n",
    "FROM books JOIN status_names \n",
    "WHERE status=status_id;"
   ]
  },
  {
   "cell_type": "code",
   "execution_count": null,
   "metadata": {},
   "outputs": [],
   "source": []
  }
 ],
 "metadata": {
  "kernelspec": {
   "display_name": "MariaDB",
   "language": "SQL",
   "name": "mariadb_kernel"
  },
  "language_info": {
   "file_extension": ".sql",
   "mimetype": "text/plain",
   "name": "SQL"
  }
 },
 "nbformat": 4,
 "nbformat_minor": 4
}
