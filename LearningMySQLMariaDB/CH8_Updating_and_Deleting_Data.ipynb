{
 "cells": [
  {
   "cell_type": "markdown",
   "metadata": {},
   "source": [
    "# Updating DATA"
   ]
  },
  {
   "cell_type": "code",
   "execution_count": 5,
   "metadata": {},
   "outputs": [
    {
     "data": {
      "text/html": [
       "Query OK"
      ]
     },
     "metadata": {},
     "output_type": "display_data"
    }
   ],
   "source": [
    "USE birdwatchers;"
   ]
  },
  {
   "cell_type": "code",
   "execution_count": 6,
   "metadata": {},
   "outputs": [
    {
     "data": {
      "text/html": [
       "Query OK"
      ]
     },
     "metadata": {},
     "output_type": "display_data"
    }
   ],
   "source": [
    "DROP TABLE IF EXISTS humans;\n",
    "CREATE TABLE humans (\n",
    "  human_id int(11) NOT NULL AUTO_INCREMENT,\n",
    "  formal_title enum('Mr','Ms') COLLATE latin1_bin DEFAULT NULL,\n",
    "  name_first varchar(25) COLLATE latin1_bin DEFAULT NULL,\n",
    "  name_last varchar(25) COLLATE latin1_bin DEFAULT NULL,\n",
    "  email_address varchar(255) COLLATE latin1_bin DEFAULT NULL,\n",
    "  street_address varchar(255) COLLATE latin1_bin DEFAULT NULL,\n",
    "  city varchar(100) COLLATE latin1_bin DEFAULT NULL,\n",
    "  state_province varchar(100) COLLATE latin1_bin DEFAULT NULL,\n",
    "  postal_code varchar(10) COLLATE latin1_bin DEFAULT NULL,\n",
    "  country_id char(2) COLLATE latin1_bin DEFAULT NULL,\n",
    "  join_date date DEFAULT NULL,\n",
    "  membership_type enum('basic','premium') COLLATE latin1_bin DEFAULT NULL,\n",
    "  membership_expiration date DEFAULT NULL,\n",
    "  better_birders_site tinyint(4) DEFAULT '0',\n",
    "  possible_duplicate tinyint(4) DEFAULT '0',\n",
    "  birding_background blob,\n",
    "  skill_level enum('Backyard Birder','Street Noticer','Field Spotter','Expert') COLLATE latin1_bin DEFAULT NULL,\n",
    "  PRIMARY KEY (human_id),\n",
    "  UNIQUE KEY email_address (email_address),\n",
    "  KEY human_names (name_last,name_first)\n",
    ") ENGINE=MyISAM AUTO_INCREMENT=37 DEFAULT CHARSET=latin1 COLLATE=latin1_bin;"
   ]
  },
  {
   "cell_type": "code",
   "execution_count": 7,
   "metadata": {},
   "outputs": [
    {
     "data": {
      "text/html": [
       "Query OK"
      ]
     },
     "metadata": {},
     "output_type": "display_data"
    }
   ],
   "source": [
    "LOCK TABLES humans WRITE;\n",
    "INSERT INTO humans VALUES (1,'Mr','Russell','Dyer','russell@mysqlresources.com',NULL,NULL,NULL,NULL,'uk','2013-10-01','premium','2013-09-22',0,1,NULL,'Street Noticer'),(2,'Mr','Richard','Stringer','richard@mysqlresources.com',NULL,NULL,NULL,NULL,'uk','2013-10-01','premium','2013-09-22',0,0,NULL,'Field Spotter'),(3,'Ms','Rusty','Osborne','rusty@mysqlresources.com',NULL,NULL,NULL,NULL,'ch','2013-10-01','premium','2013-12-22',0,0,NULL,'Street Noticer'),(4,'Ms','Lexi','Hollar','alexandra@mysqlresources.com',NULL,NULL,NULL,NULL,'uk','2013-10-01','premium','2013-09-22',0,0,NULL,'Backyard Birder'),(15,'Mr','Barry','Pilson','barry@gomail.com',NULL,NULL,NULL,NULL,NULL,'2013-10-01',NULL,NULL,0,0,NULL,'Expert'),(16,'Mr','Ricky','Adams','ricky@gomail.com',NULL,NULL,NULL,NULL,NULL,'2013-10-01',NULL,NULL,0,0,NULL,'Backyard Birder'),(17,'Mr','Rusell','Dyer','russell@dyerhouse.com',NULL,NULL,NULL,NULL,'us','2013-10-01','basic',NULL,0,1,NULL,'Field Spotter'),(25,'Ms','Elena','Bokova','elena.bokova@yahoo.com',NULL,NULL,NULL,NULL,'ru','2013-10-01','basic',NULL,0,1,NULL,'Backyard Birder'),(19,'Ms','Elena','Bokova','ebokova@gmail.com',NULL,NULL,NULL,NULL,'ru','2011-05-21','premium','2016-10-01',1,1,NULL,'Backyard Birder'),(26,'Ms','Katerina','Smirnova','katya@mail.ru',NULL,NULL,NULL,NULL,'ru','2012-02-01','basic',NULL,0,0,NULL,'Field Spotter'),(27,'Ms','Anahit','Vanetsyan','anahit@gmail.com',NULL,NULL,NULL,NULL,'ru','2011-10-01','basic',NULL,0,0,NULL,'Backyard Birder'),(28,'Ms','Marie','Dyer','marie@gmail.com',NULL,NULL,NULL,NULL,'us','2012-12-07','basic',NULL,0,0,NULL,'Expert'),(29,'Ms','Geoffrey','Dyer','',NULL,NULL,'Ocean Beach','NJ','us','2012-04-12','basic',NULL,0,0,NULL,'Backyard Birder'),(30,'Ms','MICHAEL','STONE',NULL,NULL,NULL,'San Diego','CA','us','2012-04-12','basic',NULL,0,0,NULL,'Backyard Birder'),(34,'Ms','Melissa','Lee',NULL,NULL,NULL,NULL,NULL,NULL,'2013-10-15',NULL,NULL,0,0,'\u0015\\0\\0\\0xIK/ɨTHJLN//K\u0003\\0Z\u0007','Street Noticer'),(35,'Mr','andy','oram',NULL,NULL,'Cambridge','MA','02140','us','2013-10-16','basic',NULL,0,0,NULL,'Expert'),(36,'Mr','Michael','Zabalaoui',NULL,NULL,'New Orleans','LA','70130','us','2013-10-16','basic',NULL,0,0,NULL,'Street Noticer');\n",
    "UNLOCK TABLES;"
   ]
  },
  {
   "cell_type": "code",
   "execution_count": 8,
   "metadata": {},
   "outputs": [
    {
     "data": {
      "text/html": [
       "Query OK"
      ]
     },
     "metadata": {},
     "output_type": "display_data"
    }
   ],
   "source": [
    "UPDATE birdwatchers.humans\n",
    "SET country_id = 'us';"
   ]
  },
  {
   "cell_type": "markdown",
   "metadata": {},
   "source": [
    "# Updating Specific Rows"
   ]
  },
  {
   "cell_type": "code",
   "execution_count": 9,
   "metadata": {},
   "outputs": [
    {
     "data": {
      "text/html": [
       "<html><body><table border=\"1\"><tr><th style=\"text-align:left;white-space:pre\">human_id</th><th style=\"text-align:left;white-space:pre\">name_first</th><th style=\"text-align:left;white-space:pre\">name_last</th></tr><tr><td style=\"text-align:left;white-space:pre\">3</td><td style=\"text-align:left;white-space:pre\">Rusty</td><td style=\"text-align:left;white-space:pre\">Osborne</td></tr></table></body></html>"
      ]
     },
     "metadata": {},
     "output_type": "display_data"
    }
   ],
   "source": [
    "SELECT human_id, name_first, name_last\n",
    "FROM humans\n",
    "WHERE name_first = 'Rusty'\n",
    "AND name_last = 'Osborne';"
   ]
  },
  {
   "cell_type": "code",
   "execution_count": 10,
   "metadata": {},
   "outputs": [
    {
     "data": {
      "text/html": [
       "<html><body><table border=\"1\"><tr><th style=\"text-align:left;white-space:pre\">human_id</th><th style=\"text-align:left;white-space:pre\">name_first</th><th style=\"text-align:left;white-space:pre\">name_last</th></tr><tr><td style=\"text-align:left;white-space:pre\">3</td><td style=\"text-align:left;white-space:pre\">Rusty</td><td style=\"text-align:left;white-space:pre\">Johnson</td></tr></table></body></html>"
      ]
     },
     "metadata": {},
     "output_type": "display_data"
    }
   ],
   "source": [
    "UPDATE humans\n",
    "SET name_last = 'Johnson'\n",
    "WHERE human_id = 3;\n",
    "SELECT human_id, name_first, name_last\n",
    "FROM humans\n",
    "WHERE human_id = 3;"
   ]
  },
  {
   "cell_type": "code",
   "execution_count": 11,
   "metadata": {},
   "outputs": [
    {
     "data": {
      "text/html": [
       "Query OK"
      ]
     },
     "metadata": {},
     "output_type": "display_data"
    }
   ],
   "source": [
    "UPDATE humans\n",
    "SET formal_title = 'Ms.'\n",
    "WHERE human_id IN(24, 32);"
   ]
  },
  {
   "cell_type": "code",
   "execution_count": 12,
   "metadata": {},
   "outputs": [
    {
     "data": {
      "text/html": [
       "<html><body><table border=\"1\"><tr><th style=\"text-align:left;white-space:pre\">Field</th><th style=\"text-align:left;white-space:pre\">Type</th><th style=\"text-align:left;white-space:pre\">Collation</th><th style=\"text-align:left;white-space:pre\">Null</th><th style=\"text-align:left;white-space:pre\">Key</th><th style=\"text-align:left;white-space:pre\">Default</th><th style=\"text-align:left;white-space:pre\">Extra</th><th style=\"text-align:left;white-space:pre\">Privileges</th><th style=\"text-align:left;white-space:pre\">Comment</th></tr><tr><td style=\"text-align:left;white-space:pre\">formal_title</td><td style=\"text-align:left;white-space:pre\">enum('Mr','Ms')</td><td style=\"text-align:left;white-space:pre\">latin1_bin</td><td style=\"text-align:left;white-space:pre\">YES</td><td style=\"text-align:left;white-space:pre\"></td><td style=\"text-align:left;white-space:pre\">NULL</td><td style=\"text-align:left;white-space:pre\"></td><td style=\"text-align:left;white-space:pre\">select,insert,update,references</td><td style=\"text-align:left;white-space:pre\"></td></tr></table></body></html>"
      ]
     },
     "metadata": {},
     "output_type": "display_data"
    }
   ],
   "source": [
    "SHOW FULL COLUMNS\n",
    "FROM humans\n",
    "LIKE 'formal_title';"
   ]
  },
  {
   "cell_type": "code",
   "execution_count": 13,
   "metadata": {},
   "outputs": [
    {
     "data": {
      "text/html": [
       "Query OK"
      ]
     },
     "metadata": {},
     "output_type": "display_data"
    }
   ],
   "source": [
    "UPDATE humans\n",
    "SET formal_title = 'Ms.'\n",
    "WHERE formal_title IN('Miss','Mrs.');"
   ]
  },
  {
   "cell_type": "code",
   "execution_count": 14,
   "metadata": {},
   "outputs": [
    {
     "name": "stderr",
     "output_type": "stream",
     "text": [
      "Data truncated for column 'formal_title' at row 1\r\n",
      "\u0007\u001b(B\u001b[0;7m\u001b(B\u001b[m\n"
     ]
    }
   ],
   "source": [
    "ALTER TABLE humans\n",
    "CHANGE COLUMN formal_title formal_title ENUM('Mr.','Ms.');"
   ]
  },
  {
   "cell_type": "code",
   "execution_count": 15,
   "metadata": {},
   "outputs": [
    {
     "data": {
      "text/html": [
       "<html><body><table border=\"1\"><tr><th style=\"text-align:left;white-space:pre\">Level</th><th style=\"text-align:left;white-space:pre\">Code</th><th style=\"text-align:left;white-space:pre\">Message</th></tr><tr><td style=\"text-align:left;white-space:pre\">Error</td><td style=\"text-align:left;white-space:pre\">1265</td><td style=\"text-align:left;white-space:pre\">Data truncated for column 'formal_title' at row 1</td></tr></table></body></html>"
      ]
     },
     "metadata": {},
     "output_type": "display_data"
    }
   ],
   "source": [
    "SHOW WARNINGS;"
   ]
  },
  {
   "cell_type": "code",
   "execution_count": 16,
   "metadata": {},
   "outputs": [
    {
     "data": {
      "text/html": [
       "Stage: 2 of 2 'Enabling keys'      0% of stage done\r",
       "                                                   \r",
       "Stage: 2 of 2 'Enabling keys'      0% of stage done\r",
       "                                                   \r"
      ]
     },
     "metadata": {},
     "output_type": "display_data"
    }
   ],
   "source": [
    "ALTER TABLE humans\n",
    "CHANGE COLUMN formal_title formal_title ENUM('Mr.','Ms.','Mr','Ms');\n",
    "UPDATE humans\n",
    "SET formal_title = SUBSTRING(formal_title, 1, 2);\n",
    "ALTER TABLE humans\n",
    "CHANGE COLUMN formal_title formal_title ENUM('Mr','Ms');"
   ]
  },
  {
   "cell_type": "markdown",
   "metadata": {},
   "source": [
    "# Limiting Updates"
   ]
  },
  {
   "cell_type": "code",
   "execution_count": 17,
   "metadata": {},
   "outputs": [
    {
     "data": {
      "text/html": [
       "Query OK"
      ]
     },
     "metadata": {},
     "output_type": "display_data"
    }
   ],
   "source": [
    "CREATE TABLE prize_winners\n",
    "(winner_id INT AUTO_INCREMENT PRIMARY KEY,\n",
    "human_id INT,\n",
    "winner_date DATE,\n",
    "prize_chosen VARCHAR(255),\n",
    "prize_sent DATE);"
   ]
  },
  {
   "cell_type": "code",
   "execution_count": 18,
   "metadata": {},
   "outputs": [
    {
     "data": {
      "text/html": [
       "Query OK"
      ]
     },
     "metadata": {},
     "output_type": "display_data"
    }
   ],
   "source": [
    "INSERT INTO prize_winners\n",
    "(human_id)\n",
    "SELECT human_id\n",
    "FROM humans;"
   ]
  },
  {
   "cell_type": "markdown",
   "metadata": {},
   "source": [
    "# Ordering to Make a Difference"
   ]
  },
  {
   "cell_type": "code",
   "execution_count": 20,
   "metadata": {},
   "outputs": [
    {
     "data": {
      "text/html": [
       "Query OK"
      ]
     },
     "metadata": {},
     "output_type": "display_data"
    }
   ],
   "source": [
    "UPDATE prize_winners\n",
    "SET winner_date = CURDATE()\n",
    "WHERE winner_date IS NULL\n",
    "ORDER BY RAND()\n",
    "LIMIT 2;"
   ]
  },
  {
   "cell_type": "code",
   "execution_count": 21,
   "metadata": {},
   "outputs": [
    {
     "data": {
      "text/html": [
       "Query OK"
      ]
     },
     "metadata": {},
     "output_type": "display_data"
    }
   ],
   "source": [
    "SHOW WARNINGS;"
   ]
  },
  {
   "cell_type": "markdown",
   "metadata": {},
   "source": [
    "# Updating Multiple Tables"
   ]
  },
  {
   "cell_type": "code",
   "execution_count": 22,
   "metadata": {},
   "outputs": [
    {
     "data": {
      "text/html": [
       "Query OK"
      ]
     },
     "metadata": {},
     "output_type": "display_data"
    }
   ],
   "source": [
    "UPDATE prize_winners, humans\n",
    "SET winner_date = NULL,\n",
    "prize_chosen = NULL,\n",
    "prize_sent = NULL\n",
    "WHERE country_id = 'uk'\n",
    "AND prize_winners.human_id = humans.human_id;"
   ]
  },
  {
   "cell_type": "code",
   "execution_count": 23,
   "metadata": {},
   "outputs": [
    {
     "data": {
      "text/html": [
       "Query OK"
      ]
     },
     "metadata": {},
     "output_type": "display_data"
    }
   ],
   "source": [
    "UPDATE prize_winners, humans\n",
    "SET winner_date = CURDATE()\n",
    "WHERE winner_date IS NULL\n",
    "AND country_id = 'uk'\n",
    "AND prize_winners.human_id = humans.human_id\n",
    "ORDER BY RAND()\n",
    "LIMIT 2;"
   ]
  },
  {
   "cell_type": "code",
   "execution_count": 24,
   "metadata": {},
   "outputs": [
    {
     "data": {
      "text/html": [
       "Query OK"
      ]
     },
     "metadata": {},
     "output_type": "display_data"
    }
   ],
   "source": [
    "UPDATE prize_winners\n",
    "SET winner_date = CURDATE()\n",
    "WHERE winner_date IS NULL\n",
    "AND human_id IN\n",
    "(SELECT human_id\n",
    "FROM humans\n",
    "WHERE country_id = 'uk'\n",
    "ORDER BY RAND())\n",
    "LIMIT 2;"
   ]
  },
  {
   "cell_type": "markdown",
   "metadata": {},
   "source": [
    "# Handling Duplicates"
   ]
  },
  {
   "cell_type": "code",
   "execution_count": 25,
   "metadata": {},
   "outputs": [
    {
     "name": "stderr",
     "output_type": "stream",
     "text": [
      "Duplicate column name 'better_birders_site'\r\n",
      "\u0007\u001b(B\u001b[0;7m\u001b(B\u001b[m\n"
     ]
    }
   ],
   "source": [
    "ALTER TABLE humans\n",
    "ADD COLUMN better_birders_site TINYINT DEFAULT 0;"
   ]
  },
  {
   "cell_type": "code",
   "execution_count": 26,
   "metadata": {},
   "outputs": [
    {
     "data": {
      "text/html": [
       "Query OK"
      ]
     },
     "metadata": {},
     "output_type": "display_data"
    }
   ],
   "source": [
    "INSERT INTO humans\n",
    "(formal_title, name_first, name_last, email_address, better_birders_site)\n",
    "VALUES('Mr','Barry','Pilson', 'barry@gomail.com', 1),\n",
    "('Ms','Lexi','Hollar', 'alexandra@mysqlresources.com', 1),\n",
    "('Mr','Ricky','Adams', 'ricky@gomail.com', 1)\n",
    "ON DUPLICATE KEY\n",
    "UPDATE better_birders_site = 2;"
   ]
  },
  {
   "cell_type": "code",
   "execution_count": 27,
   "metadata": {},
   "outputs": [
    {
     "data": {
      "text/html": [
       "Query OK"
      ]
     },
     "metadata": {},
     "output_type": "display_data"
    }
   ],
   "source": [
    "INSERT INTO prize_winners\n",
    "(human_id)\n",
    "SELECT human_id\n",
    "FROM humans\n",
    "WHERE better_birders_site = 1;"
   ]
  },
  {
   "cell_type": "code",
   "execution_count": 28,
   "metadata": {},
   "outputs": [
    {
     "name": "stderr",
     "output_type": "stream",
     "text": [
      "Duplicate column name 'possible_duplicate'\r\n",
      "\u0007\u001b(B\u001b[0;7m\u001b(B\u001b[m\n"
     ]
    }
   ],
   "source": [
    "ALTER TABLE humans\n",
    "ADD COLUMN possible_duplicate TINYINT DEFAULT 0;\n",
    "CREATE TEMPORARY TABLE possible_duplicates\n",
    "(name_1 varchar(25), name_2 varchar(25));"
   ]
  },
  {
   "cell_type": "code",
   "execution_count": 29,
   "metadata": {},
   "outputs": [
    {
     "data": {
      "text/html": [
       "Query OK"
      ]
     },
     "metadata": {},
     "output_type": "display_data"
    }
   ],
   "source": [
    "INSERT INTO possible_duplicates\n",
    "SELECT name_first, name_last\n",
    "FROM\n",
    "(SELECT name_first, name_last, COUNT(*) AS nbr_entries\n",
    "FROM humans\n",
    "GROUP BY name_first, name_last) AS derived_table\n",
    "WHERE nbr_entries > 1;"
   ]
  },
  {
   "cell_type": "code",
   "execution_count": 31,
   "metadata": {},
   "outputs": [
    {
     "data": {
      "text/html": [
       "Query OK"
      ]
     },
     "metadata": {},
     "output_type": "display_data"
    }
   ],
   "source": [
    "UPDATE humans, possible_duplicates\n",
    "SET possible_duplicate = 1\n",
    "WHERE name_first = name_1\n",
    "AND name_last = name_2;"
   ]
  },
  {
   "cell_type": "markdown",
   "metadata": {},
   "source": [
    "# Deleting Data"
   ]
  },
  {
   "cell_type": "code",
   "execution_count": 32,
   "metadata": {},
   "outputs": [
    {
     "data": {
      "text/html": [
       "Query OK"
      ]
     },
     "metadata": {},
     "output_type": "display_data"
    }
   ],
   "source": [
    "DELETE FROM humans\n",
    "WHERE name_first = 'Elena'\n",
    "AND name_last = 'Bokova'\n",
    "AND email_address LIKE '%yahoo.com';"
   ]
  },
  {
   "cell_type": "markdown",
   "metadata": {},
   "source": [
    "# Deleting in Multiple Tables"
   ]
  },
  {
   "cell_type": "code",
   "execution_count": 33,
   "metadata": {},
   "outputs": [
    {
     "data": {
      "text/html": [
       "Query OK"
      ]
     },
     "metadata": {},
     "output_type": "display_data"
    }
   ],
   "source": [
    "DELETE FROM humans, prize_winners\n",
    "USING humans JOIN prize_winners\n",
    "WHERE name_first = 'Elena'\n",
    "AND name_last = 'Bokova'\n",
    "AND email_address LIKE '%yahoo.com'\n",
    "AND humans.human_id = prize_winners.human_id;"
   ]
  },
  {
   "cell_type": "code",
   "execution_count": null,
   "metadata": {},
   "outputs": [],
   "source": []
  }
 ],
 "metadata": {
  "kernelspec": {
   "display_name": "MariaDB",
   "language": "SQL",
   "name": "mariadb_kernel"
  },
  "language_info": {
   "file_extension": ".sql",
   "mimetype": "text/plain",
   "name": "SQL"
  }
 },
 "nbformat": 4,
 "nbformat_minor": 4
}
