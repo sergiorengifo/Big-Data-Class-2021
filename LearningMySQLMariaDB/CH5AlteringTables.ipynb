{
 "cells": [
  {
   "cell_type": "markdown",
   "metadata": {},
   "source": [
    "# Prudence When Altering Tables"
   ]
  },
  {
   "cell_type": "code",
   "execution_count": 4,
   "metadata": {},
   "outputs": [
    {
     "data": {
      "text/html": [
       "Query OK"
      ]
     },
     "metadata": {},
     "output_type": "display_data"
    }
   ],
   "source": [
    "#mysqldump --user='sergior' -p \\;\n",
    "#La linea anterior se encarga de ir al usuario;\n",
    "#rookery birds > /tmp/birds.sql;\n",
    "#La linea anterior se encarga de que se salve en el directorio tmp la tabla birds por si debe hacerse algun cambio;"
   ]
  },
  {
   "cell_type": "code",
   "execution_count": 5,
   "metadata": {},
   "outputs": [
    {
     "data": {
      "text/html": [
       "Query OK"
      ]
     },
     "metadata": {},
     "output_type": "display_data"
    }
   ],
   "source": [
    "#mysqldump --user='sergior' -p \\;\n",
    "#Igual que en la celda pasada;\n",
    "#rookery > rookery.sql;\n",
    "#Se quiere salvar toda la base de datos;"
   ]
  },
  {
   "cell_type": "code",
   "execution_count": 6,
   "metadata": {},
   "outputs": [
    {
     "data": {
      "text/html": [
       "Query OK"
      ]
     },
     "metadata": {},
     "output_type": "display_data"
    }
   ],
   "source": [
    "#mysql --user='sergior' -p \\;\n",
    "#Ahora se toma sin la extension dump;\n",
    "#rookery < rookery-ch2-end.sql;\n",
    "#COn el comando anterior se restaura la base de datos a una previa realizada y todos los datos se van a perder;"
   ]
  },
  {
   "cell_type": "markdown",
   "metadata": {},
   "source": [
    "# Essential Changes"
   ]
  },
  {
   "cell_type": "code",
   "execution_count": 13,
   "metadata": {},
   "outputs": [
    {
     "data": {
      "text/html": [
       "<html><body><table border=\"1\"><tr><th style=\"text-align:left;white-space:pre\">Database</th></tr><tr><td style=\"text-align:left;white-space:pre\">GRUPOS</td></tr><tr><td style=\"text-align:left;white-space:pre\">birdwatchers</td></tr><tr><td style=\"text-align:left;white-space:pre\">information_schema</td></tr><tr><td style=\"text-align:left;white-space:pre\">mysql</td></tr><tr><td style=\"text-align:left;white-space:pre\">performance_schema</td></tr><tr><td style=\"text-align:left;white-space:pre\">rookery</td></tr><tr><td style=\"text-align:left;white-space:pre\">test</td></tr></table></body></html>"
      ]
     },
     "metadata": {},
     "output_type": "display_data"
    }
   ],
   "source": [
    "SHOW databases;"
   ]
  },
  {
   "cell_type": "code",
   "execution_count": 15,
   "metadata": {},
   "outputs": [
    {
     "data": {
      "text/html": [
       "Query OK"
      ]
     },
     "metadata": {},
     "output_type": "display_data"
    }
   ],
   "source": [
    "USE rookery;"
   ]
  },
  {
   "cell_type": "code",
   "execution_count": 16,
   "metadata": {},
   "outputs": [
    {
     "data": {
      "text/html": [
       "Query OK"
      ]
     },
     "metadata": {},
     "output_type": "display_data"
    }
   ],
   "source": [
    "ALTER TABLE bird_families\n",
    "ADD COLUMN order_id INT;\n"
   ]
  },
  {
   "cell_type": "code",
   "execution_count": 17,
   "metadata": {},
   "outputs": [
    {
     "data": {
      "text/html": [
       "Query OK"
      ]
     },
     "metadata": {},
     "output_type": "display_data"
    }
   ],
   "source": [
    "#El comando anterior añade una columna a la tabla bird FAMILIES, y luego crea una columna tipo entero;"
   ]
  },
  {
   "cell_type": "code",
   "execution_count": 18,
   "metadata": {},
   "outputs": [
    {
     "data": {
      "text/html": [
       "Query OK"
      ]
     },
     "metadata": {},
     "output_type": "display_data"
    }
   ],
   "source": [
    "CREATE TABLE test.birds_new LIKE birds;"
   ]
  },
  {
   "cell_type": "code",
   "execution_count": 19,
   "metadata": {},
   "outputs": [
    {
     "data": {
      "text/html": [
       "Query OK"
      ]
     },
     "metadata": {},
     "output_type": "display_data"
    }
   ],
   "source": [
    "#El comando anterior crea una tabla en la base de datos test de respaldo, como copia de birds;"
   ]
  },
  {
   "cell_type": "code",
   "execution_count": 22,
   "metadata": {},
   "outputs": [
    {
     "data": {
      "text/html": [
       "Query OK"
      ]
     },
     "metadata": {},
     "output_type": "display_data"
    }
   ],
   "source": [
    "use test;"
   ]
  },
  {
   "cell_type": "code",
   "execution_count": 23,
   "metadata": {},
   "outputs": [
    {
     "data": {
      "text/html": [
       "<html><body><table border=\"1\"><tr><th style=\"text-align:left;white-space:pre\">Tables_in_test</th></tr><tr><td style=\"text-align:left;white-space:pre\">birds_new</td></tr><tr><td style=\"text-align:left;white-space:pre\">books</td></tr><tr><td style=\"text-align:left;white-space:pre\">status_names</td></tr></table></body></html>"
      ]
     },
     "metadata": {},
     "output_type": "display_data"
    }
   ],
   "source": [
    "show tables;"
   ]
  },
  {
   "cell_type": "code",
   "execution_count": 24,
   "metadata": {},
   "outputs": [
    {
     "data": {
      "text/html": [
       "Query OK"
      ]
     },
     "metadata": {},
     "output_type": "display_data"
    }
   ],
   "source": [
    "USE rookery;"
   ]
  },
  {
   "cell_type": "code",
   "execution_count": 25,
   "metadata": {},
   "outputs": [
    {
     "data": {
      "text/html": [
       "Query OK"
      ]
     },
     "metadata": {},
     "output_type": "display_data"
    }
   ],
   "source": [
    "USE test;"
   ]
  },
  {
   "cell_type": "code",
   "execution_count": 27,
   "metadata": {},
   "outputs": [
    {
     "data": {
      "text/html": [
       "<html><body><table border=\"1\"><tr><th style=\"text-align:left;white-space:pre\">Field</th><th style=\"text-align:left;white-space:pre\">Type</th><th style=\"text-align:left;white-space:pre\">Null</th><th style=\"text-align:left;white-space:pre\">Key</th><th style=\"text-align:left;white-space:pre\">Default</th><th style=\"text-align:left;white-space:pre\">Extra</th></tr><tr><td style=\"text-align:left;white-space:pre\">bird_id</td><td style=\"text-align:left;white-space:pre\">int(11)</td><td style=\"text-align:left;white-space:pre\">NO</td><td style=\"text-align:left;white-space:pre\">PRI</td><td style=\"text-align:left;white-space:pre\">NULL</td><td style=\"text-align:left;white-space:pre\">auto_increment</td></tr><tr><td style=\"text-align:left;white-space:pre\">scientific_name</td><td style=\"text-align:left;white-space:pre\">varchar(255)</td><td style=\"text-align:left;white-space:pre\">YES</td><td style=\"text-align:left;white-space:pre\">UNI</td><td style=\"text-align:left;white-space:pre\">NULL</td><td style=\"text-align:left;white-space:pre\"></td></tr><tr><td style=\"text-align:left;white-space:pre\">common_name</td><td style=\"text-align:left;white-space:pre\">varchar(50)</td><td style=\"text-align:left;white-space:pre\">YES</td><td style=\"text-align:left;white-space:pre\"></td><td style=\"text-align:left;white-space:pre\">NULL</td><td style=\"text-align:left;white-space:pre\"></td></tr><tr><td style=\"text-align:left;white-space:pre\">family_id</td><td style=\"text-align:left;white-space:pre\">int(11)</td><td style=\"text-align:left;white-space:pre\">YES</td><td style=\"text-align:left;white-space:pre\"></td><td style=\"text-align:left;white-space:pre\">NULL</td><td style=\"text-align:left;white-space:pre\"></td></tr><tr><td style=\"text-align:left;white-space:pre\">description</td><td style=\"text-align:left;white-space:pre\">text</td><td style=\"text-align:left;white-space:pre\">YES</td><td style=\"text-align:left;white-space:pre\"></td><td style=\"text-align:left;white-space:pre\">NULL</td><td style=\"text-align:left;white-space:pre\"></td></tr></table></body></html>"
      ]
     },
     "metadata": {},
     "output_type": "display_data"
    }
   ],
   "source": [
    "DESCRIBE birds_new;"
   ]
  },
  {
   "cell_type": "code",
   "execution_count": 28,
   "metadata": {},
   "outputs": [
    {
     "data": {
      "text/html": [
       "Query OK"
      ]
     },
     "metadata": {},
     "output_type": "display_data"
    }
   ],
   "source": [
    "#Lo anterior muestra la descripcion de la tabla birds en la base de datos test;"
   ]
  },
  {
   "cell_type": "code",
   "execution_count": 29,
   "metadata": {},
   "outputs": [
    {
     "data": {
      "text/html": [
       "Query OK"
      ]
     },
     "metadata": {},
     "output_type": "display_data"
    }
   ],
   "source": [
    "#Lo anterior solo copio la estructura de la tabla, lo que sigue va a meter los datos en la tabla de copia;"
   ]
  },
  {
   "cell_type": "code",
   "execution_count": 30,
   "metadata": {},
   "outputs": [
    {
     "data": {
      "text/html": [
       "Query OK"
      ]
     },
     "metadata": {},
     "output_type": "display_data"
    }
   ],
   "source": [
    "INSERT INTO birds_new\n",
    "SELECT * FROM rookery.birds;"
   ]
  },
  {
   "cell_type": "code",
   "execution_count": 31,
   "metadata": {},
   "outputs": [
    {
     "data": {
      "text/html": [
       "Query OK"
      ]
     },
     "metadata": {},
     "output_type": "display_data"
    }
   ],
   "source": [
    "CREATE TABLE birds_new_alternative\n",
    "SELECT * FROM rookery.birds;"
   ]
  },
  {
   "cell_type": "code",
   "execution_count": 33,
   "metadata": {},
   "outputs": [
    {
     "data": {
      "text/html": [
       "Query OK"
      ]
     },
     "metadata": {},
     "output_type": "display_data"
    }
   ],
   "source": [
    "#El comando anterior crea una base de datos alternativa tambien de birds, pero inmediatamente le pasa los datos;"
   ]
  },
  {
   "cell_type": "code",
   "execution_count": 34,
   "metadata": {},
   "outputs": [
    {
     "data": {
      "text/html": [
       "<html><body><table border=\"1\"><tr><th style=\"text-align:left;white-space:pre\">Field</th><th style=\"text-align:left;white-space:pre\">Type</th><th style=\"text-align:left;white-space:pre\">Null</th><th style=\"text-align:left;white-space:pre\">Key</th><th style=\"text-align:left;white-space:pre\">Default</th><th style=\"text-align:left;white-space:pre\">Extra</th></tr><tr><td style=\"text-align:left;white-space:pre\">bird_id</td><td style=\"text-align:left;white-space:pre\">int(11)</td><td style=\"text-align:left;white-space:pre\">NO</td><td style=\"text-align:left;white-space:pre\"></td><td style=\"text-align:left;white-space:pre\">0</td><td style=\"text-align:left;white-space:pre\"></td></tr><tr><td style=\"text-align:left;white-space:pre\">scientific_name</td><td style=\"text-align:left;white-space:pre\">varchar(255)</td><td style=\"text-align:left;white-space:pre\">YES</td><td style=\"text-align:left;white-space:pre\"></td><td style=\"text-align:left;white-space:pre\">NULL</td><td style=\"text-align:left;white-space:pre\"></td></tr><tr><td style=\"text-align:left;white-space:pre\">common_name</td><td style=\"text-align:left;white-space:pre\">varchar(50)</td><td style=\"text-align:left;white-space:pre\">YES</td><td style=\"text-align:left;white-space:pre\"></td><td style=\"text-align:left;white-space:pre\">NULL</td><td style=\"text-align:left;white-space:pre\"></td></tr><tr><td style=\"text-align:left;white-space:pre\">family_id</td><td style=\"text-align:left;white-space:pre\">int(11)</td><td style=\"text-align:left;white-space:pre\">YES</td><td style=\"text-align:left;white-space:pre\"></td><td style=\"text-align:left;white-space:pre\">NULL</td><td style=\"text-align:left;white-space:pre\"></td></tr><tr><td style=\"text-align:left;white-space:pre\">description</td><td style=\"text-align:left;white-space:pre\">text</td><td style=\"text-align:left;white-space:pre\">YES</td><td style=\"text-align:left;white-space:pre\"></td><td style=\"text-align:left;white-space:pre\">NULL</td><td style=\"text-align:left;white-space:pre\"></td></tr></table></body></html>"
      ]
     },
     "metadata": {},
     "output_type": "display_data"
    }
   ],
   "source": [
    "DESCRIBE birds_new_alternative;"
   ]
  },
  {
   "cell_type": "code",
   "execution_count": 35,
   "metadata": {},
   "outputs": [
    {
     "data": {
      "text/html": [
       "Query OK"
      ]
     },
     "metadata": {},
     "output_type": "display_data"
    }
   ],
   "source": [
    "#Lo anterior no copia la primary key con el autoincremento;"
   ]
  },
  {
   "cell_type": "code",
   "execution_count": 36,
   "metadata": {},
   "outputs": [
    {
     "data": {
      "text/html": [
       "Query OK"
      ]
     },
     "metadata": {},
     "output_type": "display_data"
    }
   ],
   "source": [
    "#En lo anterior, es mejor usar el primer metodo que usa el INSERT INTO y luego SELECT;"
   ]
  },
  {
   "cell_type": "code",
   "execution_count": 38,
   "metadata": {},
   "outputs": [
    {
     "data": {
      "text/html": [
       "Query OK"
      ]
     },
     "metadata": {},
     "output_type": "display_data"
    }
   ],
   "source": [
    "DROP TABLE birds_new_alternative;"
   ]
  },
  {
   "cell_type": "code",
   "execution_count": 40,
   "metadata": {},
   "outputs": [
    {
     "data": {
      "text/html": [
       "<html><body><table border=\"1\"><tr><th style=\"text-align:left;white-space:pre\">Tables_in_test</th></tr><tr><td style=\"text-align:left;white-space:pre\">birds_new</td></tr><tr><td style=\"text-align:left;white-space:pre\">books</td></tr><tr><td style=\"text-align:left;white-space:pre\">status_names</td></tr></table></body></html>"
      ]
     },
     "metadata": {},
     "output_type": "display_data"
    }
   ],
   "source": [
    "show tables;"
   ]
  },
  {
   "cell_type": "code",
   "execution_count": 41,
   "metadata": {},
   "outputs": [
    {
     "data": {
      "text/html": [
       "<html><body><table border=\"1\"><tr><th style=\"text-align:left;white-space:pre\">Field</th><th style=\"text-align:left;white-space:pre\">Type</th><th style=\"text-align:left;white-space:pre\">Null</th><th style=\"text-align:left;white-space:pre\">Key</th><th style=\"text-align:left;white-space:pre\">Default</th><th style=\"text-align:left;white-space:pre\">Extra</th></tr><tr><td style=\"text-align:left;white-space:pre\">bird_id</td><td style=\"text-align:left;white-space:pre\">int(11)</td><td style=\"text-align:left;white-space:pre\">NO</td><td style=\"text-align:left;white-space:pre\">PRI</td><td style=\"text-align:left;white-space:pre\">NULL</td><td style=\"text-align:left;white-space:pre\">auto_increment</td></tr><tr><td style=\"text-align:left;white-space:pre\">scientific_name</td><td style=\"text-align:left;white-space:pre\">varchar(255)</td><td style=\"text-align:left;white-space:pre\">YES</td><td style=\"text-align:left;white-space:pre\">UNI</td><td style=\"text-align:left;white-space:pre\">NULL</td><td style=\"text-align:left;white-space:pre\"></td></tr><tr><td style=\"text-align:left;white-space:pre\">common_name</td><td style=\"text-align:left;white-space:pre\">varchar(50)</td><td style=\"text-align:left;white-space:pre\">YES</td><td style=\"text-align:left;white-space:pre\"></td><td style=\"text-align:left;white-space:pre\">NULL</td><td style=\"text-align:left;white-space:pre\"></td></tr><tr><td style=\"text-align:left;white-space:pre\">family_id</td><td style=\"text-align:left;white-space:pre\">int(11)</td><td style=\"text-align:left;white-space:pre\">YES</td><td style=\"text-align:left;white-space:pre\"></td><td style=\"text-align:left;white-space:pre\">NULL</td><td style=\"text-align:left;white-space:pre\"></td></tr><tr><td style=\"text-align:left;white-space:pre\">description</td><td style=\"text-align:left;white-space:pre\">text</td><td style=\"text-align:left;white-space:pre\">YES</td><td style=\"text-align:left;white-space:pre\"></td><td style=\"text-align:left;white-space:pre\">NULL</td><td style=\"text-align:left;white-space:pre\"></td></tr></table></body></html>"
      ]
     },
     "metadata": {},
     "output_type": "display_data"
    }
   ],
   "source": [
    "DESCRIBE birds_new;"
   ]
  },
  {
   "cell_type": "code",
   "execution_count": 42,
   "metadata": {},
   "outputs": [
    {
     "data": {
      "text/html": [
       "Query OK"
      ]
     },
     "metadata": {},
     "output_type": "display_data"
    }
   ],
   "source": [
    "#Ahora vamos a alterar la tabla agregando una columna;"
   ]
  },
  {
   "cell_type": "code",
   "execution_count": 43,
   "metadata": {},
   "outputs": [
    {
     "data": {
      "text/html": [
       "Query OK"
      ]
     },
     "metadata": {},
     "output_type": "display_data"
    }
   ],
   "source": [
    "ALTER TABLE birds_new\n",
    "ADD COLUMN wing_id CHAR(2);"
   ]
  },
  {
   "cell_type": "code",
   "execution_count": 46,
   "metadata": {},
   "outputs": [
    {
     "data": {
      "text/html": [
       "<html><body><table border=\"1\"><tr><th style=\"text-align:left;white-space:pre\">Field</th><th style=\"text-align:left;white-space:pre\">Type</th><th style=\"text-align:left;white-space:pre\">Null</th><th style=\"text-align:left;white-space:pre\">Key</th><th style=\"text-align:left;white-space:pre\">Default</th><th style=\"text-align:left;white-space:pre\">Extra</th></tr><tr><td style=\"text-align:left;white-space:pre\">bird_id</td><td style=\"text-align:left;white-space:pre\">int(11)</td><td style=\"text-align:left;white-space:pre\">NO</td><td style=\"text-align:left;white-space:pre\">PRI</td><td style=\"text-align:left;white-space:pre\">NULL</td><td style=\"text-align:left;white-space:pre\">auto_increment</td></tr><tr><td style=\"text-align:left;white-space:pre\">scientific_name</td><td style=\"text-align:left;white-space:pre\">varchar(255)</td><td style=\"text-align:left;white-space:pre\">YES</td><td style=\"text-align:left;white-space:pre\">UNI</td><td style=\"text-align:left;white-space:pre\">NULL</td><td style=\"text-align:left;white-space:pre\"></td></tr><tr><td style=\"text-align:left;white-space:pre\">common_name</td><td style=\"text-align:left;white-space:pre\">varchar(50)</td><td style=\"text-align:left;white-space:pre\">YES</td><td style=\"text-align:left;white-space:pre\"></td><td style=\"text-align:left;white-space:pre\">NULL</td><td style=\"text-align:left;white-space:pre\"></td></tr><tr><td style=\"text-align:left;white-space:pre\">family_id</td><td style=\"text-align:left;white-space:pre\">int(11)</td><td style=\"text-align:left;white-space:pre\">YES</td><td style=\"text-align:left;white-space:pre\"></td><td style=\"text-align:left;white-space:pre\">NULL</td><td style=\"text-align:left;white-space:pre\"></td></tr><tr><td style=\"text-align:left;white-space:pre\">description</td><td style=\"text-align:left;white-space:pre\">text</td><td style=\"text-align:left;white-space:pre\">YES</td><td style=\"text-align:left;white-space:pre\"></td><td style=\"text-align:left;white-space:pre\">NULL</td><td style=\"text-align:left;white-space:pre\"></td></tr><tr><td style=\"text-align:left;white-space:pre\">wing_id</td><td style=\"text-align:left;white-space:pre\">char(2)</td><td style=\"text-align:left;white-space:pre\">YES</td><td style=\"text-align:left;white-space:pre\"></td><td style=\"text-align:left;white-space:pre\">NULL</td><td style=\"text-align:left;white-space:pre\"></td></tr></table></body></html>"
      ]
     },
     "metadata": {},
     "output_type": "display_data"
    }
   ],
   "source": [
    "DESCRIBE birds_new;"
   ]
  },
  {
   "cell_type": "code",
   "execution_count": 47,
   "metadata": {},
   "outputs": [
    {
     "data": {
      "text/html": [
       "Query OK"
      ]
     },
     "metadata": {},
     "output_type": "display_data"
    }
   ],
   "source": [
    "ALTER TABLE birds_new\n",
    "DROP COLUMN wing_id;"
   ]
  },
  {
   "cell_type": "code",
   "execution_count": 48,
   "metadata": {},
   "outputs": [
    {
     "data": {
      "text/html": [
       "Query OK"
      ]
     },
     "metadata": {},
     "output_type": "display_data"
    }
   ],
   "source": [
    "#AHORA VAMOS A CREAR DE NUEVO LA COLUMNA PERO EN UN orden predeterminado;"
   ]
  },
  {
   "cell_type": "code",
   "execution_count": 49,
   "metadata": {},
   "outputs": [
    {
     "data": {
      "text/html": [
       "Query OK"
      ]
     },
     "metadata": {},
     "output_type": "display_data"
    }
   ],
   "source": [
    "ALTER TABLE birds_new\n",
    "ADD COLUMN wing_ig CHAR(2) AFTER family_id;"
   ]
  },
  {
   "cell_type": "code",
   "execution_count": 50,
   "metadata": {},
   "outputs": [
    {
     "data": {
      "text/html": [
       "<html><body><table border=\"1\"><tr><th style=\"text-align:left;white-space:pre\">Field</th><th style=\"text-align:left;white-space:pre\">Type</th><th style=\"text-align:left;white-space:pre\">Null</th><th style=\"text-align:left;white-space:pre\">Key</th><th style=\"text-align:left;white-space:pre\">Default</th><th style=\"text-align:left;white-space:pre\">Extra</th></tr><tr><td style=\"text-align:left;white-space:pre\">bird_id</td><td style=\"text-align:left;white-space:pre\">int(11)</td><td style=\"text-align:left;white-space:pre\">NO</td><td style=\"text-align:left;white-space:pre\">PRI</td><td style=\"text-align:left;white-space:pre\">NULL</td><td style=\"text-align:left;white-space:pre\">auto_increment</td></tr><tr><td style=\"text-align:left;white-space:pre\">scientific_name</td><td style=\"text-align:left;white-space:pre\">varchar(255)</td><td style=\"text-align:left;white-space:pre\">YES</td><td style=\"text-align:left;white-space:pre\">UNI</td><td style=\"text-align:left;white-space:pre\">NULL</td><td style=\"text-align:left;white-space:pre\"></td></tr><tr><td style=\"text-align:left;white-space:pre\">common_name</td><td style=\"text-align:left;white-space:pre\">varchar(50)</td><td style=\"text-align:left;white-space:pre\">YES</td><td style=\"text-align:left;white-space:pre\"></td><td style=\"text-align:left;white-space:pre\">NULL</td><td style=\"text-align:left;white-space:pre\"></td></tr><tr><td style=\"text-align:left;white-space:pre\">family_id</td><td style=\"text-align:left;white-space:pre\">int(11)</td><td style=\"text-align:left;white-space:pre\">YES</td><td style=\"text-align:left;white-space:pre\"></td><td style=\"text-align:left;white-space:pre\">NULL</td><td style=\"text-align:left;white-space:pre\"></td></tr><tr><td style=\"text-align:left;white-space:pre\">wing_ig</td><td style=\"text-align:left;white-space:pre\">char(2)</td><td style=\"text-align:left;white-space:pre\">YES</td><td style=\"text-align:left;white-space:pre\"></td><td style=\"text-align:left;white-space:pre\">NULL</td><td style=\"text-align:left;white-space:pre\"></td></tr><tr><td style=\"text-align:left;white-space:pre\">description</td><td style=\"text-align:left;white-space:pre\">text</td><td style=\"text-align:left;white-space:pre\">YES</td><td style=\"text-align:left;white-space:pre\"></td><td style=\"text-align:left;white-space:pre\">NULL</td><td style=\"text-align:left;white-space:pre\"></td></tr></table></body></html>"
      ]
     },
     "metadata": {},
     "output_type": "display_data"
    }
   ],
   "source": [
    "DESCRIBE birds_new;"
   ]
  },
  {
   "cell_type": "code",
   "execution_count": 51,
   "metadata": {},
   "outputs": [
    {
     "data": {
      "text/html": [
       "Query OK"
      ]
     },
     "metadata": {},
     "output_type": "display_data"
    }
   ],
   "source": [
    "#Si quiere colocarlo de primero, puede agregar FIRST;"
   ]
  },
  {
   "cell_type": "code",
   "execution_count": 53,
   "metadata": {},
   "outputs": [
    {
     "data": {
      "text/html": [
       "Query OK"
      ]
     },
     "metadata": {},
     "output_type": "display_data"
    }
   ],
   "source": [
    "ALTER TABLE birds_new\n",
    "ADD COLUMN body_id CHAR(2) AFTER wing_ig,\n",
    "ADD COLUMN bill_id CHAR(2) AFTER body_id,\n",
    "ADD COLUMN endangered BIT DEFAULT b'1' AFTER bill_id,\n",
    "CHANGE COLUMN common_name common_name VARCHAR(255);"
   ]
  },
  {
   "cell_type": "code",
   "execution_count": 54,
   "metadata": {},
   "outputs": [
    {
     "data": {
      "text/html": [
       "<html><body><table border=\"1\"><tr><th style=\"text-align:left;white-space:pre\">Field</th><th style=\"text-align:left;white-space:pre\">Type</th><th style=\"text-align:left;white-space:pre\">Null</th><th style=\"text-align:left;white-space:pre\">Key</th><th style=\"text-align:left;white-space:pre\">Default</th><th style=\"text-align:left;white-space:pre\">Extra</th></tr><tr><td style=\"text-align:left;white-space:pre\">bird_id</td><td style=\"text-align:left;white-space:pre\">int(11)</td><td style=\"text-align:left;white-space:pre\">NO</td><td style=\"text-align:left;white-space:pre\">PRI</td><td style=\"text-align:left;white-space:pre\">NULL</td><td style=\"text-align:left;white-space:pre\">auto_increment</td></tr><tr><td style=\"text-align:left;white-space:pre\">scientific_name</td><td style=\"text-align:left;white-space:pre\">varchar(255)</td><td style=\"text-align:left;white-space:pre\">YES</td><td style=\"text-align:left;white-space:pre\">UNI</td><td style=\"text-align:left;white-space:pre\">NULL</td><td style=\"text-align:left;white-space:pre\"></td></tr><tr><td style=\"text-align:left;white-space:pre\">common_name</td><td style=\"text-align:left;white-space:pre\">varchar(255)</td><td style=\"text-align:left;white-space:pre\">YES</td><td style=\"text-align:left;white-space:pre\"></td><td style=\"text-align:left;white-space:pre\">NULL</td><td style=\"text-align:left;white-space:pre\"></td></tr><tr><td style=\"text-align:left;white-space:pre\">family_id</td><td style=\"text-align:left;white-space:pre\">int(11)</td><td style=\"text-align:left;white-space:pre\">YES</td><td style=\"text-align:left;white-space:pre\"></td><td style=\"text-align:left;white-space:pre\">NULL</td><td style=\"text-align:left;white-space:pre\"></td></tr><tr><td style=\"text-align:left;white-space:pre\">wing_ig</td><td style=\"text-align:left;white-space:pre\">char(2)</td><td style=\"text-align:left;white-space:pre\">YES</td><td style=\"text-align:left;white-space:pre\"></td><td style=\"text-align:left;white-space:pre\">NULL</td><td style=\"text-align:left;white-space:pre\"></td></tr><tr><td style=\"text-align:left;white-space:pre\">body_id</td><td style=\"text-align:left;white-space:pre\">char(2)</td><td style=\"text-align:left;white-space:pre\">YES</td><td style=\"text-align:left;white-space:pre\"></td><td style=\"text-align:left;white-space:pre\">NULL</td><td style=\"text-align:left;white-space:pre\"></td></tr><tr><td style=\"text-align:left;white-space:pre\">bill_id</td><td style=\"text-align:left;white-space:pre\">char(2)</td><td style=\"text-align:left;white-space:pre\">YES</td><td style=\"text-align:left;white-space:pre\"></td><td style=\"text-align:left;white-space:pre\">NULL</td><td style=\"text-align:left;white-space:pre\"></td></tr><tr><td style=\"text-align:left;white-space:pre\">endangered</td><td style=\"text-align:left;white-space:pre\">bit(1)</td><td style=\"text-align:left;white-space:pre\">YES</td><td style=\"text-align:left;white-space:pre\"></td><td style=\"text-align:left;white-space:pre\">b'1'</td><td style=\"text-align:left;white-space:pre\"></td></tr><tr><td style=\"text-align:left;white-space:pre\">description</td><td style=\"text-align:left;white-space:pre\">text</td><td style=\"text-align:left;white-space:pre\">YES</td><td style=\"text-align:left;white-space:pre\"></td><td style=\"text-align:left;white-space:pre\">NULL</td><td style=\"text-align:left;white-space:pre\"></td></tr></table></body></html>"
      ]
     },
     "metadata": {},
     "output_type": "display_data"
    }
   ],
   "source": [
    "DESCRIBE birds_new;"
   ]
  },
  {
   "cell_type": "code",
   "execution_count": 55,
   "metadata": {},
   "outputs": [
    {
     "data": {
      "text/html": [
       "Query OK"
      ]
     },
     "metadata": {},
     "output_type": "display_data"
    }
   ],
   "source": [
    "UPDATE birds_new SET endangered =0\n",
    "WHERE bird_id IN(1,2,4,5);"
   ]
  },
  {
   "cell_type": "code",
   "execution_count": 61,
   "metadata": {},
   "outputs": [
    {
     "data": {
      "text/html": [
       "<html><body><table border=\"1\"><tr><th style=\"text-align:left;white-space:pre\">bird_id</th><th style=\"text-align:left;white-space:pre\">scientific_name</th><th style=\"text-align:left;white-space:pre\">common_name</th><th style=\"text-align:left;white-space:pre\">endangered</th></tr><tr><td style=\"text-align:left;white-space:pre\">3</td><td style=\"text-align:left;white-space:pre\">Aix sponsa</td><td style=\"text-align:left;white-space:pre\">Wood Duck</td><td style=\"text-align:left;white-space:pre\"></td></tr><tr><td style=\"text-align:left;white-space:pre\">6</td><td style=\"text-align:left;white-space:pre\">Apteryx mantelli</td><td style=\"text-align:left;white-space:pre\">North Island Brown Kiwi</td><td style=\"text-align:left;white-space:pre\"></td></tr></table></body></html>"
      ]
     },
     "metadata": {},
     "output_type": "display_data"
    }
   ],
   "source": [
    "SELECT bird_id, scientific_name, common_name,endangered\n",
    "FROM birds_new\n",
    "WHERE endangered;"
   ]
  },
  {
   "cell_type": "code",
   "execution_count": 58,
   "metadata": {},
   "outputs": [
    {
     "data": {
      "text/html": [
       "Query OK"
      ]
     },
     "metadata": {},
     "output_type": "display_data"
    }
   ],
   "source": [
    "#Lo anterior se pudo dejar solo WHERE endangered;\n",
    "#Porque el tipo de dato , BIT permite reconocer solo donde hay el hecho de que endagered=1;"
   ]
  },
  {
   "cell_type": "code",
   "execution_count": 59,
   "metadata": {},
   "outputs": [
    {
     "data": {
      "text/html": [
       "<html><body><table border=\"1\"><tr><th style=\"text-align:left;white-space:pre\">bird_id</th><th style=\"text-align:left;white-space:pre\">scientific_name</th><th style=\"text-align:left;white-space:pre\">common_name</th><th style=\"text-align:left;white-space:pre\">family_id</th><th style=\"text-align:left;white-space:pre\">wing_ig</th><th style=\"text-align:left;white-space:pre\">body_id</th><th style=\"text-align:left;white-space:pre\">bill_id</th><th style=\"text-align:left;white-space:pre\">endangered</th><th style=\"text-align:left;white-space:pre\">description</th></tr><tr><td style=\"text-align:left;white-space:pre\">1</td><td style=\"text-align:left;white-space:pre\">Charadrius vociferus</td><td style=\"text-align:left;white-space:pre\">Killdeer</td><td style=\"text-align:left;white-space:pre\">NULL</td><td style=\"text-align:left;white-space:pre\">NULL</td><td style=\"text-align:left;white-space:pre\">NULL</td><td style=\"text-align:left;white-space:pre\">NULL</td><td style=\"text-align:left;white-space:pre\"> </td><td style=\"text-align:left;white-space:pre\">NULL</td></tr><tr><td style=\"text-align:left;white-space:pre\">2</td><td style=\"text-align:left;white-space:pre\">Gavia immer</td><td style=\"text-align:left;white-space:pre\">Great Northern Loon</td><td style=\"text-align:left;white-space:pre\">NULL</td><td style=\"text-align:left;white-space:pre\">NULL</td><td style=\"text-align:left;white-space:pre\">NULL</td><td style=\"text-align:left;white-space:pre\">NULL</td><td style=\"text-align:left;white-space:pre\"> </td><td style=\"text-align:left;white-space:pre\">NULL</td></tr><tr><td style=\"text-align:left;white-space:pre\">4</td><td style=\"text-align:left;white-space:pre\">Chordeiles minor</td><td style=\"text-align:left;white-space:pre\">Common Nighthawk</td><td style=\"text-align:left;white-space:pre\">NULL</td><td style=\"text-align:left;white-space:pre\">NULL</td><td style=\"text-align:left;white-space:pre\">NULL</td><td style=\"text-align:left;white-space:pre\">NULL</td><td style=\"text-align:left;white-space:pre\"> </td><td style=\"text-align:left;white-space:pre\">NULL</td></tr><tr><td style=\"text-align:left;white-space:pre\">5</td><td style=\"text-align:left;white-space:pre\">Sitta carolinensis</td><td style=\"text-align:left;white-space:pre\"> White-breasted Nuthatch</td><td style=\"text-align:left;white-space:pre\">NULL</td><td style=\"text-align:left;white-space:pre\">NULL</td><td style=\"text-align:left;white-space:pre\">NULL</td><td style=\"text-align:left;white-space:pre\">NULL</td><td style=\"text-align:left;white-space:pre\"> </td><td style=\"text-align:left;white-space:pre\">NULL</td></tr></table></body></html>"
      ]
     },
     "metadata": {},
     "output_type": "display_data"
    }
   ],
   "source": [
    "SELECT * FROM birds_new\n",
    "WHERE NOT endangered;"
   ]
  },
  {
   "cell_type": "code",
   "execution_count": 60,
   "metadata": {},
   "outputs": [
    {
     "data": {
      "text/html": [
       "Query OK"
      ]
     },
     "metadata": {},
     "output_type": "display_data"
    }
   ],
   "source": [
    "#Lo anterior solo supone que, no existe un valor en endangered;"
   ]
  },
  {
   "cell_type": "code",
   "execution_count": 66,
   "metadata": {},
   "outputs": [
    {
     "data": {
      "text/html": [
       "Query OK"
      ]
     },
     "metadata": {},
     "output_type": "display_data"
    }
   ],
   "source": [
    "UPDATE birds_new SET endangered=1;"
   ]
  },
  {
   "cell_type": "code",
   "execution_count": 70,
   "metadata": {},
   "outputs": [
    {
     "data": {
      "text/html": [
       "Query OK"
      ]
     },
     "metadata": {},
     "output_type": "display_data"
    }
   ],
   "source": [
    "#LO anterior es por actualizar a tods con valores de 1;"
   ]
  },
  {
   "cell_type": "code",
   "execution_count": 67,
   "metadata": {},
   "outputs": [
    {
     "data": {
      "text/html": [
       "Stage: 2 of 2 'Enabling keys'      0% of stage done\r",
       "                                                   \r"
      ]
     },
     "metadata": {},
     "output_type": "display_data"
    }
   ],
   "source": [
    "ALTER TABLE birds_new\n",
    "MODIFY COLUMN endangered\n",
    "ENUM('Extinct',\n",
    "'Extinct in Wild',\n",
    "'Threatened - Critically Endangered',\n",
    "'Threatened - Endangered',\n",
    "'Threatened - Vulnerable',\n",
    "'Lower Risk - Conservation Dependent',\n",
    "'Lower Risk - Near Threatened',\n",
    "'Lower Risk - Least Concern')\n",
    "AFTER family_id;"
   ]
  },
  {
   "cell_type": "code",
   "execution_count": 68,
   "metadata": {},
   "outputs": [
    {
     "data": {
      "text/html": [
       "<html><body><table border=\"1\"><tr><th style=\"text-align:left;white-space:pre\">Field</th><th style=\"text-align:left;white-space:pre\">Type</th><th style=\"text-align:left;white-space:pre\">Null</th><th style=\"text-align:left;white-space:pre\">Key</th><th style=\"text-align:left;white-space:pre\">Default</th><th style=\"text-align:left;white-space:pre\">Extra</th></tr><tr><td style=\"text-align:left;white-space:pre\">endangered</td><td style=\"text-align:left;white-space:pre\">enum('Extinct','Extinct in Wild','Threatened - Critically Endangered','Threatened - Endangered','Threatened - Vulnerable','Lower Risk - Conservation Dependent','Lower Risk - Near Threatened','Lower Risk - Least Concern')</td><td style=\"text-align:left;white-space:pre\">YES</td><td style=\"text-align:left;white-space:pre\"></td><td style=\"text-align:left;white-space:pre\">NULL</td><td style=\"text-align:left;white-space:pre\"></td></tr></table></body></html>"
      ]
     },
     "metadata": {},
     "output_type": "display_data"
    }
   ],
   "source": [
    "SHOW COLUMNS FROM birds_new LIKE 'endangered';"
   ]
  },
  {
   "cell_type": "code",
   "execution_count": 75,
   "metadata": {},
   "outputs": [
    {
     "data": {
      "text/html": [
       "Query OK"
      ]
     },
     "metadata": {},
     "output_type": "display_data"
    }
   ],
   "source": [
    "UPDATE birds_new\n",
    "SET endangered=8;"
   ]
  },
  {
   "cell_type": "code",
   "execution_count": 78,
   "metadata": {},
   "outputs": [
    {
     "data": {
      "text/html": [
       "Query OK"
      ]
     },
     "metadata": {},
     "output_type": "display_data"
    }
   ],
   "source": [
    "#Ajusta con numeros los valores predeterminados anteriormente de endangered;"
   ]
  },
  {
   "cell_type": "code",
   "execution_count": 76,
   "metadata": {},
   "outputs": [
    {
     "data": {
      "text/html": [
       "<html><body><table border=\"1\"><tr><th style=\"text-align:left;white-space:pre\">Field</th><th style=\"text-align:left;white-space:pre\">Type</th><th style=\"text-align:left;white-space:pre\">Null</th><th style=\"text-align:left;white-space:pre\">Key</th><th style=\"text-align:left;white-space:pre\">Default</th><th style=\"text-align:left;white-space:pre\">Extra</th></tr><tr><td style=\"text-align:left;white-space:pre\">bird_id</td><td style=\"text-align:left;white-space:pre\">int(11)</td><td style=\"text-align:left;white-space:pre\">NO</td><td style=\"text-align:left;white-space:pre\">PRI</td><td style=\"text-align:left;white-space:pre\">NULL</td><td style=\"text-align:left;white-space:pre\">auto_increment</td></tr><tr><td style=\"text-align:left;white-space:pre\">scientific_name</td><td style=\"text-align:left;white-space:pre\">varchar(255)</td><td style=\"text-align:left;white-space:pre\">YES</td><td style=\"text-align:left;white-space:pre\">UNI</td><td style=\"text-align:left;white-space:pre\">NULL</td><td style=\"text-align:left;white-space:pre\"></td></tr><tr><td style=\"text-align:left;white-space:pre\">common_name</td><td style=\"text-align:left;white-space:pre\">varchar(255)</td><td style=\"text-align:left;white-space:pre\">YES</td><td style=\"text-align:left;white-space:pre\"></td><td style=\"text-align:left;white-space:pre\">NULL</td><td style=\"text-align:left;white-space:pre\"></td></tr><tr><td style=\"text-align:left;white-space:pre\">family_id</td><td style=\"text-align:left;white-space:pre\">int(11)</td><td style=\"text-align:left;white-space:pre\">YES</td><td style=\"text-align:left;white-space:pre\"></td><td style=\"text-align:left;white-space:pre\">NULL</td><td style=\"text-align:left;white-space:pre\"></td></tr><tr><td style=\"text-align:left;white-space:pre\">endangered</td><td style=\"text-align:left;white-space:pre\">enum('Extinct','Extinct in Wild','Threatened - Critically Endangered','Threatened - Endangered','Threatened - Vulnerable','Lower Risk - Conservation Dependent','Lower Risk - Near Threatened','Lower Risk - Least Concern')</td><td style=\"text-align:left;white-space:pre\">YES</td><td style=\"text-align:left;white-space:pre\"></td><td style=\"text-align:left;white-space:pre\">NULL</td><td style=\"text-align:left;white-space:pre\"></td></tr><tr><td style=\"text-align:left;white-space:pre\">wing_ig</td><td style=\"text-align:left;white-space:pre\">char(2)</td><td style=\"text-align:left;white-space:pre\">YES</td><td style=\"text-align:left;white-space:pre\"></td><td style=\"text-align:left;white-space:pre\">NULL</td><td style=\"text-align:left;white-space:pre\"></td></tr><tr><td style=\"text-align:left;white-space:pre\">body_id</td><td style=\"text-align:left;white-space:pre\">char(2)</td><td style=\"text-align:left;white-space:pre\">YES</td><td style=\"text-align:left;white-space:pre\"></td><td style=\"text-align:left;white-space:pre\">NULL</td><td style=\"text-align:left;white-space:pre\"></td></tr><tr><td style=\"text-align:left;white-space:pre\">bill_id</td><td style=\"text-align:left;white-space:pre\">char(2)</td><td style=\"text-align:left;white-space:pre\">YES</td><td style=\"text-align:left;white-space:pre\"></td><td style=\"text-align:left;white-space:pre\">NULL</td><td style=\"text-align:left;white-space:pre\"></td></tr><tr><td style=\"text-align:left;white-space:pre\">description</td><td style=\"text-align:left;white-space:pre\">text</td><td style=\"text-align:left;white-space:pre\">YES</td><td style=\"text-align:left;white-space:pre\"></td><td style=\"text-align:left;white-space:pre\">NULL</td><td style=\"text-align:left;white-space:pre\"></td></tr></table></body></html>"
      ]
     },
     "metadata": {},
     "output_type": "display_data"
    }
   ],
   "source": [
    "DESCRIBE birds_new;"
   ]
  },
  {
   "cell_type": "code",
   "execution_count": 77,
   "metadata": {},
   "outputs": [
    {
     "data": {
      "text/html": [
       "<html><body><table border=\"1\"><tr><th style=\"text-align:left;white-space:pre\">bird_id</th><th style=\"text-align:left;white-space:pre\">scientific_name</th><th style=\"text-align:left;white-space:pre\">common_name</th><th style=\"text-align:left;white-space:pre\">family_id</th><th style=\"text-align:left;white-space:pre\">endangered</th><th style=\"text-align:left;white-space:pre\">wing_ig</th><th style=\"text-align:left;white-space:pre\">body_id</th><th style=\"text-align:left;white-space:pre\">bill_id</th><th style=\"text-align:left;white-space:pre\">description</th></tr><tr><td style=\"text-align:left;white-space:pre\">1</td><td style=\"text-align:left;white-space:pre\">Charadrius vociferus</td><td style=\"text-align:left;white-space:pre\">Killdeer</td><td style=\"text-align:left;white-space:pre\">NULL</td><td style=\"text-align:left;white-space:pre\">Lower Risk - Least Concern</td><td style=\"text-align:left;white-space:pre\">NULL</td><td style=\"text-align:left;white-space:pre\">NULL</td><td style=\"text-align:left;white-space:pre\">NULL</td><td style=\"text-align:left;white-space:pre\">NULL</td></tr><tr><td style=\"text-align:left;white-space:pre\">2</td><td style=\"text-align:left;white-space:pre\">Gavia immer</td><td style=\"text-align:left;white-space:pre\">Great Northern Loon</td><td style=\"text-align:left;white-space:pre\">NULL</td><td style=\"text-align:left;white-space:pre\">Lower Risk - Least Concern</td><td style=\"text-align:left;white-space:pre\">NULL</td><td style=\"text-align:left;white-space:pre\">NULL</td><td style=\"text-align:left;white-space:pre\">NULL</td><td style=\"text-align:left;white-space:pre\">NULL</td></tr><tr><td style=\"text-align:left;white-space:pre\">3</td><td style=\"text-align:left;white-space:pre\">Aix sponsa</td><td style=\"text-align:left;white-space:pre\">Wood Duck</td><td style=\"text-align:left;white-space:pre\">NULL</td><td style=\"text-align:left;white-space:pre\">Lower Risk - Least Concern</td><td style=\"text-align:left;white-space:pre\">NULL</td><td style=\"text-align:left;white-space:pre\">NULL</td><td style=\"text-align:left;white-space:pre\">NULL</td><td style=\"text-align:left;white-space:pre\">NULL</td></tr><tr><td style=\"text-align:left;white-space:pre\">4</td><td style=\"text-align:left;white-space:pre\">Chordeiles minor</td><td style=\"text-align:left;white-space:pre\">Common Nighthawk</td><td style=\"text-align:left;white-space:pre\">NULL</td><td style=\"text-align:left;white-space:pre\">Lower Risk - Least Concern</td><td style=\"text-align:left;white-space:pre\">NULL</td><td style=\"text-align:left;white-space:pre\">NULL</td><td style=\"text-align:left;white-space:pre\">NULL</td><td style=\"text-align:left;white-space:pre\">NULL</td></tr><tr><td style=\"text-align:left;white-space:pre\">5</td><td style=\"text-align:left;white-space:pre\">Sitta carolinensis</td><td style=\"text-align:left;white-space:pre\"> White-breasted Nuthatch</td><td style=\"text-align:left;white-space:pre\">NULL</td><td style=\"text-align:left;white-space:pre\">Lower Risk - Least Concern</td><td style=\"text-align:left;white-space:pre\">NULL</td><td style=\"text-align:left;white-space:pre\">NULL</td><td style=\"text-align:left;white-space:pre\">NULL</td><td style=\"text-align:left;white-space:pre\">NULL</td></tr><tr><td style=\"text-align:left;white-space:pre\">6</td><td style=\"text-align:left;white-space:pre\">Apteryx mantelli</td><td style=\"text-align:left;white-space:pre\">North Island Brown Kiwi</td><td style=\"text-align:left;white-space:pre\">NULL</td><td style=\"text-align:left;white-space:pre\">Lower Risk - Least Concern</td><td style=\"text-align:left;white-space:pre\">NULL</td><td style=\"text-align:left;white-space:pre\">NULL</td><td style=\"text-align:left;white-space:pre\">NULL</td><td style=\"text-align:left;white-space:pre\">NULL</td></tr></table></body></html>"
      ]
     },
     "metadata": {},
     "output_type": "display_data"
    }
   ],
   "source": [
    "SELECT * FROM birds_new;"
   ]
  },
  {
   "cell_type": "markdown",
   "metadata": {},
   "source": [
    "# Dynamic Columns"
   ]
  },
  {
   "cell_type": "code",
   "execution_count": 79,
   "metadata": {},
   "outputs": [
    {
     "data": {
      "text/html": [
       "<html><body><table border=\"1\"><tr><th style=\"text-align:left;white-space:pre\">Tables_in_test</th></tr><tr><td style=\"text-align:left;white-space:pre\">birds_new</td></tr><tr><td style=\"text-align:left;white-space:pre\">books</td></tr><tr><td style=\"text-align:left;white-space:pre\">status_names</td></tr></table></body></html>"
      ]
     },
     "metadata": {},
     "output_type": "display_data"
    }
   ],
   "source": [
    "SHOW TABLES;"
   ]
  },
  {
   "cell_type": "code",
   "execution_count": 80,
   "metadata": {},
   "outputs": [
    {
     "data": {
      "text/html": [
       "Query OK"
      ]
     },
     "metadata": {},
     "output_type": "display_data"
    }
   ],
   "source": [
    "USE rookery;"
   ]
  },
  {
   "cell_type": "code",
   "execution_count": 81,
   "metadata": {},
   "outputs": [
    {
     "data": {
      "text/html": [
       "<html><body><table border=\"1\"><tr><th style=\"text-align:left;white-space:pre\">Tables_in_rookery</th></tr><tr><td style=\"text-align:left;white-space:pre\">bird_families</td></tr><tr><td style=\"text-align:left;white-space:pre\">bird_orders</td></tr><tr><td style=\"text-align:left;white-space:pre\">birds</td></tr></table></body></html>"
      ]
     },
     "metadata": {},
     "output_type": "display_data"
    }
   ],
   "source": [
    "SHow tables;"
   ]
  },
  {
   "cell_type": "code",
   "execution_count": 82,
   "metadata": {},
   "outputs": [
    {
     "data": {
      "text/html": [
       "Query OK"
      ]
     },
     "metadata": {},
     "output_type": "display_data"
    }
   ],
   "source": [
    "USE birdwatchers;"
   ]
  },
  {
   "cell_type": "code",
   "execution_count": 83,
   "metadata": {},
   "outputs": [
    {
     "data": {
      "text/html": [
       "<html><body><table border=\"1\"><tr><th style=\"text-align:left;white-space:pre\">Tables_in_birdwatchers</th></tr><tr><td style=\"text-align:left;white-space:pre\">humans</td></tr></table></body></html>"
      ]
     },
     "metadata": {},
     "output_type": "display_data"
    }
   ],
   "source": [
    "show tables;"
   ]
  },
  {
   "cell_type": "code",
   "execution_count": 84,
   "metadata": {},
   "outputs": [
    {
     "data": {
      "text/html": [
       "Query OK"
      ]
     },
     "metadata": {},
     "output_type": "display_data"
    }
   ],
   "source": [
    "USE birdwatchers;\n",
    "CREATE TABLE surveys\n",
    "(survey_id INT AUTO_INCREMENT KEY,\n",
    "survey_name VARCHAR(255));\n",
    "CREATE TABLE survey_questions\n",
    "(question_id INT AUTO_INCREMENT KEY,\n",
    "survey_id INT,\n",
    "question VARCHAR(255),\n",
    "choices BLOB);\n",
    "CREATE TABLE survey_answers\n",
    "(answer_id INT AUTO_INCREMENT KEY,\n",
    "human_id INT,\n",
    "question_id INT,\n",
    "date_answered DATETIME,\n",
    "answer VARCHAR(255));"
   ]
  },
  {
   "cell_type": "code",
   "execution_count": 85,
   "metadata": {},
   "outputs": [
    {
     "data": {
      "text/html": [
       "<html><body><table border=\"1\"><tr><th style=\"text-align:left;white-space:pre\">Tables_in_birdwatchers</th></tr><tr><td style=\"text-align:left;white-space:pre\">humans</td></tr><tr><td style=\"text-align:left;white-space:pre\">survey_answers</td></tr><tr><td style=\"text-align:left;white-space:pre\">survey_questions</td></tr><tr><td style=\"text-align:left;white-space:pre\">surveys</td></tr></table></body></html>"
      ]
     },
     "metadata": {},
     "output_type": "display_data"
    }
   ],
   "source": [
    "SHOW TABLES;"
   ]
  },
  {
   "cell_type": "code",
   "execution_count": 86,
   "metadata": {},
   "outputs": [
    {
     "data": {
      "text/html": [
       "Query OK"
      ]
     },
     "metadata": {},
     "output_type": "display_data"
    }
   ],
   "source": [
    "#AHora vamos a insertar datos;"
   ]
  },
  {
   "cell_type": "code",
   "execution_count": 87,
   "metadata": {},
   "outputs": [
    {
     "data": {
      "text/html": [
       "Query OK"
      ]
     },
     "metadata": {},
     "output_type": "display_data"
    }
   ],
   "source": [
    "INSERT INTO surveys (survey_name)\n",
    "VALUES(\"Favorite Birding Location\");\n",
    "\n",
    "INSERT INTO survey_questions\n",
    "(survey_id, question, choices)\n",
    "VALUES(LAST_INSERT_ID(),\n",
    "\"What's your favorite setting for bird-watching?\",\n",
    "COLUMN_CREATE('1', 'forest', '2', 'shore', '3', 'backyard') );\n",
    "\n",
    "INSERT INTO surveys (survey_name)\n",
    "VALUES(\"Preferred Birds\");\n",
    "\n",
    "INSERT INTO survey_questions\n",
    "(survey_id, question, choices)\n",
    "VALUES(LAST_INSERT_ID(),\n",
    "\"Which type of birds do you like best?\",\n",
    "COLUMN_CREATE('1', 'perching', '2', 'shore', '3', 'fowl', '4', 'rapture') );"
   ]
  },
  {
   "cell_type": "code",
   "execution_count": 88,
   "metadata": {},
   "outputs": [
    {
     "data": {
      "text/html": [
       "<html><body><table border=\"1\"><tr><th style=\"text-align:left;white-space:pre\">Field</th><th style=\"text-align:left;white-space:pre\">Type</th><th style=\"text-align:left;white-space:pre\">Null</th><th style=\"text-align:left;white-space:pre\">Key</th><th style=\"text-align:left;white-space:pre\">Default</th><th style=\"text-align:left;white-space:pre\">Extra</th></tr><tr><td style=\"text-align:left;white-space:pre\">question_id</td><td style=\"text-align:left;white-space:pre\">int(11)</td><td style=\"text-align:left;white-space:pre\">NO</td><td style=\"text-align:left;white-space:pre\">PRI</td><td style=\"text-align:left;white-space:pre\">NULL</td><td style=\"text-align:left;white-space:pre\">auto_increment</td></tr><tr><td style=\"text-align:left;white-space:pre\">survey_id</td><td style=\"text-align:left;white-space:pre\">int(11)</td><td style=\"text-align:left;white-space:pre\">YES</td><td style=\"text-align:left;white-space:pre\"></td><td style=\"text-align:left;white-space:pre\">NULL</td><td style=\"text-align:left;white-space:pre\"></td></tr><tr><td style=\"text-align:left;white-space:pre\">question</td><td style=\"text-align:left;white-space:pre\">varchar(255)</td><td style=\"text-align:left;white-space:pre\">YES</td><td style=\"text-align:left;white-space:pre\"></td><td style=\"text-align:left;white-space:pre\">NULL</td><td style=\"text-align:left;white-space:pre\"></td></tr><tr><td style=\"text-align:left;white-space:pre\">choices</td><td style=\"text-align:left;white-space:pre\">blob</td><td style=\"text-align:left;white-space:pre\">YES</td><td style=\"text-align:left;white-space:pre\"></td><td style=\"text-align:left;white-space:pre\">NULL</td><td style=\"text-align:left;white-space:pre\"></td></tr></table></body></html>"
      ]
     },
     "metadata": {},
     "output_type": "display_data"
    }
   ],
   "source": [
    "DESCRIBE survey_questions;"
   ]
  },
  {
   "cell_type": "code",
   "execution_count": 91,
   "metadata": {},
   "outputs": [
    {
     "data": {
      "text/html": [
       "<html><body><table border=\"1\"><tr><th style=\"text-align:left;white-space:pre\">survey_id</th><th style=\"text-align:left;white-space:pre\">survey_name</th></tr><tr><td style=\"text-align:left;white-space:pre\">1</td><td style=\"text-align:left;white-space:pre\">Favorite Birding Location</td></tr><tr><td style=\"text-align:left;white-space:pre\">2</td><td style=\"text-align:left;white-space:pre\">Preferred Birds</td></tr></table></body></html>"
      ]
     },
     "metadata": {},
     "output_type": "display_data"
    }
   ],
   "source": [
    "SELECT * FROM surveys;"
   ]
  },
  {
   "cell_type": "code",
   "execution_count": 92,
   "metadata": {},
   "outputs": [
    {
     "data": {
      "text/html": [
       "<html><body><table border=\"1\"><tr><th style=\"text-align:left;white-space:pre\">Location</th></tr><tr><td style=\"text-align:left;white-space:pre\">backyard</td></tr></table></body></html>"
      ]
     },
     "metadata": {},
     "output_type": "display_data"
    }
   ],
   "source": [
    "SELECT COLUMN_GET(choices, 3 AS CHAR)\n",
    "AS 'Location'\n",
    "FROM survey_questions\n",
    "WHERE survey_id = 1;"
   ]
  },
  {
   "cell_type": "code",
   "execution_count": 93,
   "metadata": {},
   "outputs": [
    {
     "data": {
      "text/html": [
       "Query OK"
      ]
     },
     "metadata": {},
     "output_type": "display_data"
    }
   ],
   "source": [
    "INSERT INTO survey_answers\n",
    "(human_id, question_id, date_answered, answer)\n",
    "VALUES\n",
    "(29, 1, NOW(), 2),\n",
    "(29, 2, NOW(), 2),\n",
    "(35, 1, NOW(), 1),\n",
    "(35, 2, NOW(), 1),\n",
    "(26, 1, NOW(), 2),\n",
    "(26, 2, NOW(), 1),\n",
    "(27, 1, NOW(), 2),\n",
    "(27, 2, NOW(), 4),\n",
    "(16, 1, NOW(), 3),\n",
    "(3, 1, NOW(), 1),\n",
    "(3, 2, NOW(), 1);"
   ]
  },
  {
   "cell_type": "code",
   "execution_count": 94,
   "metadata": {},
   "outputs": [
    {
     "data": {
      "text/html": [
       "<html><body><table border=\"1\"><tr><th style=\"text-align:left;white-space:pre\">Birding Site</th><th style=\"text-align:left;white-space:pre\">Votes</th></tr><tr><td style=\"text-align:left;white-space:pre\">forest</td><td style=\"text-align:left;white-space:pre\">2</td></tr><tr><td style=\"text-align:left;white-space:pre\">shore</td><td style=\"text-align:left;white-space:pre\">3</td></tr><tr><td style=\"text-align:left;white-space:pre\">backyard</td><td style=\"text-align:left;white-space:pre\">1</td></tr><tr><td style=\"text-align:left;white-space:pre\">total</td><td style=\"text-align:left;white-space:pre\">6</td></tr></table></body></html>"
      ]
     },
     "metadata": {},
     "output_type": "display_data"
    }
   ],
   "source": [
    "SELECT IFNULL(COLUMN_GET(choices, answer AS CHAR), 'total')\n",
    "AS 'Birding Site', COUNT(*) AS 'Votes'\n",
    "FROM survey_answers\n",
    "JOIN survey_questions USING(question_id)\n",
    "WHERE survey_id = 1\n",
    "AND question_id = 1\n",
    "GROUP BY answer WITH ROLLUP;"
   ]
  },
  {
   "cell_type": "code",
   "execution_count": 95,
   "metadata": {},
   "outputs": [
    {
     "data": {
      "text/html": [
       "<html><body><table border=\"1\"><tr><th style=\"text-align:left;white-space:pre\">Field</th><th style=\"text-align:left;white-space:pre\">Type</th><th style=\"text-align:left;white-space:pre\">Null</th><th style=\"text-align:left;white-space:pre\">Key</th><th style=\"text-align:left;white-space:pre\">Default</th><th style=\"text-align:left;white-space:pre\">Extra</th></tr><tr><td style=\"text-align:left;white-space:pre\">answer_id</td><td style=\"text-align:left;white-space:pre\">int(11)</td><td style=\"text-align:left;white-space:pre\">NO</td><td style=\"text-align:left;white-space:pre\">PRI</td><td style=\"text-align:left;white-space:pre\">NULL</td><td style=\"text-align:left;white-space:pre\">auto_increment</td></tr><tr><td style=\"text-align:left;white-space:pre\">human_id</td><td style=\"text-align:left;white-space:pre\">int(11)</td><td style=\"text-align:left;white-space:pre\">YES</td><td style=\"text-align:left;white-space:pre\"></td><td style=\"text-align:left;white-space:pre\">NULL</td><td style=\"text-align:left;white-space:pre\"></td></tr><tr><td style=\"text-align:left;white-space:pre\">question_id</td><td style=\"text-align:left;white-space:pre\">int(11)</td><td style=\"text-align:left;white-space:pre\">YES</td><td style=\"text-align:left;white-space:pre\"></td><td style=\"text-align:left;white-space:pre\">NULL</td><td style=\"text-align:left;white-space:pre\"></td></tr><tr><td style=\"text-align:left;white-space:pre\">date_answered</td><td style=\"text-align:left;white-space:pre\">datetime</td><td style=\"text-align:left;white-space:pre\">YES</td><td style=\"text-align:left;white-space:pre\"></td><td style=\"text-align:left;white-space:pre\">NULL</td><td style=\"text-align:left;white-space:pre\"></td></tr><tr><td style=\"text-align:left;white-space:pre\">answer</td><td style=\"text-align:left;white-space:pre\">varchar(255)</td><td style=\"text-align:left;white-space:pre\">YES</td><td style=\"text-align:left;white-space:pre\"></td><td style=\"text-align:left;white-space:pre\">NULL</td><td style=\"text-align:left;white-space:pre\"></td></tr></table></body></html>"
      ]
     },
     "metadata": {},
     "output_type": "display_data"
    }
   ],
   "source": [
    "DESCRIBE survey_answers;"
   ]
  },
  {
   "cell_type": "code",
   "execution_count": 96,
   "metadata": {},
   "outputs": [
    {
     "data": {
      "text/html": [
       "<html><body><table border=\"1\"><tr><th style=\"text-align:left;white-space:pre\">answer_id</th><th style=\"text-align:left;white-space:pre\">human_id</th><th style=\"text-align:left;white-space:pre\">question_id</th><th style=\"text-align:left;white-space:pre\">date_answered</th><th style=\"text-align:left;white-space:pre\">answer</th></tr><tr><td style=\"text-align:left;white-space:pre\">1</td><td style=\"text-align:left;white-space:pre\">29</td><td style=\"text-align:left;white-space:pre\">1</td><td style=\"text-align:left;white-space:pre\">2021-04-04 18:41:57</td><td style=\"text-align:left;white-space:pre\">2</td></tr><tr><td style=\"text-align:left;white-space:pre\">2</td><td style=\"text-align:left;white-space:pre\">29</td><td style=\"text-align:left;white-space:pre\">2</td><td style=\"text-align:left;white-space:pre\">2021-04-04 18:41:57</td><td style=\"text-align:left;white-space:pre\">2</td></tr><tr><td style=\"text-align:left;white-space:pre\">3</td><td style=\"text-align:left;white-space:pre\">35</td><td style=\"text-align:left;white-space:pre\">1</td><td style=\"text-align:left;white-space:pre\">2021-04-04 18:41:57</td><td style=\"text-align:left;white-space:pre\">1</td></tr><tr><td style=\"text-align:left;white-space:pre\">4</td><td style=\"text-align:left;white-space:pre\">35</td><td style=\"text-align:left;white-space:pre\">2</td><td style=\"text-align:left;white-space:pre\">2021-04-04 18:41:57</td><td style=\"text-align:left;white-space:pre\">1</td></tr><tr><td style=\"text-align:left;white-space:pre\">5</td><td style=\"text-align:left;white-space:pre\">26</td><td style=\"text-align:left;white-space:pre\">1</td><td style=\"text-align:left;white-space:pre\">2021-04-04 18:41:57</td><td style=\"text-align:left;white-space:pre\">2</td></tr><tr><td style=\"text-align:left;white-space:pre\">6</td><td style=\"text-align:left;white-space:pre\">26</td><td style=\"text-align:left;white-space:pre\">2</td><td style=\"text-align:left;white-space:pre\">2021-04-04 18:41:57</td><td style=\"text-align:left;white-space:pre\">1</td></tr><tr><td style=\"text-align:left;white-space:pre\">7</td><td style=\"text-align:left;white-space:pre\">27</td><td style=\"text-align:left;white-space:pre\">1</td><td style=\"text-align:left;white-space:pre\">2021-04-04 18:41:57</td><td style=\"text-align:left;white-space:pre\">2</td></tr><tr><td style=\"text-align:left;white-space:pre\">8</td><td style=\"text-align:left;white-space:pre\">27</td><td style=\"text-align:left;white-space:pre\">2</td><td style=\"text-align:left;white-space:pre\">2021-04-04 18:41:57</td><td style=\"text-align:left;white-space:pre\">4</td></tr><tr><td style=\"text-align:left;white-space:pre\">9</td><td style=\"text-align:left;white-space:pre\">16</td><td style=\"text-align:left;white-space:pre\">1</td><td style=\"text-align:left;white-space:pre\">2021-04-04 18:41:57</td><td style=\"text-align:left;white-space:pre\">3</td></tr><tr><td style=\"text-align:left;white-space:pre\">10</td><td style=\"text-align:left;white-space:pre\">3</td><td style=\"text-align:left;white-space:pre\">1</td><td style=\"text-align:left;white-space:pre\">2021-04-04 18:41:57</td><td style=\"text-align:left;white-space:pre\">1</td></tr><tr><td style=\"text-align:left;white-space:pre\">11</td><td style=\"text-align:left;white-space:pre\">3</td><td style=\"text-align:left;white-space:pre\">2</td><td style=\"text-align:left;white-space:pre\">2021-04-04 18:41:57</td><td style=\"text-align:left;white-space:pre\">1</td></tr></table></body></html>"
      ]
     },
     "metadata": {},
     "output_type": "display_data"
    }
   ],
   "source": [
    "SELECT * FROM survey_answers;"
   ]
  },
  {
   "cell_type": "code",
   "execution_count": 101,
   "metadata": {},
   "outputs": [
    {
     "data": {
      "text/html": [
       "<html><body><table border=\"1\"><tr><th style=\"text-align:left;white-space:pre\">survey_id</th><th style=\"text-align:left;white-space:pre\">survey_name</th></tr><tr><td style=\"text-align:left;white-space:pre\">1</td><td style=\"text-align:left;white-space:pre\">Favorite Birding Location</td></tr><tr><td style=\"text-align:left;white-space:pre\">2</td><td style=\"text-align:left;white-space:pre\">Preferred Birds</td></tr></table></body></html>"
      ]
     },
     "metadata": {},
     "output_type": "display_data"
    }
   ],
   "source": [
    "SELECT * FROM surveys;"
   ]
  },
  {
   "cell_type": "markdown",
   "metadata": {},
   "source": [
    "# Setting a Column's Default Value"
   ]
  },
  {
   "cell_type": "code",
   "execution_count": 103,
   "metadata": {},
   "outputs": [
    {
     "data": {
      "text/html": [
       "Query OK"
      ]
     },
     "metadata": {},
     "output_type": "display_data"
    }
   ],
   "source": [
    "CREATE TABLE rookery.conservation_status\n",
    "(status_id INT AUTO_INCREMENT PRIMARY KEY,\n",
    "conservation_category CHAR(10),\n",
    "conservation_state CHAR(25) );"
   ]
  },
  {
   "cell_type": "code",
   "execution_count": 104,
   "metadata": {},
   "outputs": [
    {
     "data": {
      "text/html": [
       "Query OK"
      ]
     },
     "metadata": {},
     "output_type": "display_data"
    }
   ],
   "source": [
    "INSERT INTO rookery.conservation_status\n",
    "(conservation_category, conservation_state)\n",
    "VALUES('Extinct','Extinct'),\n",
    "('Extinct','Extinct in Wild'),\n",
    "('Threatened','Critically Endangered'),\n",
    "('Threatened','Endangered'),\n",
    "('Threatened','Vulnerable'),\n",
    "('Lower Risk','Conservation Dependent'),\n",
    "('Lower Risk','Near Threatened'),\n",
    "('Lower Risk','Least Concern');"
   ]
  },
  {
   "cell_type": "code",
   "execution_count": 105,
   "metadata": {},
   "outputs": [
    {
     "data": {
      "text/html": [
       "<html><body><table border=\"1\"><tr><th style=\"text-align:left;white-space:pre\">status_id</th><th style=\"text-align:left;white-space:pre\">conservation_category</th><th style=\"text-align:left;white-space:pre\">conservation_state</th></tr><tr><td style=\"text-align:left;white-space:pre\">1</td><td style=\"text-align:left;white-space:pre\">Extinct</td><td style=\"text-align:left;white-space:pre\">Extinct</td></tr><tr><td style=\"text-align:left;white-space:pre\">2</td><td style=\"text-align:left;white-space:pre\">Extinct</td><td style=\"text-align:left;white-space:pre\">Extinct in Wild</td></tr><tr><td style=\"text-align:left;white-space:pre\">3</td><td style=\"text-align:left;white-space:pre\">Threatened</td><td style=\"text-align:left;white-space:pre\">Critically Endangered</td></tr><tr><td style=\"text-align:left;white-space:pre\">4</td><td style=\"text-align:left;white-space:pre\">Threatened</td><td style=\"text-align:left;white-space:pre\">Endangered</td></tr><tr><td style=\"text-align:left;white-space:pre\">5</td><td style=\"text-align:left;white-space:pre\">Threatened</td><td style=\"text-align:left;white-space:pre\">Vulnerable</td></tr><tr><td style=\"text-align:left;white-space:pre\">6</td><td style=\"text-align:left;white-space:pre\">Lower Risk</td><td style=\"text-align:left;white-space:pre\">Conservation Dependent</td></tr><tr><td style=\"text-align:left;white-space:pre\">7</td><td style=\"text-align:left;white-space:pre\">Lower Risk</td><td style=\"text-align:left;white-space:pre\">Near Threatened</td></tr><tr><td style=\"text-align:left;white-space:pre\">8</td><td style=\"text-align:left;white-space:pre\">Lower Risk</td><td style=\"text-align:left;white-space:pre\">Least Concern</td></tr></table></body></html>"
      ]
     },
     "metadata": {},
     "output_type": "display_data"
    }
   ],
   "source": [
    "SELECT * FROM rookery.conservation_status;"
   ]
  },
  {
   "cell_type": "code",
   "execution_count": 107,
   "metadata": {},
   "outputs": [
    {
     "data": {
      "text/html": [
       "<html><body><table border=\"1\"><tr><th style=\"text-align:left;white-space:pre\">Tables_in_birdwatchers</th></tr><tr><td style=\"text-align:left;white-space:pre\">humans</td></tr><tr><td style=\"text-align:left;white-space:pre\">survey_answers</td></tr><tr><td style=\"text-align:left;white-space:pre\">survey_questions</td></tr><tr><td style=\"text-align:left;white-space:pre\">surveys</td></tr></table></body></html>"
      ]
     },
     "metadata": {},
     "output_type": "display_data"
    }
   ],
   "source": [
    "show tables;"
   ]
  },
  {
   "cell_type": "code",
   "execution_count": 108,
   "metadata": {},
   "outputs": [
    {
     "data": {
      "text/html": [
       "Query OK"
      ]
     },
     "metadata": {},
     "output_type": "display_data"
    }
   ],
   "source": [
    "Use rookery;"
   ]
  },
  {
   "cell_type": "code",
   "execution_count": 110,
   "metadata": {},
   "outputs": [
    {
     "data": {
      "text/html": [
       "<html><body><table border=\"1\"><tr><th style=\"text-align:left;white-space:pre\">Tables_in_rookery</th></tr><tr><td style=\"text-align:left;white-space:pre\">bird_families</td></tr><tr><td style=\"text-align:left;white-space:pre\">bird_orders</td></tr><tr><td style=\"text-align:left;white-space:pre\">birds</td></tr><tr><td style=\"text-align:left;white-space:pre\">conservation_status</td></tr></table></body></html>"
      ]
     },
     "metadata": {},
     "output_type": "display_data"
    }
   ],
   "source": [
    "show tables;"
   ]
  },
  {
   "cell_type": "code",
   "execution_count": 112,
   "metadata": {},
   "outputs": [
    {
     "data": {
      "text/html": [
       "Query OK"
      ]
     },
     "metadata": {},
     "output_type": "display_data"
    }
   ],
   "source": [
    "use test;"
   ]
  },
  {
   "cell_type": "code",
   "execution_count": 113,
   "metadata": {},
   "outputs": [
    {
     "data": {
      "text/html": [
       "<html><body><table border=\"1\"><tr><th style=\"text-align:left;white-space:pre\">Tables_in_test</th></tr><tr><td style=\"text-align:left;white-space:pre\">birds_new</td></tr><tr><td style=\"text-align:left;white-space:pre\">books</td></tr><tr><td style=\"text-align:left;white-space:pre\">status_names</td></tr></table></body></html>"
      ]
     },
     "metadata": {},
     "output_type": "display_data"
    }
   ],
   "source": [
    "show tables;"
   ]
  },
  {
   "cell_type": "code",
   "execution_count": 114,
   "metadata": {},
   "outputs": [
    {
     "data": {
      "text/html": [
       "Stage: 2 of 2 'Enabling keys'      0% of stage done\r",
       "                                                   \r"
      ]
     },
     "metadata": {},
     "output_type": "display_data"
    }
   ],
   "source": [
    "ALTER TABLE birds_new\n",
    "CHANGE COLUMN endangered conservation_status_id INT DEFAULT 8;"
   ]
  },
  {
   "cell_type": "code",
   "execution_count": 115,
   "metadata": {},
   "outputs": [
    {
     "data": {
      "text/html": [
       "Query OK"
      ]
     },
     "metadata": {},
     "output_type": "display_data"
    }
   ],
   "source": [
    "ALTER TABLE birds_new\n",
    "ALTER conservation_status_id SET DEFAULT 7;"
   ]
  },
  {
   "cell_type": "code",
   "execution_count": 116,
   "metadata": {},
   "outputs": [
    {
     "data": {
      "text/html": [
       "Query OK"
      ]
     },
     "metadata": {},
     "output_type": "display_data"
    }
   ],
   "source": [
    "ALTER TABLE birds_new\n",
    "ALTER conservation_status_id DROP DEFAULT;"
   ]
  },
  {
   "cell_type": "markdown",
   "metadata": {},
   "source": [
    "# Setting the Value of AUTO_INCREMENT"
   ]
  },
  {
   "cell_type": "code",
   "execution_count": 117,
   "metadata": {},
   "outputs": [
    {
     "data": {
      "text/html": [
       "<html><body><table border=\"1\"><tr><th style=\"text-align:left;white-space:pre\">auto_increment</th></tr><tr><td style=\"text-align:left;white-space:pre\">7</td></tr></table></body></html>"
      ]
     },
     "metadata": {},
     "output_type": "display_data"
    }
   ],
   "source": [
    "SELECT auto_increment\n",
    "FROM information_schema.tables\n",
    "WHERE table_name = 'birds';"
   ]
  },
  {
   "cell_type": "code",
   "execution_count": 118,
   "metadata": {},
   "outputs": [
    {
     "data": {
      "text/html": [
       "Query OK"
      ]
     },
     "metadata": {},
     "output_type": "display_data"
    }
   ],
   "source": [
    "USE rookery\n",
    "ALTER TABLE birds\n",
    "AUTO_INCREMENT = 10;"
   ]
  },
  {
   "cell_type": "markdown",
   "metadata": {},
   "source": [
    "# Another Method to Alter and Create a Table"
   ]
  },
  {
   "cell_type": "code",
   "execution_count": 119,
   "metadata": {},
   "outputs": [
    {
     "data": {
      "text/html": [
       "Query OK"
      ]
     },
     "metadata": {},
     "output_type": "display_data"
    }
   ],
   "source": [
    "CREATE TABLE birds_new LIKE birds;"
   ]
  },
  {
   "cell_type": "code",
   "execution_count": 121,
   "metadata": {},
   "outputs": [
    {
     "data": {
      "text/html": [
       "<html><body><table border=\"1\"><tr><th style=\"text-align:left;white-space:pre\">Field</th><th style=\"text-align:left;white-space:pre\">Type</th><th style=\"text-align:left;white-space:pre\">Null</th><th style=\"text-align:left;white-space:pre\">Key</th><th style=\"text-align:left;white-space:pre\">Default</th><th style=\"text-align:left;white-space:pre\">Extra</th></tr><tr><td style=\"text-align:left;white-space:pre\">bird_id</td><td style=\"text-align:left;white-space:pre\">int(11)</td><td style=\"text-align:left;white-space:pre\">NO</td><td style=\"text-align:left;white-space:pre\">PRI</td><td style=\"text-align:left;white-space:pre\">NULL</td><td style=\"text-align:left;white-space:pre\">auto_increment</td></tr><tr><td style=\"text-align:left;white-space:pre\">scientific_name</td><td style=\"text-align:left;white-space:pre\">varchar(255)</td><td style=\"text-align:left;white-space:pre\">YES</td><td style=\"text-align:left;white-space:pre\">UNI</td><td style=\"text-align:left;white-space:pre\">NULL</td><td style=\"text-align:left;white-space:pre\"></td></tr><tr><td style=\"text-align:left;white-space:pre\">common_name</td><td style=\"text-align:left;white-space:pre\">varchar(50)</td><td style=\"text-align:left;white-space:pre\">YES</td><td style=\"text-align:left;white-space:pre\"></td><td style=\"text-align:left;white-space:pre\">NULL</td><td style=\"text-align:left;white-space:pre\"></td></tr><tr><td style=\"text-align:left;white-space:pre\">family_id</td><td style=\"text-align:left;white-space:pre\">int(11)</td><td style=\"text-align:left;white-space:pre\">YES</td><td style=\"text-align:left;white-space:pre\"></td><td style=\"text-align:left;white-space:pre\">NULL</td><td style=\"text-align:left;white-space:pre\"></td></tr><tr><td style=\"text-align:left;white-space:pre\">description</td><td style=\"text-align:left;white-space:pre\">text</td><td style=\"text-align:left;white-space:pre\">YES</td><td style=\"text-align:left;white-space:pre\"></td><td style=\"text-align:left;white-space:pre\">NULL</td><td style=\"text-align:left;white-space:pre\"></td></tr></table><table border=\"1\"><tr><th style=\"text-align:left;white-space:pre\">Field</th><th style=\"text-align:left;white-space:pre\">Type</th><th style=\"text-align:left;white-space:pre\">Null</th><th style=\"text-align:left;white-space:pre\">Key</th><th style=\"text-align:left;white-space:pre\">Default</th><th style=\"text-align:left;white-space:pre\">Extra</th></tr><tr><td style=\"text-align:left;white-space:pre\">bird_id</td><td style=\"text-align:left;white-space:pre\">int(11)</td><td style=\"text-align:left;white-space:pre\">NO</td><td style=\"text-align:left;white-space:pre\">PRI</td><td style=\"text-align:left;white-space:pre\">NULL</td><td style=\"text-align:left;white-space:pre\">auto_increment</td></tr><tr><td style=\"text-align:left;white-space:pre\">scientific_name</td><td style=\"text-align:left;white-space:pre\">varchar(255)</td><td style=\"text-align:left;white-space:pre\">YES</td><td style=\"text-align:left;white-space:pre\">UNI</td><td style=\"text-align:left;white-space:pre\">NULL</td><td style=\"text-align:left;white-space:pre\"></td></tr><tr><td style=\"text-align:left;white-space:pre\">common_name</td><td style=\"text-align:left;white-space:pre\">varchar(50)</td><td style=\"text-align:left;white-space:pre\">YES</td><td style=\"text-align:left;white-space:pre\"></td><td style=\"text-align:left;white-space:pre\">NULL</td><td style=\"text-align:left;white-space:pre\"></td></tr><tr><td style=\"text-align:left;white-space:pre\">family_id</td><td style=\"text-align:left;white-space:pre\">int(11)</td><td style=\"text-align:left;white-space:pre\">YES</td><td style=\"text-align:left;white-space:pre\"></td><td style=\"text-align:left;white-space:pre\">NULL</td><td style=\"text-align:left;white-space:pre\"></td></tr><tr><td style=\"text-align:left;white-space:pre\">description</td><td style=\"text-align:left;white-space:pre\">text</td><td style=\"text-align:left;white-space:pre\">YES</td><td style=\"text-align:left;white-space:pre\"></td><td style=\"text-align:left;white-space:pre\">NULL</td><td style=\"text-align:left;white-space:pre\"></td></tr></table></body></html>"
      ]
     },
     "metadata": {},
     "output_type": "display_data"
    }
   ],
   "source": [
    "DESCRIBE birds;\n",
    "DESCRIBE birds_new;\n",
    "SELECT * FROM birds_new;"
   ]
  },
  {
   "cell_type": "code",
   "execution_count": 122,
   "metadata": {},
   "outputs": [
    {
     "data": {
      "text/html": [
       "<html><body><table border=\"1\"><tr><th style=\"text-align:left;white-space:pre\">Table</th><th style=\"text-align:left;white-space:pre\">Create Table</th></tr><tr><td style=\"text-align:left;white-space:pre\">birds</td><td style=\"text-align:left;white-space:pre\">CREATE TABLE `birds` (\r\n",
       "  `bird_id` int(11) NOT NULL AUTO_INCREMENT,\r\n",
       "  `scientific_name` varchar(255) COLLATE latin1_bin DEFAULT NULL,\r\n",
       "  `common_name` varchar(50) COLLATE latin1_bin DEFAULT NULL,\r\n",
       "  `family_id` int(11) DEFAULT NULL,\r\n",
       "  `description` text COLLATE latin1_bin DEFAULT NULL,\r\n",
       "  PRIMARY KEY (`bird_id`),\r\n",
       "  UNIQUE KEY `scientific_name` (`scientific_name`)\r\n",
       ") ENGINE=InnoDB AUTO_INCREMENT=10 DEFAULT CHARSET=latin1 COLLATE=latin1_bin</td></tr></table></body></html>"
      ]
     },
     "metadata": {},
     "output_type": "display_data"
    }
   ],
   "source": [
    "SHOW CREATE TABLE birds;"
   ]
  },
  {
   "cell_type": "code",
   "execution_count": 123,
   "metadata": {},
   "outputs": [
    {
     "data": {
      "text/html": [
       "Query OK"
      ]
     },
     "metadata": {},
     "output_type": "display_data"
    }
   ],
   "source": [
    "ALTER TABLE birds_new\n",
    "AUTO_INCREMENT = 6;"
   ]
  },
  {
   "cell_type": "code",
   "execution_count": 124,
   "metadata": {},
   "outputs": [
    {
     "data": {
      "text/html": [
       "Query OK"
      ]
     },
     "metadata": {},
     "output_type": "display_data"
    }
   ],
   "source": [
    "CREATE TABLE birds_details\n",
    "SELECT bird_id, description\n",
    "FROM birds;"
   ]
  },
  {
   "cell_type": "code",
   "execution_count": 125,
   "metadata": {},
   "outputs": [
    {
     "data": {
      "text/html": [
       "<html><body><table border=\"1\"><tr><th style=\"text-align:left;white-space:pre\">Field</th><th style=\"text-align:left;white-space:pre\">Type</th><th style=\"text-align:left;white-space:pre\">Null</th><th style=\"text-align:left;white-space:pre\">Key</th><th style=\"text-align:left;white-space:pre\">Default</th><th style=\"text-align:left;white-space:pre\">Extra</th></tr><tr><td style=\"text-align:left;white-space:pre\">bird_id</td><td style=\"text-align:left;white-space:pre\">int(11)</td><td style=\"text-align:left;white-space:pre\">NO</td><td style=\"text-align:left;white-space:pre\"></td><td style=\"text-align:left;white-space:pre\">0</td><td style=\"text-align:left;white-space:pre\"></td></tr><tr><td style=\"text-align:left;white-space:pre\">description</td><td style=\"text-align:left;white-space:pre\">text</td><td style=\"text-align:left;white-space:pre\">YES</td><td style=\"text-align:left;white-space:pre\"></td><td style=\"text-align:left;white-space:pre\">NULL</td><td style=\"text-align:left;white-space:pre\"></td></tr></table></body></html>"
      ]
     },
     "metadata": {},
     "output_type": "display_data"
    }
   ],
   "source": [
    "DESCRIBE birds_details;"
   ]
  },
  {
   "cell_type": "code",
   "execution_count": 126,
   "metadata": {},
   "outputs": [
    {
     "data": {
      "text/html": [
       "Query OK"
      ]
     },
     "metadata": {},
     "output_type": "display_data"
    }
   ],
   "source": [
    "ALTER TABLE birds\n",
    "DROP COLUMN description;"
   ]
  },
  {
   "cell_type": "code",
   "execution_count": 127,
   "metadata": {},
   "outputs": [
    {
     "data": {
      "text/html": [
       "Query OK"
      ]
     },
     "metadata": {},
     "output_type": "display_data"
    }
   ],
   "source": [
    "RENAME TABLE rookery.birds TO rookery.birds_old,\n",
    "test.birds_new TO rookery.birds;"
   ]
  },
  {
   "cell_type": "code",
   "execution_count": 128,
   "metadata": {},
   "outputs": [
    {
     "data": {
      "text/html": [
       "<html><body><table border=\"1\"><tr><th style=\"text-align:left;white-space:pre\">Tables_in_rookery (birds%)</th></tr><tr><td style=\"text-align:left;white-space:pre\">birds</td></tr><tr><td style=\"text-align:left;white-space:pre\">birds_details</td></tr><tr><td style=\"text-align:left;white-space:pre\">birds_new</td></tr><tr><td style=\"text-align:left;white-space:pre\">birds_old</td></tr></table></body></html>"
      ]
     },
     "metadata": {},
     "output_type": "display_data"
    }
   ],
   "source": [
    "SHOW TABLES IN rookery LIKE 'birds%';"
   ]
  },
  {
   "cell_type": "code",
   "execution_count": 129,
   "metadata": {},
   "outputs": [
    {
     "data": {
      "text/html": [
       "Query OK"
      ]
     },
     "metadata": {},
     "output_type": "display_data"
    }
   ],
   "source": [
    "DROP TABLE birds_old;"
   ]
  },
  {
   "cell_type": "markdown",
   "metadata": {},
   "source": [
    "# Reordering a Table"
   ]
  },
  {
   "cell_type": "code",
   "execution_count": 140,
   "metadata": {},
   "outputs": [
    {
     "data": {
      "text/html": [
       "Query OK"
      ]
     },
     "metadata": {},
     "output_type": "display_data"
    }
   ],
   "source": [
    "DROP TABLE IF EXISTS country_codes;\n",
    "CREATE TABLE country_countries(\n",
    "  code1 char(2) DEFAULT NULL,\n",
    "  code2 char(2) DEFAULT NULL,\n",
    "  code3 char(3) DEFAULT NULL,\n",
    "  country_name varchar(255) DEFAULT NULL,\n",
    "  country_name_italian varchar(255) DEFAULT NULL,\n",
    "  KEY code1 (code1),\n",
    "  KEY code2 (code2)\n",
    ") ENGINE=MyISAM DEFAULT CHARSET=latin1;"
   ]
  },
  {
   "cell_type": "code",
   "execution_count": 142,
   "metadata": {},
   "outputs": [
    {
     "data": {
      "text/html": [
       "Query OK"
      ]
     },
     "metadata": {},
     "output_type": "display_data"
    }
   ],
   "source": [
    "LOCK TABLES country_countries WRITE;\n",
    "INSERT INTO country_countries VALUES ('af','AF','AFG','Afghanistan','Afghanistan'),('ax','AX','ALA','Ã…land',NULL),('al','AL','ALB','Albania','Albania'),('dz','DZ','DZA','Algeria','Algeria'),('as','AS','ASM','American Samoa','Samoa Americane'),('ad','AD','AND','Andorra','Andorra'),('ao','AO','AGO','Angola','Angola'),('ai','AI','AIA','Anguilla','Anguilla'),('aq',NULL,NULL,'Antarctica',NULL),('ag','AG','ATG','Antigua and Barbuda','Antigua e Barbuda'),('ar','AR','ARG','Argentina','Argentina'),('am','AM','ARM','Armenia','Armenia'),('aw','AW','ABW','Aruba','Aruba'),('ac',NULL,NULL,'Ascension Island',NULL),('au','AU','AUS','Australia','Australia'),('at','AT','AUT','Austria','Austria'),('az','AZ','AZE','Azerbaijan','Azerbaijan'),('bs','BS','BHS','Bahamas','Bahamas'),('bh','BH','BHR','Bahrain','Bahrain'),('bd','BD','BGD','Bangladesh','Bangladesh'),('bb','BB','BRB','Barbados','Barbados'),('by','BY','BLR','Belarus','Bielorussia'),('be','BE','BEL','Belgium','Belgio'),('bz','BZ','BLZ','Belize','Belize'),('bj','BJ','BEN','Benin','Benin'),('bm','BM','BMU','Bermuda','Bermuda'),('bt','BT','BTN','Bhutan','Bhutan'),('bo','BO','BOL','Bolivia','Bolivia'),('ba','BA','BIH','Bosnia and Herzegovina','Bosnia-Erzegovina'),('bw','BW','BWA','Botswana','Botswana'),('bv',NULL,NULL,'Bouvet Island',NULL),('br','BR','BRA','Brazil','Brasile'),('vg','IO','VGB','British Virgin Islands','Isole Vergini Britanniche'),('io',NULL,NULL,'British Indian Ocean Territory',NULL),('bn','BN','BRN','Brunei Darussalam','Brunei Darussalam'),('bg','BG','BGR','Bulgaria','Bulgaria'),('bf','BF','BFA','Burkina Faso','Burkina Faso'),('bi','BI','BDI','Burundi','Burundi'),('kh','KH','KHM','Cambodia','Cambogia'),('cm','CM','CMR','Cameroon','Camerun'),('ca','CA','CAN','Canada','Canada'),('cv','CV','CPV','Cape Verde','Capo Verde'),('ky','KY','CYM','Cayman Islands','Isole Cayman'),('cf','CF','CAF','Central African Republic','Repubblica Centroafricana'),('td','TD','TCD','Chad','Ciad'),('cl','CL','CHL','Chile','Cile'),('cn','CN','CHN','China','Cina'),('cx',NULL,NULL,'Christmas Island',NULL),('cc',NULL,NULL,'Cocos (Keeling) Island',NULL),('co','CO','COL','Colombia','Colombia'),('km','KM','COM','Comoros','Comore'),('cg','CG','COG','Republic of Congo','Repubblica del Congo'),('cd','CD','COD','Democratic Republic of Congo','Repubblica Democratica del Congo'),('ck','CK','COK','Cook Islands','Isole Cook'),('cr','CR','CRI','Costa Rica','Costa Rica'),('ci','CI','CIV','Cote d\\'Ivoire','Costa d\\'Avorio'),('hr','HR','HRV','Croatia','Croazia'),('cu','CU','CUB','Cuba','Cuba'),('cy','CY','CYP','Cyprus','Cipro'),('cz','CZ','CZE','Czech Republic','Repubblica Ceca'),('dk','DK','DNK','Denmark','Danimarca'),('dj','DJ','DJI','Djibouti','Gibuti'),('dm','DM','DMA','Dominica','Dominica'),('do','DO','DOM','Dominican Republic','Repubblica Dominicana'),('ec','EC','ECU','Ecuador','Ecuador'),('eg','EG','EGY','Egypt','Egitto'),('sv','SV','SLV','El Salvador','El Salvador'),('gq','GQ','GNQ','Equatorial Guinea','Guinea Equatoriale'),('er','ER','ERI','Eritrea','Eritrea'),('ee','EE','EST','Estonia','Estonia'),('et','ET','ETH','Ethiopia','Etiopia'),('fk','FK','FLK','Falkland Islands (Malvinas)','Isole Falkland'),('fo','FO','FRO','Faroe Islands','Isole Faroe'),('fj','FJ','FJI','Fiji','Fiji'),('fi','FI','FIN','Finland','Finlandia'),('fr','FR','FRA','France','Francia'),('gf','GF','GUF','French Guiana','Guyana Francese'),('pf','PF','PYF','French Polynesia','Polinesia Francese'),('tf',NULL,NULL,'French Southern Territories',NULL),('ga','GA','GAB','Gabon','Gabon'),('gm','GM','GMB','Gambia','Gambia'),('ge','GE','GEO','Georgia','Georgia'),('de','DE','DEU','Germany','Germania'),('gh','GH','GHA','Ghana','Ghana'),('gi','GI','GIB','Gibraltar','Gibilterra'),('gr','GR','GRC','Greece','Grecia'),('gl','GL','GRL','Greenland','Groenlandia'),('gd','GD','GRD','Grenada','Grenada'),('gp','GP','GLP','Guadeloupe','Guadalupa'),('gu','GU','GUM','Guam','Guam'),('gt','GT','GTM','Guatemala','Guatemala'),('gg','GG','GGY','Guernsey',NULL),('gn','GN','GIN','Guinea','Guinea'),('gw','GW','GNB','Guinea-Bissau','Guinea-Bissau'),('gy','GY','GUY','Guyana','Guyana'),('ht','HT','HTI','Haiti','Haiti'),('hm',NULL,NULL,'Heard and McDonald Islands',NULL),('hn','HN','HND','Honduras','Honduras'),('hk','HK','HKG','Hong Kong','Hong Kong'),('hu','HU','HUN','Hungary','Ungheria'),('is','IS','ISL','Iceland','Islanda'),('in','IN','IND','India','India'),('id','ID','IDN','Indonesia','Indonesia'),('ir','IR','IRN','Iran','Iran'),('iq','IQ','IRQ','Iraq','Iraq'),('ie','IE','IRL','Ireland','Eire'),('im','IM','IMN','Isle of Man','Isola di Man'),('il','IL','ISR','Israel','Israele'),('it','IT','ITA','Italy','Italia'),('jm','JM','JAM','Jamaica','Giamaica'),('jp','JP','JPN','Japan','Giappone'),('je','JE','JEY','Jersey',NULL),('jo','JO','JOR','Jordan','Giordania'),('kz','KZ','KAZ','Kazakhstan','Kazakistan'),('ke','KE','KEN','Kenya','Kenya'),('ki','KI','KIR','Kiribati','Kiribati'),('kp','KP','PRK','North Korea','Corea del Nord'),('kr','KR','KOR','South Korea','Corea del Sud'),('kw','KW','KWT','Kuwait','Kuwait'),('kg','KG','KGZ','Kyrgyzstan','Kirghizistan'),('la','LA','LAO','Laos','Laos'),('lv','LV','LVA','Latvia','Lettonia'),('lb','LB','LBN','Lebanon','Libano'),('ls','LS','LSO','Lesotho','Lesotho'),('lr','LR','LBR','Liberia','Liberia'),('ly','LY','LBY','Libya','Libia'),('li','LI','LIE','Liechtenstein','Liechtenstein'),('lt','LT','LTU','Lithuania','Lituania'),('lu','LU','LUX','Luxembourg','Lussemburgo'),('mo','MO','MAC','Macau','Macao'),('mk','MK','MKD','Macedonia','Macedonia'),('mg','MG','MDG','Madagascar','Madagascar'),('mw','MW','MWI','Malawi','Malawi'),('my','MY','MYS','Malaysia','Malesia'),('mv','MV','MDV','Maldives','Maldive'),('ml','ML','MLI','Mali','Mali'),('mt','MT','MLT','Malta','Malta'),('mh','MH','MHL','Marshall Islands','Isole Marshall'),('mq','MQ','MTQ','Martinique','Martinica'),('mr','MR','MRT','Mauritania','Mauritania'),('mu','MU','MUS','Mauritius','Mauritius'),('yt','YT','MYT','Mayotte','Mayotte'),('mx','MX','MEX','Mexico','Messico'),('fm','FM','FSM','Micronesia','Stati Federati della Micronesia'),('md','MD','MDA','Moldova','Moldavia'),('mc','MC','MCO','Monaco','Monaco'),('mn','MN','MNG','Mongolia','Mongolia'),('ms','MS','MSR','Montserrat','Montserrat'),('ma','MA','MAR','Morocco','Marocco'),('mz','MZ','MOZ','Mozambique','Mozambico'),('mm','MM','MMR','Myanmar','Myanmar'),('na','NA','NAM','Namibia','Namibia'),('nr','NR','NRU','Nauru','Nauru'),('np','NP','NPL','Nepal','Nepal'),('nl','NL','NLD','Netherlands','Paesi Bassi'),('an','AN','ANT','Netherlands Antilles','Antille Olandesi'),('nc','NC','NCL','New Caledonia','Nuova Caledonia'),('nz','NZ','NZL','New Zealand','Nuova Zelanda'),('ni','NI','NIC','Nicaragua','Nicaragua'),('nu','NU','NIU','Niue','Niue'),('ne','NE','NER','Niger','Niger'),('ng','NG','NGA','Nigeria','Nigeria'),('nf','NF','NFK','Norfolk Island','Isola Norfolk'),('mp','MP','MNP','Northern Mariana Islands','Isole Marianne Settentrionali'),('no','NO','NOR','Norway','Norvegia'),('om','OM','OMN','Oman','Oman'),('pk','PK','PAK','Pakistan','Pakistan'),('pw','PW','PLW','Palau','Palau'),('ps','PS','PSE','Occupied Palestinian Territory','Territori Palestinesi Occupati'),('pa','PA','PAN','Panama','PanamÃ¡'),('pg','PG','PNG','Papua New Guinea','Papua Nuova Guinea'),('py','PY','PRY','Paraguay','Paraguay'),('pe','PE','PER','Peru','PerÃ¹'),('ph','PH','PHL','Philippines','Filippine'),('pn','PN','PCN','Pitcairn Island','Pitcairn'),('pl','PL','POL','Poland','Polonia'),('pt','PT','PRT','Portugal','Portogallo'),('pr','PR','PRI','Puerto Rico','Porto Rico'),('qa','QA','QAT','Qatar','Qatar'),('re','RE','REU','Reunion','Reunion'),('ro','RO','ROU','Romania','Romania'),('ru','RU','RUS','Russia','Federazione Russa'),('rw','RW','RWA','Rwanda','Ruanda'),('sh','SH','SHN','Saint Helena','Sant\\'Elena'),('kn','KN','KNA','Saint Kitts and Nevis','Saint Kitts e Nevis'),('lc','LC','LCA','Saint Lucia','Santa Lucia'),('pm','PM','SPM','Saint Pierre and Miquelon','Saint Pierre e Miquelon'),('vc','VC','VCT','Saint Vincent and the Grenadines','Saint Vincent e Grenadine'),('ws','WS','WSM','Samoa','Samoa'),('sm','SM','SMR','San Marino','San Marino'),('st','ST','STP','Sao Tome and Principe','Sao Tome e Principe'),('sa','SA','SAU','Saudia Arabia','Arabia Saudita'),('sn','SN','SEN','Senegal','Senegal'),('cs','CS','SCG','Serbia',NULL),('sc','SC','SYC','Seychelles','Seychelles'),('sl','SL','SLE','Sierra Leone','Sierra Leone'),('sg','SG','SGP','Singapore','Singapore'),('sk','SK','SVK','Slovakia','Slovacchia'),('si','SI','SVN','Slovenia','Slovenia'),('sb','SB','SLB','Solomon Islands','Isole Solomon'),('so','SO','SOM','Somalia','Somalia'),('za','ZA','ZAF','South Africa','Sudafrica'),('gs',NULL,NULL,'South Georgia and the South Sandwich Islands',NULL),('es','ES','ESP','Spain','Spagna'),('lk','LK','LKA','Sri Lanka','Sri Lanka'),('sd','SD','SDN','Sudan','Sudan'),('sr','SR','SUR','Suriname','Suriname'),('sj','SJ','SJM','Svalbard and Jan Mayen Islands','Svalbard e Jan Mayen'),('sz','SZ','SWZ','Swaziland','Swaziland'),('se','SE','SWE','Sweden','Svezia'),('ch','CH','CHE','Switzerland','Svizzera'),('sy','SY','SYR','Syria','Siria'),('tw','TW','TWN','Taiwan','Taiwan'),('tj','TJ','TJK','Tajikistan','Tagikistan'),('tz','TZ','TZA','Tanzania','Tanzania'),('th','TH','THA','Thailand','Thailandia'),('tp','TL','TLS','Timor-Leste','Timor Est'),('tg','TG','TGO','Togo','Togo'),('tk',NULL,NULL,'Tokelau',NULL),('to','TO','TON','Tonga','Tonga'),('tt','TT','TTO','Trinidad and Tobago','Trinidad e Tobago'),('tn','TN','TUN','Tunisia','Tunisia'),('tr','TR','TUR','Turkey','Turchia'),('tm','TM','TKM','Turkmenistan','Turkmenistan'),('tc','TC','TCA','Turks and Caicos Islands','Isole Turks e Caicos'),('tv','TV','TUV','Tuvalu','Tuvalu'),('ug','UG','UGA','Uganda','Uganda'),('ua','UA','UKR','Ukraine','Ucraina'),('ae','AE','ARE','United Arab Emirates','Emirati Arabi Uniti'),('uk','GB','GBR','United Kingdom','Regno Unito'),('us','US','USA','United States of America','Stati Uniti d\\'America'),('vi','VI','VIR','United States Virgin Islands','Isole Vergini Americane'),('uy','UY','URY','Uruguay','Uruguay'),('um',NULL,NULL,'US Minor Outlying Islands',NULL),('su','SU','SUN','USSR',NULL),('uz','UZ','UZB','Uzbekistan','Uzbekistan'),('vu','VU','VUT','Vanuatu','Vanuatu'),('va','VA','VAT','Vatican City State (Holy See)','CittÃ  del Vaticano'),('ve','VE','VEN','Venezuela','Venezuela'),('vn','VN','VNM','Vietnam','Vietnam'),('wf','WF','WLF','Wallis and Futuna Islands','Wallis e Futuna'),('eh','EH','ESH','Western Sahara','Sahara Occidentale'),('ye','YE','YEM','Yemen','Yemen'),('yu','YU','YUG','Yugoslavia',NULL),('zm','ZM','ZMB','Zambia','Zambia'),('zw','ZW','ZWE','Zimbabwe','Zimbabwe');\n",
    "UNLOCK TABLES;"
   ]
  },
  {
   "cell_type": "code",
   "execution_count": 143,
   "metadata": {},
   "outputs": [
    {
     "data": {
      "text/html": [
       "<html><body><table border=\"1\"><tr><th style=\"text-align:left;white-space:pre\">code1</th><th style=\"text-align:left;white-space:pre\">code2</th><th style=\"text-align:left;white-space:pre\">code3</th><th style=\"text-align:left;white-space:pre\">country_name</th><th style=\"text-align:left;white-space:pre\">country_name_italian</th></tr><tr><td style=\"text-align:left;white-space:pre\">af</td><td style=\"text-align:left;white-space:pre\">AF</td><td style=\"text-align:left;white-space:pre\">AFG</td><td style=\"text-align:left;white-space:pre\">Afghanistan</td><td style=\"text-align:left;white-space:pre\">Afghanistan</td></tr><tr><td style=\"text-align:left;white-space:pre\">ax</td><td style=\"text-align:left;white-space:pre\">AX</td><td style=\"text-align:left;white-space:pre\">ALA</td><td style=\"text-align:left;white-space:pre\">Ã…land</td><td style=\"text-align:left;white-space:pre\">NULL</td></tr><tr><td style=\"text-align:left;white-space:pre\">al</td><td style=\"text-align:left;white-space:pre\">AL</td><td style=\"text-align:left;white-space:pre\">ALB</td><td style=\"text-align:left;white-space:pre\">Albania</td><td style=\"text-align:left;white-space:pre\">Albania</td></tr><tr><td style=\"text-align:left;white-space:pre\">dz</td><td style=\"text-align:left;white-space:pre\">DZ</td><td style=\"text-align:left;white-space:pre\">DZA</td><td style=\"text-align:left;white-space:pre\">Algeria</td><td style=\"text-align:left;white-space:pre\">Algeria</td></tr><tr><td style=\"text-align:left;white-space:pre\">as</td><td style=\"text-align:left;white-space:pre\">AS</td><td style=\"text-align:left;white-space:pre\">ASM</td><td style=\"text-align:left;white-space:pre\">American Samoa</td><td style=\"text-align:left;white-space:pre\">Samoa Americane</td></tr></table></body></html>"
      ]
     },
     "metadata": {},
     "output_type": "display_data"
    }
   ],
   "source": [
    "SELECT * FROM country_countries\n",
    "LIMIT 5;"
   ]
  },
  {
   "cell_type": "code",
   "execution_count": 146,
   "metadata": {},
   "outputs": [
    {
     "data": {
      "text/html": [
       "Stage: 2 of 3 'Sorting'      0% of stage done\r",
       "Stage: 3 of 3 'Enabling keys'      0% of stage done\r",
       "                                                   \r"
      ]
     },
     "metadata": {},
     "output_type": "display_data"
    }
   ],
   "source": [
    "ALTER TABLE country_countries\n",
    "ORDER BY code1;"
   ]
  },
  {
   "cell_type": "code",
   "execution_count": 147,
   "metadata": {},
   "outputs": [
    {
     "data": {
      "text/html": [
       "<html><body><table border=\"1\"><tr><th style=\"text-align:left;white-space:pre\">code1</th><th style=\"text-align:left;white-space:pre\">code2</th><th style=\"text-align:left;white-space:pre\">code3</th><th style=\"text-align:left;white-space:pre\">country_name</th><th style=\"text-align:left;white-space:pre\">country_name_italian</th></tr><tr><td style=\"text-align:left;white-space:pre\">ac</td><td style=\"text-align:left;white-space:pre\">NULL</td><td style=\"text-align:left;white-space:pre\">NULL</td><td style=\"text-align:left;white-space:pre\">Ascension Island</td><td style=\"text-align:left;white-space:pre\">NULL</td></tr><tr><td style=\"text-align:left;white-space:pre\">ad</td><td style=\"text-align:left;white-space:pre\">AD</td><td style=\"text-align:left;white-space:pre\">AND</td><td style=\"text-align:left;white-space:pre\">Andorra</td><td style=\"text-align:left;white-space:pre\">Andorra</td></tr><tr><td style=\"text-align:left;white-space:pre\">ae</td><td style=\"text-align:left;white-space:pre\">AE</td><td style=\"text-align:left;white-space:pre\">ARE</td><td style=\"text-align:left;white-space:pre\">United Arab Emirates</td><td style=\"text-align:left;white-space:pre\">Emirati Arabi Uniti</td></tr><tr><td style=\"text-align:left;white-space:pre\">af</td><td style=\"text-align:left;white-space:pre\">AF</td><td style=\"text-align:left;white-space:pre\">AFG</td><td style=\"text-align:left;white-space:pre\">Afghanistan</td><td style=\"text-align:left;white-space:pre\">Afghanistan</td></tr><tr><td style=\"text-align:left;white-space:pre\">ag</td><td style=\"text-align:left;white-space:pre\">AG</td><td style=\"text-align:left;white-space:pre\">ATG</td><td style=\"text-align:left;white-space:pre\">Antigua and Barbuda</td><td style=\"text-align:left;white-space:pre\">Antigua e Barbuda</td></tr></table></body></html>"
      ]
     },
     "metadata": {},
     "output_type": "display_data"
    }
   ],
   "source": [
    "SELECT * FROM country_countries\n",
    "LIMIT 5;"
   ]
  },
  {
   "cell_type": "markdown",
   "metadata": {},
   "source": [
    "# Indexes"
   ]
  },
  {
   "cell_type": "code",
   "execution_count": 132,
   "metadata": {},
   "outputs": [
    {
     "name": "stderr",
     "output_type": "stream",
     "text": [
      "Multiple primary key defined\r\n",
      "\u0007\u001b(B\u001b[0;7m\u001b(B\u001b[m\n"
     ]
    }
   ],
   "source": [
    "ALTER TABLE conservation_status\n",
    "CHANGE status_id conservation_status_id INT AUTO_INCREMENT PRIMARY KEY;"
   ]
  },
  {
   "cell_type": "code",
   "execution_count": 133,
   "metadata": {},
   "outputs": [
    {
     "data": {
      "text/html": [
       "<html><body><table border=\"1\"><tr><th style=\"text-align:left;white-space:pre\">Table</th><th style=\"text-align:left;white-space:pre\">Non_unique</th><th style=\"text-align:left;white-space:pre\">Key_name</th><th style=\"text-align:left;white-space:pre\">Seq_in_index</th><th style=\"text-align:left;white-space:pre\">Column_name</th><th style=\"text-align:left;white-space:pre\">Collation</th><th style=\"text-align:left;white-space:pre\">Cardinality</th><th style=\"text-align:left;white-space:pre\">Sub_part</th><th style=\"text-align:left;white-space:pre\">Packed</th><th style=\"text-align:left;white-space:pre\">Null</th><th style=\"text-align:left;white-space:pre\">Index_type</th><th style=\"text-align:left;white-space:pre\">Comment</th><th style=\"text-align:left;white-space:pre\">Index_comment</th></tr><tr><td style=\"text-align:left;white-space:pre\">humans</td><td style=\"text-align:left;white-space:pre\">0</td><td style=\"text-align:left;white-space:pre\">PRIMARY</td><td style=\"text-align:left;white-space:pre\">1</td><td style=\"text-align:left;white-space:pre\">human_id</td><td style=\"text-align:left;white-space:pre\">A</td><td style=\"text-align:left;white-space:pre\">4</td><td style=\"text-align:left;white-space:pre\">NULL</td><td style=\"text-align:left;white-space:pre\">NULL</td><td style=\"text-align:left;white-space:pre\"></td><td style=\"text-align:left;white-space:pre\">BTREE</td><td style=\"text-align:left;white-space:pre\"></td><td style=\"text-align:left;white-space:pre\"></td></tr></table></body></html>"
      ]
     },
     "metadata": {},
     "output_type": "display_data"
    }
   ],
   "source": [
    "SHOW INDEX FROM birdwatchers.humans;"
   ]
  },
  {
   "cell_type": "code",
   "execution_count": 134,
   "metadata": {},
   "outputs": [
    {
     "data": {
      "text/html": [
       "<html><body><table border=\"1\"><tr><th style=\"text-align:left;white-space:pre\">id</th><th style=\"text-align:left;white-space:pre\">select_type</th><th style=\"text-align:left;white-space:pre\">table</th><th style=\"text-align:left;white-space:pre\">type</th><th style=\"text-align:left;white-space:pre\">possible_keys</th><th style=\"text-align:left;white-space:pre\">key</th><th style=\"text-align:left;white-space:pre\">key_len</th><th style=\"text-align:left;white-space:pre\">ref</th><th style=\"text-align:left;white-space:pre\">rows</th><th style=\"text-align:left;white-space:pre\">Extra</th></tr><tr><td style=\"text-align:left;white-space:pre\">1</td><td style=\"text-align:left;white-space:pre\">SIMPLE</td><td style=\"text-align:left;white-space:pre\">humans</td><td style=\"text-align:left;white-space:pre\">ALL</td><td style=\"text-align:left;white-space:pre\">NULL</td><td style=\"text-align:left;white-space:pre\">NULL</td><td style=\"text-align:left;white-space:pre\">NULL</td><td style=\"text-align:left;white-space:pre\">NULL</td><td style=\"text-align:left;white-space:pre\">4</td><td style=\"text-align:left;white-space:pre\">Using where</td></tr></table></body></html>"
      ]
     },
     "metadata": {},
     "output_type": "display_data"
    }
   ],
   "source": [
    "EXPLAIN SELECT * FROM birdwatchers.humans\n",
    "WHERE name_last = 'Hollar';"
   ]
  },
  {
   "cell_type": "code",
   "execution_count": 135,
   "metadata": {},
   "outputs": [
    {
     "data": {
      "text/html": [
       "Query OK"
      ]
     },
     "metadata": {},
     "output_type": "display_data"
    }
   ],
   "source": [
    "ALTER TABLE birdwatchers.humans\n",
    "ADD INDEX human_names (name_last, name_first);"
   ]
  },
  {
   "cell_type": "code",
   "execution_count": 136,
   "metadata": {},
   "outputs": [
    {
     "data": {
      "text/html": [
       "<html><body><table border=\"1\"><tr><th style=\"text-align:left;white-space:pre\">Table</th><th style=\"text-align:left;white-space:pre\">Create Table</th></tr><tr><td style=\"text-align:left;white-space:pre\">humans</td><td style=\"text-align:left;white-space:pre\">CREATE TABLE `humans` (\r\n",
       "  `human_id` int(11) NOT NULL AUTO_INCREMENT,\r\n",
       "  `formal_title` varchar(25) DEFAULT NULL,\r\n",
       "  `name_first` varchar(25) DEFAULT NULL,\r\n",
       "  `name_last` varchar(25) DEFAULT NULL,\r\n",
       "  `email_address` varchar(255) DEFAULT NULL,\r\n",
       "  PRIMARY KEY (`human_id`),\r\n",
       "  KEY `human_names` (`name_last`,`name_first`)\r\n",
       ") ENGINE=InnoDB AUTO_INCREMENT=5 DEFAULT CHARSET=utf8mb4</td></tr></table></body></html>"
      ]
     },
     "metadata": {},
     "output_type": "display_data"
    }
   ],
   "source": [
    "SHOW CREATE TABLE birdwatchers.humans;"
   ]
  },
  {
   "cell_type": "code",
   "execution_count": 137,
   "metadata": {},
   "outputs": [
    {
     "data": {
      "text/html": [
       "<html><body><table border=\"1\"><tr><th style=\"text-align:left;white-space:pre\">Table</th><th style=\"text-align:left;white-space:pre\">Non_unique</th><th style=\"text-align:left;white-space:pre\">Key_name</th><th style=\"text-align:left;white-space:pre\">Seq_in_index</th><th style=\"text-align:left;white-space:pre\">Column_name</th><th style=\"text-align:left;white-space:pre\">Collation</th><th style=\"text-align:left;white-space:pre\">Cardinality</th><th style=\"text-align:left;white-space:pre\">Sub_part</th><th style=\"text-align:left;white-space:pre\">Packed</th><th style=\"text-align:left;white-space:pre\">Null</th><th style=\"text-align:left;white-space:pre\">Index_type</th><th style=\"text-align:left;white-space:pre\">Comment</th><th style=\"text-align:left;white-space:pre\">Index_comment</th></tr><tr><td style=\"text-align:left;white-space:pre\">humans</td><td style=\"text-align:left;white-space:pre\">1</td><td style=\"text-align:left;white-space:pre\">human_names</td><td style=\"text-align:left;white-space:pre\">1</td><td style=\"text-align:left;white-space:pre\">name_last</td><td style=\"text-align:left;white-space:pre\">A</td><td style=\"text-align:left;white-space:pre\">4</td><td style=\"text-align:left;white-space:pre\">NULL</td><td style=\"text-align:left;white-space:pre\">NULL</td><td style=\"text-align:left;white-space:pre\">YES</td><td style=\"text-align:left;white-space:pre\">BTREE</td><td style=\"text-align:left;white-space:pre\"></td><td style=\"text-align:left;white-space:pre\"></td></tr><tr><td style=\"text-align:left;white-space:pre\">humans</td><td style=\"text-align:left;white-space:pre\">1</td><td style=\"text-align:left;white-space:pre\">human_names</td><td style=\"text-align:left;white-space:pre\">2</td><td style=\"text-align:left;white-space:pre\">name_first</td><td style=\"text-align:left;white-space:pre\">A</td><td style=\"text-align:left;white-space:pre\">4</td><td style=\"text-align:left;white-space:pre\">NULL</td><td style=\"text-align:left;white-space:pre\">NULL</td><td style=\"text-align:left;white-space:pre\">YES</td><td style=\"text-align:left;white-space:pre\">BTREE</td><td style=\"text-align:left;white-space:pre\"></td><td style=\"text-align:left;white-space:pre\"></td></tr></table></body></html>"
      ]
     },
     "metadata": {},
     "output_type": "display_data"
    }
   ],
   "source": [
    "SHOW INDEX FROM birdwatchers.humans\n",
    "WHERE Key_name = 'human_names';"
   ]
  },
  {
   "cell_type": "code",
   "execution_count": 138,
   "metadata": {},
   "outputs": [
    {
     "data": {
      "text/html": [
       "<html><body><table border=\"1\"><tr><th style=\"text-align:left;white-space:pre\">id</th><th style=\"text-align:left;white-space:pre\">select_type</th><th style=\"text-align:left;white-space:pre\">table</th><th style=\"text-align:left;white-space:pre\">type</th><th style=\"text-align:left;white-space:pre\">possible_keys</th><th style=\"text-align:left;white-space:pre\">key</th><th style=\"text-align:left;white-space:pre\">key_len</th><th style=\"text-align:left;white-space:pre\">ref</th><th style=\"text-align:left;white-space:pre\">rows</th><th style=\"text-align:left;white-space:pre\">Extra</th></tr><tr><td style=\"text-align:left;white-space:pre\">1</td><td style=\"text-align:left;white-space:pre\">SIMPLE</td><td style=\"text-align:left;white-space:pre\">humans</td><td style=\"text-align:left;white-space:pre\">ref</td><td style=\"text-align:left;white-space:pre\">human_names</td><td style=\"text-align:left;white-space:pre\">human_names</td><td style=\"text-align:left;white-space:pre\">103</td><td style=\"text-align:left;white-space:pre\">const</td><td style=\"text-align:left;white-space:pre\">1</td><td style=\"text-align:left;white-space:pre\">Using index condition</td></tr></table></body></html>"
      ]
     },
     "metadata": {},
     "output_type": "display_data"
    }
   ],
   "source": [
    "EXPLAIN SELECT * FROM birdwatchers.humans\n",
    "WHERE name_last = 'Hollar';"
   ]
  },
  {
   "cell_type": "code",
   "execution_count": 139,
   "metadata": {},
   "outputs": [
    {
     "data": {
      "text/html": [
       "Query OK"
      ]
     },
     "metadata": {},
     "output_type": "display_data"
    }
   ],
   "source": [
    "ALTER TABLE conservation_status\n",
    "DROP PRIMARY KEY,\n",
    "CHANGE status_id conservation_status_id INT PRIMARY KEY AUTO_INCREMENT;"
   ]
  },
  {
   "cell_type": "code",
   "execution_count": null,
   "metadata": {},
   "outputs": [],
   "source": []
  }
 ],
 "metadata": {
  "kernelspec": {
   "display_name": "MariaDB",
   "language": "SQL",
   "name": "mariadb_kernel"
  },
  "language_info": {
   "file_extension": ".sql",
   "mimetype": "text/plain",
   "name": "SQL"
  }
 },
 "nbformat": 4,
 "nbformat_minor": 4
}
