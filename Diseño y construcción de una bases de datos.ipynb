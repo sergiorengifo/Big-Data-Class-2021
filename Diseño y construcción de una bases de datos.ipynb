{
 "cells": [
  {
   "cell_type": "markdown",
   "metadata": {},
   "source": [
    "# Diseño y construcción de una bases de datos \n"
   ]
  },
  {
   "cell_type": "markdown",
   "metadata": {},
   "source": [
    "## Sergio Rengifo Pineda"
   ]
  },
  {
   "cell_type": "markdown",
   "metadata": {},
   "source": [
    "## Diagramas ENTIDAD RELACIÓN PARA LAS BASES DE DATOS"
   ]
  },
  {
   "cell_type": "markdown",
   "metadata": {},
   "source": [
    "A continuación se colocan los diagramas entidad relación de las diferentes bases de datos listadas como ejemplo.\n"
   ]
  },
  {
   "cell_type": "markdown",
   "metadata": {},
   "source": [
    "### 1. Employee Data "
   ]
  },
  {
   "cell_type": "markdown",
   "metadata": {},
   "source": [
    "<img src=\"Employees.png\">\n"
   ]
  },
  {
   "cell_type": "markdown",
   "metadata": {},
   "source": [
    "### 2. World Database"
   ]
  },
  {
   "cell_type": "markdown",
   "metadata": {},
   "source": [
    "<img src=\"world.png\">\n"
   ]
  },
  {
   "cell_type": "markdown",
   "metadata": {},
   "source": [
    "### 3. World_x Database "
   ]
  },
  {
   "cell_type": "markdown",
   "metadata": {},
   "source": [
    "<img src=\"world_x.png\">"
   ]
  },
  {
   "cell_type": "markdown",
   "metadata": {},
   "source": [
    "### 4. Sakila Database "
   ]
  },
  {
   "cell_type": "markdown",
   "metadata": {},
   "source": [
    "<img src=\"sakila.png\">"
   ]
  },
  {
   "cell_type": "markdown",
   "metadata": {},
   "source": [
    "### 5.Menagerie Database"
   ]
  },
  {
   "cell_type": "markdown",
   "metadata": {},
   "source": [
    "<img src=\"menagerie.png\">"
   ]
  },
  {
   "cell_type": "markdown",
   "metadata": {},
   "source": [
    "## MySQL \n",
    "### Triggers, Funciones y Procedimientos"
   ]
  },
  {
   "cell_type": "markdown",
   "metadata": {},
   "source": [
    "## ¿Qué es un Trigger?"
   ]
  },
  {
   "cell_type": "markdown",
   "metadata": {},
   "source": [
    "Un Trigger o Disparador es un programa almacenado (stored programo SP), Creado para ejecutarse automáticamente cuando ocurra un evento en uan tabla o vista de la base de datos. Dichos eventos son generados por los comandos INSERT, UPDATE y DELETE, los cuales forman parte del $DM^2$(Data Modeling Language) de SQL."
   ]
  },
  {
   "cell_type": "markdown",
   "metadata": {},
   "source": [
    "Un Disparador nunca se llama directamente, en cambio, cuando una aplicación ousuario intenta insertar, actualizar, o anular una fila en una tabla, la acción definidaen el disparador se ejecuta automáticamente (se dispara).Las ventajas de los triggers son varias.\n",
    "\n",
    "\n",
    "1.La entrada en vigor automática de restricciones de los datos, hace que los usuarios entren sólo valores válidos.\n",
    "\n",
    "2.El mantenimiento de la aplicación se reduce, los cambios a un disparador serefleja automáticamente en todas las aplicaciones que tienen que ver conla tabla sin la necesidad de recompilar o enlazar.\n",
    "\n",
    "3.Logs automáticos de cambios a las tablas. Una aplicación puede guardar unregistro corriente de cambios, creando un disparador que se active siempreque una tabla se modifique.\n",
    "\n",
    "4.La notificación automática de cambios a la Base de Datos con alertasde evento en los disparadores.\n",
    "\n",
    "Decimos que los Triggers se invocan para ejecutar un conjunto de instrucciones que   protejan,   restrinjan,   actualicen o preparen la información de las tablas, AL momento de manipular la información.Para crear triggers   son necesarios los privilegios SUPER y TRIGGER."
   ]
  },
  {
   "cell_type": "markdown",
   "metadata": {},
   "source": [
    "## FUNCIONES"
   ]
  },
  {
   "cell_type": "markdown",
   "metadata": {},
   "source": [
    "Una de las grandes novedades a partir de la versión 5 de MySQL es el soportepara procesos almacenados. A continuación, vemos los fundamentos teóricos y estetema más algunos ejemplos básicos.\n",
    "\n",
    "Si hemos usado bases de datos como Oracle, Interbase / Firebird, PostgreSQL,escuchamos hablar de procedimientos almacenados. Sin embargo, en MySQL esto estoda una novedad y un paso enorme para que esta base de datos se convierta en unverdadero sistema gestor de bases de datos.\n",
    "\n"
   ]
  },
  {
   "cell_type": "markdown",
   "metadata": {},
   "source": [
    "## ¿ QUÉ ES UN PROCEDIMIENTO ALMACENADO?"
   ]
  },
  {
   "cell_type": "markdown",
   "metadata": {},
   "source": [
    "\n",
    "Los procedimientos almacenados son un conjunto de instrucciones SQL más unaserie de estructuras de control que proveen de cierta lógica al procedimiento. Estos procedimientos están guardados en el servidor y son accedidos a través de llamadas.\n",
    "\n",
    "Para crear un procedimiento, MySQL ofrece la directiva CREATE PROCEDURE.Al crearlo, éste, es asociado con la base de datos en uso, tal como cuando creamos una tabla. \n",
    "\n",
    "Para llamar a un procedimiento lo hacemos mediante la instrucción CALL. Desdeun procedimiento invocamos a su vez a otros procedimientos o funciones.Un procedimiento almacenado, al igual cualquiera de los procedimientos queprogramamos en nuestras aplicaciones utilizando cualquier lenguaje, tiene:"
   ]
  },
  {
   "cell_type": "markdown",
   "metadata": {},
   "source": [
    "•Un nombre.\n",
    "•Puede tener una lista de parámetros.\n",
    "•Tiene un contenido (sección también llamada definición del procedimiento:aquí se especifica qué es lo que va a hacer y cómo).\n",
    "•Ese contenido puede estar compuesto por instrucciones sql, estructuras decontrol, declaración de variables locales, control de errores, etcétera.\n",
    "\n",
    "MySQL   sigue   la   sintaxis   SQL:2003   para   procedimientos   almacenados,   que también usa IBM DB2."
   ]
  },
  {
   "cell_type": "markdown",
   "metadata": {},
   "source": [
    "## Algunas Consultas de Ejemplo."
   ]
  },
  {
   "cell_type": "code",
   "execution_count": 5,
   "metadata": {},
   "outputs": [
    {
     "data": {
      "text/html": [
       "Query OK"
      ]
     },
     "metadata": {},
     "output_type": "display_data"
    }
   ],
   "source": [
    "USE sakila;"
   ]
  },
  {
   "cell_type": "code",
   "execution_count": 6,
   "metadata": {},
   "outputs": [
    {
     "data": {
      "text/html": [
       "<html><body><table border=\"1\"><tr><th style=\"text-align:left;white-space:pre\">Tables_in_sakila</th><th style=\"text-align:left;white-space:pre\">Table_type</th></tr><tr><td style=\"text-align:left;white-space:pre\">actor</td><td style=\"text-align:left;white-space:pre\">BASE TABLE</td></tr><tr><td style=\"text-align:left;white-space:pre\">actor_info</td><td style=\"text-align:left;white-space:pre\">VIEW</td></tr><tr><td style=\"text-align:left;white-space:pre\">address</td><td style=\"text-align:left;white-space:pre\">BASE TABLE</td></tr><tr><td style=\"text-align:left;white-space:pre\">category</td><td style=\"text-align:left;white-space:pre\">BASE TABLE</td></tr><tr><td style=\"text-align:left;white-space:pre\">city</td><td style=\"text-align:left;white-space:pre\">BASE TABLE</td></tr><tr><td style=\"text-align:left;white-space:pre\">country</td><td style=\"text-align:left;white-space:pre\">BASE TABLE</td></tr><tr><td style=\"text-align:left;white-space:pre\">customer</td><td style=\"text-align:left;white-space:pre\">BASE TABLE</td></tr><tr><td style=\"text-align:left;white-space:pre\">customer_list</td><td style=\"text-align:left;white-space:pre\">VIEW</td></tr><tr><td style=\"text-align:left;white-space:pre\">film</td><td style=\"text-align:left;white-space:pre\">BASE TABLE</td></tr><tr><td style=\"text-align:left;white-space:pre\">film_actor</td><td style=\"text-align:left;white-space:pre\">BASE TABLE</td></tr><tr><td style=\"text-align:left;white-space:pre\">film_category</td><td style=\"text-align:left;white-space:pre\">BASE TABLE</td></tr><tr><td style=\"text-align:left;white-space:pre\">film_list</td><td style=\"text-align:left;white-space:pre\">VIEW</td></tr><tr><td style=\"text-align:left;white-space:pre\">film_text</td><td style=\"text-align:left;white-space:pre\">BASE TABLE</td></tr><tr><td style=\"text-align:left;white-space:pre\">inventory</td><td style=\"text-align:left;white-space:pre\">BASE TABLE</td></tr><tr><td style=\"text-align:left;white-space:pre\">language</td><td style=\"text-align:left;white-space:pre\">BASE TABLE</td></tr><tr><td style=\"text-align:left;white-space:pre\">nicer_but_slower_film_list</td><td style=\"text-align:left;white-space:pre\">VIEW</td></tr><tr><td style=\"text-align:left;white-space:pre\">payment</td><td style=\"text-align:left;white-space:pre\">BASE TABLE</td></tr><tr><td style=\"text-align:left;white-space:pre\">rental</td><td style=\"text-align:left;white-space:pre\">BASE TABLE</td></tr><tr><td style=\"text-align:left;white-space:pre\">sales_by_film_category</td><td style=\"text-align:left;white-space:pre\">VIEW</td></tr><tr><td style=\"text-align:left;white-space:pre\">sales_by_store</td><td style=\"text-align:left;white-space:pre\">VIEW</td></tr><tr><td style=\"text-align:left;white-space:pre\">staff</td><td style=\"text-align:left;white-space:pre\">BASE TABLE</td></tr><tr><td style=\"text-align:left;white-space:pre\">staff_list</td><td style=\"text-align:left;white-space:pre\">VIEW</td></tr><tr><td style=\"text-align:left;white-space:pre\">store</td><td style=\"text-align:left;white-space:pre\">BASE TABLE</td></tr></table></body></html>"
      ]
     },
     "metadata": {},
     "output_type": "display_data"
    }
   ],
   "source": [
    "SHOW FULL TABLES;"
   ]
  },
  {
   "cell_type": "code",
   "execution_count": 7,
   "metadata": {},
   "outputs": [
    {
     "data": {
      "text/html": [
       "<html><body><table border=\"1\"><tr><th style=\"text-align:left;white-space:pre\">COUNT(*)</th></tr><tr><td style=\"text-align:left;white-space:pre\">1000</td></tr></table></body></html>"
      ]
     },
     "metadata": {},
     "output_type": "display_data"
    }
   ],
   "source": [
    "SELECT COUNT(*) FROM film;"
   ]
  },
  {
   "cell_type": "code",
   "execution_count": 8,
   "metadata": {},
   "outputs": [
    {
     "data": {
      "text/html": [
       "<html><body><table border=\"1\"><tr><th style=\"text-align:left;white-space:pre\">COUNT(*)</th></tr><tr><td style=\"text-align:left;white-space:pre\">1000</td></tr></table></body></html>"
      ]
     },
     "metadata": {},
     "output_type": "display_data"
    }
   ],
   "source": [
    "SELECT COUNT(*) FROM film_text;"
   ]
  },
  {
   "cell_type": "markdown",
   "metadata": {},
   "source": [
    "Las consultas anteriores, toman en SQL la base de datos sakila y la pone en uso en la linea de comando,\n",
    "Así luego show full muestra todas tablas y sus vistas y por ultimo contamos algunos atributos."
   ]
  },
  {
   "cell_type": "markdown",
   "metadata": {},
   "source": [
    "### Algunas consultas"
   ]
  },
  {
   "cell_type": "markdown",
   "metadata": {},
   "source": [
    "A continuación se agregan algunas consultas trabajadas en clase"
   ]
  },
  {
   "cell_type": "markdown",
   "metadata": {},
   "source": [
    "1. Lista de nombre completo de actores ordenada por appellido."
   ]
  },
  {
   "cell_type": "code",
   "execution_count": 10,
   "metadata": {},
   "outputs": [
    {
     "data": {
      "text/html": [
       "<html><body><table border=\"1\"><tr><th style=\"text-align:left;white-space:pre\">Actor</th></tr><tr><td style=\"text-align:left;white-space:pre\">DEBBIE AKROYD</td></tr><tr><td style=\"text-align:left;white-space:pre\">KIRSTEN AKROYD</td></tr><tr><td style=\"text-align:left;white-space:pre\">CHRISTIAN AKROYD</td></tr><tr><td style=\"text-align:left;white-space:pre\">MERYL ALLEN</td></tr><tr><td style=\"text-align:left;white-space:pre\">CUBA ALLEN</td></tr><tr><td style=\"text-align:left;white-space:pre\">KIM ALLEN</td></tr><tr><td style=\"text-align:left;white-space:pre\">ANGELINA ASTAIRE</td></tr><tr><td style=\"text-align:left;white-space:pre\">RUSSELL BACALL</td></tr><tr><td style=\"text-align:left;white-space:pre\">JESSICA BAILEY</td></tr><tr><td style=\"text-align:left;white-space:pre\">AUDREY BAILEY</td></tr><tr><td style=\"text-align:left;white-space:pre\">HARRISON BALE</td></tr><tr><td style=\"text-align:left;white-space:pre\">RENEE BALL</td></tr><tr><td style=\"text-align:left;white-space:pre\">JULIA BARRYMORE</td></tr><tr><td style=\"text-align:left;white-space:pre\">VIVIEN BASINGER</td></tr><tr><td style=\"text-align:left;white-space:pre\">MICHAEL BENING</td></tr><tr><td style=\"text-align:left;white-space:pre\">SCARLETT BENING</td></tr><tr><td style=\"text-align:left;white-space:pre\">VIVIEN BERGEN</td></tr><tr><td style=\"text-align:left;white-space:pre\">LIZA BERGMAN</td></tr><tr><td style=\"text-align:left;white-space:pre\">HENRY BERRY</td></tr><tr><td style=\"text-align:left;white-space:pre\">CHRISTOPHER BERRY</td></tr><tr><td style=\"text-align:left;white-space:pre\">KARL BERRY</td></tr><tr><td style=\"text-align:left;white-space:pre\">CUBA BIRCH</td></tr><tr><td style=\"text-align:left;white-space:pre\">KEVIN BLOOM</td></tr><tr><td style=\"text-align:left;white-space:pre\">VAL BOLGER</td></tr><tr><td style=\"text-align:left;white-space:pre\">MICHAEL BOLGER</td></tr><tr><td style=\"text-align:left;white-space:pre\">CHRIS BRIDGES</td></tr><tr><td style=\"text-align:left;white-space:pre\">GOLDIE BRODY</td></tr><tr><td style=\"text-align:left;white-space:pre\">LAURA BRODY</td></tr><tr><td style=\"text-align:left;white-space:pre\">LAURENCE BULLOCK</td></tr><tr><td style=\"text-align:left;white-space:pre\">JOHNNY CAGE</td></tr><tr><td style=\"text-align:left;white-space:pre\">ZERO CAGE</td></tr><tr><td style=\"text-align:left;white-space:pre\">MATTHEW CARREY</td></tr><tr><td style=\"text-align:left;white-space:pre\">GREG CHAPLIN</td></tr><tr><td style=\"text-align:left;white-space:pre\">ED CHASE</td></tr><tr><td style=\"text-align:left;white-space:pre\">JON CHASE</td></tr><tr><td style=\"text-align:left;white-space:pre\">RUSSELL CLOSE</td></tr><tr><td style=\"text-align:left;white-space:pre\">FRED COSTNER</td></tr><tr><td style=\"text-align:left;white-space:pre\">RIP CRAWFORD</td></tr><tr><td style=\"text-align:left;white-space:pre\">DARYL CRAWFORD</td></tr><tr><td style=\"text-align:left;white-space:pre\">ANNE CRONYN</td></tr><tr><td style=\"text-align:left;white-space:pre\">PENELOPE CRONYN</td></tr><tr><td style=\"text-align:left;white-space:pre\">SIDNEY CROWE</td></tr><tr><td style=\"text-align:left;white-space:pre\">JUDE CRUISE</td></tr><tr><td style=\"text-align:left;white-space:pre\">RALPH CRUZ</td></tr><tr><td style=\"text-align:left;white-space:pre\">SCARLETT DAMON</td></tr><tr><td style=\"text-align:left;white-space:pre\">SUSAN DAVIS</td></tr><tr><td style=\"text-align:left;white-space:pre\">SUSAN DAVIS</td></tr><tr><td style=\"text-align:left;white-space:pre\">JENNIFER DAVIS</td></tr><tr><td style=\"text-align:left;white-space:pre\">FRANCES DAY-LEWIS</td></tr><tr><td style=\"text-align:left;white-space:pre\">RIVER DEAN</td></tr><tr><td style=\"text-align:left;white-space:pre\">JUDY DEAN</td></tr><tr><td style=\"text-align:left;white-space:pre\">LUCILLE DEE</td></tr><tr><td style=\"text-align:left;white-space:pre\">EMILY DEE</td></tr><tr><td style=\"text-align:left;white-space:pre\">JODIE DEGENERES</td></tr><tr><td style=\"text-align:left;white-space:pre\">NICK DEGENERES</td></tr><tr><td style=\"text-align:left;white-space:pre\">GINA DEGENERES</td></tr><tr><td style=\"text-align:left;white-space:pre\">JULIANNE DENCH</td></tr><tr><td style=\"text-align:left;white-space:pre\">CHARLIZE DENCH</td></tr><tr><td style=\"text-align:left;white-space:pre\">SPENCER DEPP</td></tr><tr><td style=\"text-align:left;white-space:pre\">CHRIS DEPP</td></tr><tr><td style=\"text-align:left;white-space:pre\">SYLVESTER DERN</td></tr><tr><td style=\"text-align:left;white-space:pre\">ALAN DREYFUSS</td></tr><tr><td style=\"text-align:left;white-space:pre\">ROCK DUKAKIS</td></tr><tr><td style=\"text-align:left;white-space:pre\">BURT DUKAKIS</td></tr><tr><td style=\"text-align:left;white-space:pre\">GROUCHO DUNST</td></tr><tr><td style=\"text-align:left;white-space:pre\">BOB FAWCETT</td></tr><tr><td style=\"text-align:left;white-space:pre\">JULIA FAWCETT</td></tr><tr><td style=\"text-align:left;white-space:pre\">CHRISTIAN GABLE</td></tr><tr><td style=\"text-align:left;white-space:pre\">HUMPHREY GARLAND</td></tr><tr><td style=\"text-align:left;white-space:pre\">KEVIN GARLAND</td></tr><tr><td style=\"text-align:left;white-space:pre\">AL GARLAND</td></tr><tr><td style=\"text-align:left;white-space:pre\">MERYL GIBSON</td></tr><tr><td style=\"text-align:left;white-space:pre\">PARKER GOLDBERG</td></tr><tr><td style=\"text-align:left;white-space:pre\">GREGORY GOODING</td></tr><tr><td style=\"text-align:left;white-space:pre\">EWAN GOODING</td></tr><tr><td style=\"text-align:left;white-space:pre\">ADAM GRANT</td></tr><tr><td style=\"text-align:left;white-space:pre\">SEAN GUINESS</td></tr><tr><td style=\"text-align:left;white-space:pre\">PENELOPE GUINESS</td></tr><tr><td style=\"text-align:left;white-space:pre\">ED GUINESS</td></tr><tr><td style=\"text-align:left;white-space:pre\">WILLIAM HACKMAN</td></tr><tr><td style=\"text-align:left;white-space:pre\">TIM HACKMAN</td></tr><tr><td style=\"text-align:left;white-space:pre\">BEN HARRIS</td></tr><tr><td style=\"text-align:left;white-space:pre\">CATE HARRIS</td></tr><tr><td style=\"text-align:left;white-space:pre\">DAN HARRIS</td></tr><tr><td style=\"text-align:left;white-space:pre\">MEG HAWKE</td></tr><tr><td style=\"text-align:left;white-space:pre\">GEOFFREY HESTON</td></tr><tr><td style=\"text-align:left;white-space:pre\">KENNETH HOFFMAN</td></tr><tr><td style=\"text-align:left;white-space:pre\">WOODY HOFFMAN</td></tr><tr><td style=\"text-align:left;white-space:pre\">MAE HOFFMAN</td></tr><tr><td style=\"text-align:left;white-space:pre\">HARVEY HOPE</td></tr><tr><td style=\"text-align:left;white-space:pre\">MORGAN HOPKINS</td></tr><tr><td style=\"text-align:left;white-space:pre\">GENE HOPKINS</td></tr><tr><td style=\"text-align:left;white-space:pre\">NATALIE HOPKINS</td></tr><tr><td style=\"text-align:left;white-space:pre\">MENA HOPPER</td></tr><tr><td style=\"text-align:left;white-space:pre\">ADAM HOPPER</td></tr><tr><td style=\"text-align:left;white-space:pre\">ANGELA HUDSON</td></tr><tr><td style=\"text-align:left;white-space:pre\">CARMEN HUNT</td></tr><tr><td style=\"text-align:left;white-space:pre\">WHOOPI HURT</td></tr><tr><td style=\"text-align:left;white-space:pre\">WARREN JACKMAN</td></tr><tr><td style=\"text-align:left;white-space:pre\">JANE JACKMAN</td></tr><tr><td style=\"text-align:left;white-space:pre\">ALBERT JOHANSSON</td></tr><tr><td style=\"text-align:left;white-space:pre\">MATTHEW JOHANSSON</td></tr><tr><td style=\"text-align:left;white-space:pre\">RAY JOHANSSON</td></tr><tr><td style=\"text-align:left;white-space:pre\">WOODY JOLIE</td></tr><tr><td style=\"text-align:left;white-space:pre\">KIRK JOVOVICH</td></tr><tr><td style=\"text-align:left;white-space:pre\">MARY KEITEL</td></tr><tr><td style=\"text-align:left;white-space:pre\">MILLA KEITEL</td></tr><tr><td style=\"text-align:left;white-space:pre\">GRETA KEITEL</td></tr><tr><td style=\"text-align:left;white-space:pre\">REESE KILMER</td></tr><tr><td style=\"text-align:left;white-space:pre\">OPRAH KILMER</td></tr><tr><td style=\"text-align:left;white-space:pre\">MINNIE KILMER</td></tr><tr><td style=\"text-align:left;white-space:pre\">FAY KILMER</td></tr><tr><td style=\"text-align:left;white-space:pre\">SANDRA KILMER</td></tr><tr><td style=\"text-align:left;white-space:pre\">MATTHEW LEIGH</td></tr><tr><td style=\"text-align:left;white-space:pre\">JOHNNY LOLLOBRIGIDA</td></tr><tr><td style=\"text-align:left;white-space:pre\">GRETA MALDEN</td></tr><tr><td style=\"text-align:left;white-space:pre\">ED MANSFIELD</td></tr><tr><td style=\"text-align:left;white-space:pre\">ELVIS MARX</td></tr><tr><td style=\"text-align:left;white-space:pre\">MICHELLE MCCONAUGHEY</td></tr><tr><td style=\"text-align:left;white-space:pre\">CARY MCCONAUGHEY</td></tr><tr><td style=\"text-align:left;white-space:pre\">MORGAN MCDORMAND</td></tr><tr><td style=\"text-align:left;white-space:pre\">GENE MCKELLEN</td></tr><tr><td style=\"text-align:left;white-space:pre\">TOM MCKELLEN</td></tr><tr><td style=\"text-align:left;white-space:pre\">JULIA MCQUEEN</td></tr><tr><td style=\"text-align:left;white-space:pre\">CATE MCQUEEN</td></tr><tr><td style=\"text-align:left;white-space:pre\">TOM MIRANDA</td></tr><tr><td style=\"text-align:left;white-space:pre\">PENELOPE MONROE</td></tr><tr><td style=\"text-align:left;white-space:pre\">LISA MONROE</td></tr><tr><td style=\"text-align:left;white-space:pre\">GRACE MOSTEL</td></tr><tr><td style=\"text-align:left;white-space:pre\">JIM MOSTEL</td></tr><tr><td style=\"text-align:left;white-space:pre\">JAYNE NEESON</td></tr><tr><td style=\"text-align:left;white-space:pre\">CHRISTIAN NEESON</td></tr><tr><td style=\"text-align:left;white-space:pre\">BETTE NICHOLSON</td></tr><tr><td style=\"text-align:left;white-space:pre\">ALBERT NOLTE</td></tr><tr><td style=\"text-align:left;white-space:pre\">JAYNE NOLTE</td></tr><tr><td style=\"text-align:left;white-space:pre\">SALMA NOLTE</td></tr><tr><td style=\"text-align:left;white-space:pre\">WARREN NOLTE</td></tr><tr><td style=\"text-align:left;white-space:pre\">AUDREY OLIVIER</td></tr><tr><td style=\"text-align:left;white-space:pre\">CUBA OLIVIER</td></tr><tr><td style=\"text-align:left;white-space:pre\">KIRSTEN PALTROW</td></tr><tr><td style=\"text-align:left;white-space:pre\">KENNETH PALTROW</td></tr><tr><td style=\"text-align:left;white-space:pre\">SANDRA PECK</td></tr><tr><td style=\"text-align:left;white-space:pre\">SPENCER PECK</td></tr><tr><td style=\"text-align:left;white-space:pre\">MILLA PECK</td></tr><tr><td style=\"text-align:left;white-space:pre\">RICHARD PENN</td></tr><tr><td style=\"text-align:left;white-space:pre\">GARY PENN</td></tr><tr><td style=\"text-align:left;white-space:pre\">KENNETH PESCI</td></tr><tr><td style=\"text-align:left;white-space:pre\">OLYMPIA PFEIFFER</td></tr><tr><td style=\"text-align:left;white-space:pre\">GARY PHOENIX</td></tr><tr><td style=\"text-align:left;white-space:pre\">PENELOPE PINKETT</td></tr><tr><td style=\"text-align:left;white-space:pre\">JAMES PITT</td></tr><tr><td style=\"text-align:left;white-space:pre\">BURT POSEY</td></tr><tr><td style=\"text-align:left;white-space:pre\">ELLEN PRESLEY</td></tr><tr><td style=\"text-align:left;white-space:pre\">RITA REYNOLDS</td></tr><tr><td style=\"text-align:left;white-space:pre\">JADA RYDER</td></tr><tr><td style=\"text-align:left;white-space:pre\">JAYNE SILVERSTONE</td></tr><tr><td style=\"text-align:left;white-space:pre\">JEFF SILVERSTONE</td></tr><tr><td style=\"text-align:left;white-space:pre\">GROUCHO SINATRA</td></tr><tr><td style=\"text-align:left;white-space:pre\">SISSY SOBIESKI</td></tr><tr><td style=\"text-align:left;white-space:pre\">NICK STALLONE</td></tr><tr><td style=\"text-align:left;white-space:pre\">DAN STREEP</td></tr><tr><td style=\"text-align:left;white-space:pre\">CAMERON STREEP</td></tr><tr><td style=\"text-align:left;white-space:pre\">JOHN SUVARI</td></tr><tr><td style=\"text-align:left;white-space:pre\">JOE SWANK</td></tr><tr><td style=\"text-align:left;white-space:pre\">IAN TANDY</td></tr><tr><td style=\"text-align:left;white-space:pre\">MARY TANDY</td></tr><tr><td style=\"text-align:left;white-space:pre\">DUSTIN TAUTOU</td></tr><tr><td style=\"text-align:left;white-space:pre\">MENA TEMPLE</td></tr><tr><td style=\"text-align:left;white-space:pre\">RUSSELL TEMPLE</td></tr><tr><td style=\"text-align:left;white-space:pre\">THORA TEMPLE</td></tr><tr><td style=\"text-align:left;white-space:pre\">BURT TEMPLE</td></tr><tr><td style=\"text-align:left;white-space:pre\">FRANCES TOMEI</td></tr><tr><td style=\"text-align:left;white-space:pre\">KENNETH TORN</td></tr><tr><td style=\"text-align:left;white-space:pre\">DAN TORN</td></tr><tr><td style=\"text-align:left;white-space:pre\">WALTER TORN</td></tr><tr><td style=\"text-align:left;white-space:pre\">LUCILLE TRACY</td></tr><tr><td style=\"text-align:left;white-space:pre\">RENEE TRACY</td></tr><tr><td style=\"text-align:left;white-space:pre\">HELEN VOIGHT</td></tr><tr><td style=\"text-align:left;white-space:pre\">NICK WAHLBERG</td></tr><tr><td style=\"text-align:left;white-space:pre\">DARYL WAHLBERG</td></tr><tr><td style=\"text-align:left;white-space:pre\">BELA WALKEN</td></tr><tr><td style=\"text-align:left;white-space:pre\">ALEC WAYNE</td></tr><tr><td style=\"text-align:left;white-space:pre\">REESE WEST</td></tr><tr><td style=\"text-align:left;white-space:pre\">CHRISTOPHER WEST</td></tr><tr><td style=\"text-align:left;white-space:pre\">MORGAN WILLIAMS</td></tr><tr><td style=\"text-align:left;white-space:pre\">GROUCHO WILLIAMS</td></tr><tr><td style=\"text-align:left;white-space:pre\">SEAN WILLIAMS</td></tr><tr><td style=\"text-align:left;white-space:pre\">HUMPHREY WILLIS</td></tr><tr><td style=\"text-align:left;white-space:pre\">BEN WILLIS</td></tr><tr><td style=\"text-align:left;white-space:pre\">GENE WILLIS</td></tr><tr><td style=\"text-align:left;white-space:pre\">WILL WILSON</td></tr><tr><td style=\"text-align:left;white-space:pre\">FAY WINSLET</td></tr><tr><td style=\"text-align:left;white-space:pre\">RIP WINSLET</td></tr><tr><td style=\"text-align:left;white-space:pre\">ANGELA WITHERSPOON</td></tr><tr><td style=\"text-align:left;white-space:pre\">UMA WOOD</td></tr><tr><td style=\"text-align:left;white-space:pre\">FAY WOOD</td></tr><tr><td style=\"text-align:left;white-space:pre\">CAMERON WRAY</td></tr><tr><td style=\"text-align:left;white-space:pre\">MINNIE ZELLWEGER</td></tr><tr><td style=\"text-align:left;white-space:pre\">JULIA ZELLWEGER</td></tr><tr><td style=\"text-align:left;white-space:pre\">CAMERON ZELLWEGER</td></tr></table></body></html>"
      ]
     },
     "metadata": {},
     "output_type": "display_data"
    }
   ],
   "source": [
    "SELECT CONCAT(s.first_name, _utf8' ',  s.last_name) AS Actor \n",
    "FROM actor as s\n",
    "order by s.last_name;"
   ]
  },
  {
   "cell_type": "markdown",
   "metadata": {},
   "source": [
    "2. Número de actores por categoría del film, orden descendiente"
   ]
  },
  {
   "cell_type": "code",
   "execution_count": 11,
   "metadata": {},
   "outputs": [
    {
     "data": {
      "text/html": [
       "<html><body><table border=\"1\"><tr><th style=\"text-align:left;white-space:pre\">categoria</th><th style=\"text-align:left;white-space:pre\">numero_actores</th></tr><tr><td style=\"text-align:left;white-space:pre\">Sports</td><td style=\"text-align:left;white-space:pre\">441</td></tr><tr><td style=\"text-align:left;white-space:pre\">Foreign</td><td style=\"text-align:left;white-space:pre\">397</td></tr><tr><td style=\"text-align:left;white-space:pre\">Documentary</td><td style=\"text-align:left;white-space:pre\">385</td></tr><tr><td style=\"text-align:left;white-space:pre\">Action</td><td style=\"text-align:left;white-space:pre\">363</td></tr><tr><td style=\"text-align:left;white-space:pre\">Animation</td><td style=\"text-align:left;white-space:pre\">361</td></tr><tr><td style=\"text-align:left;white-space:pre\">Drama</td><td style=\"text-align:left;white-space:pre\">350</td></tr><tr><td style=\"text-align:left;white-space:pre\">Family</td><td style=\"text-align:left;white-space:pre\">347</td></tr><tr><td style=\"text-align:left;white-space:pre\">Children</td><td style=\"text-align:left;white-space:pre\">344</td></tr><tr><td style=\"text-align:left;white-space:pre\">New</td><td style=\"text-align:left;white-space:pre\">343</td></tr><tr><td style=\"text-align:left;white-space:pre\">Sci-Fi</td><td style=\"text-align:left;white-space:pre\">326</td></tr><tr><td style=\"text-align:left;white-space:pre\">Travel</td><td style=\"text-align:left;white-space:pre\">321</td></tr><tr><td style=\"text-align:left;white-space:pre\">Horror</td><td style=\"text-align:left;white-space:pre\">317</td></tr><tr><td style=\"text-align:left;white-space:pre\">Classics</td><td style=\"text-align:left;white-space:pre\">307</td></tr><tr><td style=\"text-align:left;white-space:pre\">Games</td><td style=\"text-align:left;white-space:pre\">293</td></tr><tr><td style=\"text-align:left;white-space:pre\">Comedy</td><td style=\"text-align:left;white-space:pre\">286</td></tr><tr><td style=\"text-align:left;white-space:pre\">Music</td><td style=\"text-align:left;white-space:pre\">281</td></tr></table></body></html>"
      ]
     },
     "metadata": {},
     "output_type": "display_data"
    }
   ],
   "source": [
    "SELECT c.name as categoria, COUNT(actor_id) AS numero_actores\n",
    "FROM category AS c\n",
    "JOIN film_category as fc ON c.category_id = fc.category_id\n",
    "JOIN film as f ON fc.film_id = f.film_id\n",
    "JOIN film_actor as fa ON f.film_id = fa.film_id\n",
    "GROUP BY categoria\n",
    "ORDER BY numero_actores DESC;"
   ]
  },
  {
   "cell_type": "markdown",
   "metadata": {},
   "source": [
    "3. Actor qua más ventas genera por tienda (store)"
   ]
  },
  {
   "cell_type": "code",
   "execution_count": 12,
   "metadata": {},
   "outputs": [
    {
     "data": {
      "text/html": [
       "<html><body><table border=\"1\"><tr><th style=\"text-align:left;white-space:pre\">tienda</th><th style=\"text-align:left;white-space:pre\">actor_estrella</th><th style=\"text-align:left;white-space:pre\">valor</th></tr><tr><td style=\"text-align:left;white-space:pre\">28 MySQL Boulevard</td><td style=\"text-align:left;white-space:pre\">PENELOPE GUINESS</td><td style=\"text-align:left;white-space:pre\">11.99</td></tr><tr><td style=\"text-align:left;white-space:pre\">47 MySakila Drive</td><td style=\"text-align:left;white-space:pre\">PENELOPE GUINESS</td><td style=\"text-align:left;white-space:pre\">11.99</td></tr></table></body></html>"
      ]
     },
     "metadata": {},
     "output_type": "display_data"
    }
   ],
   "source": [
    "SELECT  d.address as tienda,\n",
    "        CONCAT(a.first_name, _utf8' ',  a.last_name) AS actor_estrella,\n",
    "        MAX(p.amount) as valor\n",
    "FROM actor AS a\n",
    "JOIN film_actor AS fa ON a.actor_id = fa.actor_id\n",
    "JOIN film AS f ON fa.film_id = f.film_id\n",
    "JOIN inventory AS i ON f.film_id = i.film_id\n",
    "JOIN rental AS r ON i.inventory_id = r.inventory_id\n",
    "JOIN payment AS p ON r.rental_id = p.rental_id\n",
    "JOIN store AS s ON i.store_id = s.store_id\n",
    "JOIN address AS d ON s.address_id = d.address_id\n",
    "GROUP BY tienda;"
   ]
  },
  {
   "cell_type": "markdown",
   "metadata": {},
   "source": [
    "4. Ventas totales por tienda"
   ]
  },
  {
   "cell_type": "code",
   "execution_count": 13,
   "metadata": {},
   "outputs": [
    {
     "data": {
      "text/html": [
       "<html><body><table border=\"1\"><tr><th style=\"text-align:left;white-space:pre\">tienda</th><th style=\"text-align:left;white-space:pre\">valor</th></tr><tr><td style=\"text-align:left;white-space:pre\">28 MySQL Boulevard</td><td style=\"text-align:left;white-space:pre\">33726.77</td></tr><tr><td style=\"text-align:left;white-space:pre\">47 MySakila Drive</td><td style=\"text-align:left;white-space:pre\">33679.79</td></tr></table></body></html>"
      ]
     },
     "metadata": {},
     "output_type": "display_data"
    }
   ],
   "source": [
    "select  d.address as tienda,\n",
    "        SUM(p.amount) as valor\n",
    "from    address as d\n",
    "join    store as s on s.address_id = d.address_id\n",
    "join    inventory as i on i.store_id = s.store_id\n",
    "join    rental as r on r.inventory_id = i.inventory_id\n",
    "join    payment as p on p.rental_id = r.rental_id\n",
    "group by tienda;\n"
   ]
  },
  {
   "cell_type": "markdown",
   "metadata": {},
   "source": [
    "## BIBLIOGRAFÍA"
   ]
  },
  {
   "cell_type": "markdown",
   "metadata": {},
   "source": [
    "1. Dyer, R. J. (2015). Learning MySQL and MariaDB: Heading in the right direction with MySQL and MariaDB. \" O'Reilly Media, Inc.\"."
   ]
  },
  {
   "cell_type": "markdown",
   "metadata": {},
   "source": [
    "2. https://github.com/AprendizajeProfundo/BigData/blob/main/Bases_Datos/Notebooks/Bases_Datos_SQL-3.ipynb"
   ]
  },
  {
   "cell_type": "markdown",
   "metadata": {},
   "source": [
    "3.Chávez, J. D. (2015). Triggers, Funciones y Procedimientos."
   ]
  },
  {
   "cell_type": "code",
   "execution_count": null,
   "metadata": {},
   "outputs": [],
   "source": []
  }
 ],
 "metadata": {
  "kernelspec": {
   "display_name": "MariaDB",
   "language": "SQL",
   "name": "mariadb_kernel"
  },
  "language_info": {
   "file_extension": ".sql",
   "mimetype": "text/plain",
   "name": "SQL"
  }
 },
 "nbformat": 4,
 "nbformat_minor": 4
}
