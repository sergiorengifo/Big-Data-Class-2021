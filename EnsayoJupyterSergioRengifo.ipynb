{
  "nbformat": 4,
  "nbformat_minor": 0,
  "metadata": {
    "colab": {
      "name": "EnsayoJupyterSergioRengifo.ipynb",
      "provenance": [],
      "collapsed_sections": [],
      "authorship_tag": "ABX9TyPcZg95/WwhZ/6DWgZXYCrg",
      "include_colab_link": true
    },
    "kernelspec": {
      "name": "python3",
      "display_name": "Python 3"
    }
  },
  "cells": [
    {
      "cell_type": "markdown",
      "metadata": {
        "id": "view-in-github",
        "colab_type": "text"
      },
      "source": [
        "<a href=\"https://colab.research.google.com/github/sergiorengifo/Big-Data-Class-2021/blob/master/EnsayoJupyterSergioRengifo.ipynb\" target=\"_parent\"><img src=\"https://colab.research.google.com/assets/colab-badge.svg\" alt=\"Open In Colab\"/></a>"
      ]
    },
    {
      "cell_type": "markdown",
      "metadata": {
        "id": "EnoXCAzRzN3Q"
      },
      "source": [
        "# Regresión Lineal\r\n"
      ]
    },
    {
      "cell_type": "markdown",
      "metadata": {
        "id": "gUlRM69uzNKf"
      },
      "source": [
        "### Tabla de Contenido\r\n",
        "\r\n",
        "\r\n",
        "[Introducción](#Introducción) \\\\\r\n",
        "\r\n",
        "[Historia de la Regresión Lineal](#Historia) \\\\\r\n",
        "\r\n",
        "[Algoritmo](#Algortimo) \\\\\r\n",
        "\r\n",
        "[Ejemplo: Cambio Climático](#Ejemplo) \\\\\r\n",
        "\r\n",
        "[Conclusiones](#Conclusiones) \\\\\r\n",
        "\r\n",
        "[Referencias](#Bibliografia)\r\n",
        "\r\n",
        "\r\n"
      ]
    },
    {
      "cell_type": "markdown",
      "metadata": {
        "id": "3dLqMLAN90Q2"
      },
      "source": [
        "# Introducción   <a id=\"Introducción\"></a>\r\n",
        "                                                                \r\n",
        "\r\n",
        "\r\n",
        "\r\n",
        "> La regresion es el estudio de la dependencia,  se ha utilizado para responder preguntas como, ¿cambiar el tamaño de las clases afecta el rendimiento de los estudiantes? ¿ Podemos predecir el tiempo en el que ocurrirar la siguiente erupcion del géiser Old Faithful a partir de la duración de la erupcion mas reciente? ¿Cambios en la dieta resultan en cambios en el nivel de colesterol, y si asi fuera, estos resultados dependen de caracterisiticas como la edad, sexo, y cantidad de ejercicio? ¿Tienen los paises con mas alto PIB menores tasas de nacimientos versus paises con menor PIB?. Como en muchos análisis estadísticos, el objetivo de la regresión es recoger informacion de la manera más simple, útil, y elegante posible. En algunos problemas, puede estar disponible una teoría que especifique cómo varía la respuesta a medida que cambian los valores de los predictores. En otros problemas puede faltar una teoría y necesitamos usar los datos para ayudarnos a decidir como proceder. En cualquier caso, un primer paso esencial en el análisis de regresión es dibujar gráficos apropiados. \\\\\r\n",
        "\r\n",
        "> Los análisis de regresión, incluido el análisis de regresión simple, responde preguntas acerca de la dependencia de una variable respuesta sobre uno o mas predictores, incluyendo predecir valores futuros de respuesta, descubriendo que predictores son importantes, y estimando el impacto de cambiar un predictor en el valor de la respuesta. [1]\r\n",
        "\r\n",
        "\r\n",
        "\r\n",
        "<img src=\"https://economipedia.com/wp-content/uploads/Regresi%C3%B3n-lineal.png\" alt=\"Girl in a jacket\" width=\"650\" height=\"450\" title=\"Visit Computer Hope\">\r\n",
        "\r\n",
        "Figura 1. Representación Regresión Lineal simple. Tomado de [Imagen](https://economipedia.com/definiciones/modelo-de-regresion.html). \\\\\r\n",
        "\r\n",
        "\r\n",
        "\r\n",
        "\r\n",
        "\r\n",
        "\r\n"
      ]
    },
    {
      "cell_type": "markdown",
      "metadata": {
        "id": "aYBx5wm_MikW"
      },
      "source": [
        "#Historia de la regresión lineal <a id=\"Historia\"></a>\r\n",
        "\r\n",
        "La primera noción de regresión estadística es usualmente atribuidaa Francis Galton, aunque las primeras nociones de una curva lineal que ajustara un conjunto de datos se remonta a inicios del siglo XIX, con los ajustes hechos por Gauss y Legendre. Trabajos recientes han traido a la luz información sobre un pionero en el tema, R. J Adcock. A pesar de errores de ejecución, merece ser recordado en la historia de nuestra ciencia. Estuvo cerca de inventar la regresión lineal; también observó la necesidad de especificar criterios para tener una estimación de parámetros óptima. [2] \\\\\r\n",
        "\r\n",
        "Un examen de las publicaciones de Sir Francis Galton y Karl Pearson mostraron que el trabajo de Galton sobre caracteristicas heredadas de los guisantes de olor llevarón a la conceptualización inicial de la regresión lineal. Seguido a esto, esfuerzos tanto de Pearson y Galton resultaron en el desarrollo de técnicas mas generales sobre regresión multiple y el coeficiente de correlación producto-momento ( conocido actualmente como el coeficiente de Pearson). Aunque Pearson desarrollo el coeficiente que lleva su nombre de una manera rigurosamente matemática, fue la imaginación de Sir Francis Galton, que originalmente concibió las ideas modernas de regresión y correlación. \\\\\r\n",
        "\r\n",
        "Las ideas que resultaron en el desarrollo del coeficiente de Pearson comenzaron con un problema de herencia, el cual consistia en entender cuan fuertemente las caracteristicas de una generacion de seres vivos se manifestaba en la siguiente generación. Galton inicialmente aproximó el problema examinando caracteristicas de los guisantes. Los primeros planteamientos sobre regresión se obtuvieron en una dispersion bidimensional de el tamaño de los guisantes hijos versus el tamaño de los guisantes padres. Galton uso esta representación de los datos para ilustrar lo que luego los estadisticos conocerian como regresión. La generalización de estos esfuerzos resultaron en el coeficiente de Pearson y mas completos y complejos desarrollos sobre regresión multiple.[3]\r\n",
        "\r\n",
        "\r\n",
        "\r\n",
        "\r\n",
        "\r\n",
        "\r\n",
        "\r\n",
        "\r\n",
        "\r\n",
        "\r\n",
        "\r\n",
        "\r\n",
        "\r\n",
        "\r\n",
        "\r\n",
        "\r\n",
        "\r\n",
        "\r\n",
        "\r\n",
        "\r\n",
        "\r\n",
        "> "
      ]
    },
    {
      "cell_type": "markdown",
      "metadata": {
        "id": "4CWrVVibgojF"
      },
      "source": [
        "# Planteamiento del Algoritmo : Regresión Lineal Simple <a id=\"Algoritmo\"></a>\r\n",
        "\r\n",
        "El modelo de regresión lineal simple consiste en las funciones de la varianza y la esperanza , como sigue \\\\\r\n",
        "\r\n",
        "\\begin{equation}\r\n",
        "E(Y|X=x)= \\beta_0 + \\beta_1 x \r\n",
        "\\end{equation}\r\n",
        "\r\n",
        "\\begin{equation}\r\n",
        "Var(Y|X=x)= \\sigma^2\r\n",
        "\\end{equation}\r\n",
        "\r\n",
        "Los parámetros en la función de la media son el intercepto $\\beta_0$, el cual es el valor de $E(Y|X=x)$ cuando $x$ es igual cero, y la pendiente $\\beta_1$, la cual da cuenta de la rata de cambio de $E(Y|X=x)$ por unidad de $X$.\r\n",
        "\r\n",
        "![picture](https://drive.google.com/uc?id=1WgUGEz-BE1GHg8HM0wrxvIjsjRBLdLEw)\r\n",
        "\r\n",
        "Figura 2. Ecuación de una linea recta $E(Y|X=x)=\\beta_0 + \\beta_1 x$.  \\\\ \r\n",
        "\r\n",
        "Cuando se varian los parámetros, podemos obtener todas las posibles lineas rectas. En la mayoria de aplicaciones, los parametros son desconocidos y deben ser estimados usando los datos. La función de varianza se asume una constante, con un valor positivo de magnitud $\\sigma^2$.\r\n",
        "\r\n",
        "\r\n",
        "## Estimación Por Mínimos Cuadrados\r\n",
        "\r\n",
        "Como los parametros son cantidades desconocidas, estimar los parametros de punto de corte y pendiente se vuelve nuestra principal tarea. El valor que debe representar el modelo para cada valor $i$ viene dado por\r\n",
        "\r\n",
        "\\begin{equation}\r\n",
        "\\hat{y}_i = \\hat{E} (Y|X=x_i)= \\hat{\\beta_0} + \\hat{\\beta_1} x_i\r\n",
        "\\end{equation}\r\n",
        "\r\n",
        "Como los anteriores son valores a estimar, se denotan con el sombrero y letras griegas. \\\\\r\n",
        "\r\n",
        "Los errores de la estimación se pueden calcular, como :\r\n",
        "\r\n",
        "\\begin{equation}\r\n",
        "e_i =y_i -(\\beta_0 + \\beta_1)x_i , \\ \\ i=1,...,n\r\n",
        "\\end{equation}\r\n",
        "\r\n",
        "Todos los mínimos cuadrados para un regresión simple dependen solo de promedios, sumas de cuadrados y sumas de productos cruzados. En la siguiente tabla se consigna la notación usada por Weisberg. \\\\\r\n",
        "\r\n",
        "![picture](https://drive.google.com/uc?id=1VZneDSAu86H97YHgEHiYpKWxRi9Y1w3J)\r\n",
        "\r\n",
        "Los mínimos cuadrados pueden ser derivados de muchas maneras, y el proposito de este documento no es incluir una deducción detallada de ese proceso, en cambio, se quiere presentar el algoritmo correspondiente para calcular el ajuste lineal. Los valores de los estimadores $\\hat{\\beta_0}$ , $\\hat{\\beta_1}$, vienen dados por \\\\\r\n",
        "\r\n",
        "\\begin{equation}\r\n",
        "\\hat{\\beta_1}=\\frac{SXY}{SXX} =r_{xy}\\frac{SD_y}{SD_x} =r_{xy} (\\frac{SYY}{SXX})^2\r\n",
        "\\end{equation}\r\n",
        "\r\n",
        "\\begin{equation}\r\n",
        "\\hat{\\beta_0}= \\bar{y} - \\hat{\\beta_1} \\bar{x}\r\n",
        "\\end{equation}\r\n",
        "\r\n",
        "Los valores anteriores permiten calcular la recta de mejor ajuste a un conjunto de parejas de datos $(x_i,y_i)$, de tal manera que la siguiente función tenga el valor mínimo posible\r\n",
        "\r\n",
        "\r\n",
        "\\begin{equation}\r\n",
        "RSS(\\beta_0, \\beta_1) = \\sum_{i=1}^{n} [y_i -(\\beta_{0} + \\beta_{1} x_i)]^2\r\n",
        "\\end{equation}"
      ]
    },
    {
      "cell_type": "markdown",
      "metadata": {
        "id": "e9-6R79MGaI3"
      },
      "source": [
        "# Ejemplo: Cambio Climático <a id=\"Ejemplo\"></a>"
      ]
    },
    {
      "cell_type": "markdown",
      "metadata": {
        "id": "14skShTpz5xT"
      },
      "source": [
        "Han existido mucho estudios documentando que la temperatura global promedio se ha ido incrementando a lo largo del último siglo. Las consecuencias de un aumento continuo de la temperatura a nivel global sería terrible. Aumentando la altura del nivel del mar y aumentando la frecuencia de eventos climaticos extremos que afectarian billones de personas. Este problema se abordo en un curso del MIT a modo de Tarea , y se pude ver la información correspondiente en el siguiente enlace [LinearRegression](https://ocw.mit.edu/courses/sloan-school-of-management/15-071-the-analytics-edge-spring-2017/linear-regression/assignment-2/).  \\\\\r\n",
        "\r\n",
        "En este problema se intenta estudiar la relación entre la temperatura promedio global y otros factores que se describen a continuación: \\\\\r\n",
        "\r\n",
        "\r\n",
        "\r\n",
        "*   *Year*: El año de observación\r\n",
        "*   *Month*: El mes de observación\r\n",
        "*   *Temp*: La diferencia en grados Celsius entre la temperatura promedio global en un periodo y un valor de referencia arbitrario. Esta información viene de [Climatic Research Unit](https://sites.uea.ac.uk/cru/) . \\\\\r\n",
        "\r\n",
        "*   *CO2,N2O,CH4,CFC.11,CFC.12*: Concentraciones atmosfericas de dioxido de carbono (CO2), oxido nitroso (NO2), metano (CH4), triclorofluorometano (CFC-11), diclorodifluorometano (CFC-12), respectivamente. Los datos fueron tomados de [ESRL/NOAA Global Monitoring Division](https://www.esrl.noaa.gov/gmd/ccgg/data-products.html).  \\\\\r\n",
        "\r\n",
        "\r\n",
        "\r\n",
        "*   CO2, N2O, y CH4 son expresados en ppmv ( partes por millon de volumen, ...i.e, 397 ppmv de CO2 significa que CO2 constituye 397 millones de particulas de todo el volumen total de la atmosfera). \\\\ \r\n",
        "\r\n",
        "*  *Aerosols*: La profundidad óptica media del aerosol estratosférico a 550 nm.\r\n",
        "\r\n",
        "*   *TSI*: Irradiancia solar total en $\\frac{W}{m^2}$ . Esta tasa indica la cantidad de energia por segundo y por unidad de area que impacta a la tierra. \r\n",
        "\r\n",
        "\r\n",
        "\r\n",
        "\r\n",
        "\r\n",
        "\r\n",
        "\r\n",
        "\r\n",
        "\r\n",
        "\r\n",
        "\r\n",
        "\r\n",
        "\r\n",
        "\r\n",
        "\r\n"
      ]
    },
    {
      "cell_type": "markdown",
      "metadata": {
        "id": "hRwpuvph7wtC"
      },
      "source": [
        "##Codigo en python\r\n",
        "El siguiente codigo se tomo y modifico  del a fuente :[Codigo](https://www.aprendemachinelearning.com/regresion-lineal-en-espanol-con-python/). Se utiliza para analisar el set de datos anterior, ajeno a su proposito orginal.\\\\"
      ]
    },
    {
      "cell_type": "code",
      "metadata": {
        "id": "1Bq0zaLW1RVr"
      },
      "source": [
        "import numpy as np\r\n",
        "#Importando Numpy\r\n",
        "import pandas as pd\r\n",
        "#Importando Pandas\r\n",
        "import seaborn as sb\r\n",
        "#Importando la libreria de visualizacion de python \r\n",
        "import matplotlib.pyplot as plt\r\n",
        "#Importando la libreria de visualizacion de python \r\n",
        "%matplotlib inline\r\n",
        "from mpl_toolkits.mplot3d import Axes3D\r\n",
        "from matplotlib import cm\r\n",
        "plt.rcParams['figure.figsize'] = (16, 9)\r\n",
        "plt.style.use('ggplot')\r\n",
        "from sklearn import linear_model\r\n",
        "#Importando de la biblioteca de aprendizaje automatico sklearn el modelo de regresion lineal.\r\n",
        "from sklearn.metrics import mean_squared_error, r2_score"
      ],
      "execution_count": 35,
      "outputs": []
    },
    {
      "cell_type": "code",
      "metadata": {
        "colab": {
          "base_uri": "https://localhost:8080/"
        },
        "id": "Y6G58-uQ1SH8",
        "outputId": "213a18c2-b501-4bdb-af91-9a225e3ed34f"
      },
      "source": [
        "#cargamos los datos de entrada de cambio climatico\r\n",
        "data = pd.read_csv(\"climate_change.csv\")\r\n",
        "#veamos cuantas dimensiones y registros contiene (Numero de filas y columnas)\r\n",
        "data.shape"
      ],
      "execution_count": 36,
      "outputs": [
        {
          "output_type": "execute_result",
          "data": {
            "text/plain": [
              "(308, 11)"
            ]
          },
          "metadata": {
            "tags": []
          },
          "execution_count": 36
        }
      ]
    },
    {
      "cell_type": "code",
      "metadata": {
        "colab": {
          "base_uri": "https://localhost:8080/",
          "height": 206
        },
        "id": "OCTGVz0M1x5S",
        "outputId": "32272ff0-6941-4a6c-f929-2e94b595b311"
      },
      "source": [
        "#Vista de los primeros y ultimos 5 registros\r\n",
        "data.head()"
      ],
      "execution_count": 37,
      "outputs": [
        {
          "output_type": "execute_result",
          "data": {
            "text/html": [
              "<div>\n",
              "<style scoped>\n",
              "    .dataframe tbody tr th:only-of-type {\n",
              "        vertical-align: middle;\n",
              "    }\n",
              "\n",
              "    .dataframe tbody tr th {\n",
              "        vertical-align: top;\n",
              "    }\n",
              "\n",
              "    .dataframe thead th {\n",
              "        text-align: right;\n",
              "    }\n",
              "</style>\n",
              "<table border=\"1\" class=\"dataframe\">\n",
              "  <thead>\n",
              "    <tr style=\"text-align: right;\">\n",
              "      <th></th>\n",
              "      <th>Year</th>\n",
              "      <th>Month</th>\n",
              "      <th>MEI</th>\n",
              "      <th>CO2</th>\n",
              "      <th>CH4</th>\n",
              "      <th>N2O</th>\n",
              "      <th>CFC-11</th>\n",
              "      <th>CFC-12</th>\n",
              "      <th>TSI</th>\n",
              "      <th>Aerosols</th>\n",
              "      <th>Temp</th>\n",
              "    </tr>\n",
              "  </thead>\n",
              "  <tbody>\n",
              "    <tr>\n",
              "      <th>0</th>\n",
              "      <td>1983</td>\n",
              "      <td>5</td>\n",
              "      <td>2.556</td>\n",
              "      <td>345.96</td>\n",
              "      <td>1638.59</td>\n",
              "      <td>303.677</td>\n",
              "      <td>191.324</td>\n",
              "      <td>350.113</td>\n",
              "      <td>1366.1024</td>\n",
              "      <td>0.0863</td>\n",
              "      <td>0.109</td>\n",
              "    </tr>\n",
              "    <tr>\n",
              "      <th>1</th>\n",
              "      <td>1983</td>\n",
              "      <td>6</td>\n",
              "      <td>2.167</td>\n",
              "      <td>345.52</td>\n",
              "      <td>1633.71</td>\n",
              "      <td>303.746</td>\n",
              "      <td>192.057</td>\n",
              "      <td>351.848</td>\n",
              "      <td>1366.1208</td>\n",
              "      <td>0.0794</td>\n",
              "      <td>0.118</td>\n",
              "    </tr>\n",
              "    <tr>\n",
              "      <th>2</th>\n",
              "      <td>1983</td>\n",
              "      <td>7</td>\n",
              "      <td>1.741</td>\n",
              "      <td>344.15</td>\n",
              "      <td>1633.22</td>\n",
              "      <td>303.795</td>\n",
              "      <td>192.818</td>\n",
              "      <td>353.725</td>\n",
              "      <td>1366.2850</td>\n",
              "      <td>0.0731</td>\n",
              "      <td>0.137</td>\n",
              "    </tr>\n",
              "    <tr>\n",
              "      <th>3</th>\n",
              "      <td>1983</td>\n",
              "      <td>8</td>\n",
              "      <td>1.130</td>\n",
              "      <td>342.25</td>\n",
              "      <td>1631.35</td>\n",
              "      <td>303.839</td>\n",
              "      <td>193.602</td>\n",
              "      <td>355.633</td>\n",
              "      <td>1366.4202</td>\n",
              "      <td>0.0673</td>\n",
              "      <td>0.176</td>\n",
              "    </tr>\n",
              "    <tr>\n",
              "      <th>4</th>\n",
              "      <td>1983</td>\n",
              "      <td>9</td>\n",
              "      <td>0.428</td>\n",
              "      <td>340.17</td>\n",
              "      <td>1648.40</td>\n",
              "      <td>303.901</td>\n",
              "      <td>194.392</td>\n",
              "      <td>357.465</td>\n",
              "      <td>1366.2335</td>\n",
              "      <td>0.0619</td>\n",
              "      <td>0.149</td>\n",
              "    </tr>\n",
              "  </tbody>\n",
              "</table>\n",
              "</div>"
            ],
            "text/plain": [
              "   Year  Month    MEI     CO2  ...   CFC-12        TSI  Aerosols   Temp\n",
              "0  1983      5  2.556  345.96  ...  350.113  1366.1024    0.0863  0.109\n",
              "1  1983      6  2.167  345.52  ...  351.848  1366.1208    0.0794  0.118\n",
              "2  1983      7  1.741  344.15  ...  353.725  1366.2850    0.0731  0.137\n",
              "3  1983      8  1.130  342.25  ...  355.633  1366.4202    0.0673  0.176\n",
              "4  1983      9  0.428  340.17  ...  357.465  1366.2335    0.0619  0.149\n",
              "\n",
              "[5 rows x 11 columns]"
            ]
          },
          "metadata": {
            "tags": []
          },
          "execution_count": 37
        }
      ]
    },
    {
      "cell_type": "markdown",
      "metadata": {
        "id": "Qp1iC6Xq9y_y"
      },
      "source": [
        ""
      ]
    },
    {
      "cell_type": "code",
      "metadata": {
        "id": "h-HOf0PN2NrR",
        "colab": {
          "base_uri": "https://localhost:8080/"
        },
        "outputId": "a4524b6f-a108-4c8b-f42a-eae81a22eb84"
      },
      "source": [
        "#Filtrando los datos a dos culumnas\r\n",
        "filtered_data = data[(data['Year']<= 3500) & (data['Temp']<= 3500)]\r\n",
        "# Asignamos nuestra variable de entrada X para entrenamiento y las etiquetas Y.\r\n",
        "dataX =filtered_data[[\"Year\"]]\r\n",
        "X_train = np.array(dataX)\r\n",
        "y_train = filtered_data['Temp'].values\r\n",
        " \r\n",
        "# Creamos el objeto de Regresión Linear\r\n",
        "regr = linear_model.LinearRegression()\r\n",
        " \r\n",
        "# Entrenamos nuestro modelo\r\n",
        "regr.fit(X_train, y_train)\r\n",
        " \r\n",
        "# Hacemos las predicciones que en definitiva una línea (en este caso, al ser 2D)\r\n",
        "y_pred = regr.predict(X_train)\r\n",
        " \r\n",
        "# Veamos los coeficienetes obtenidos, En nuestro caso, serán la pendiente\r\n",
        "print('Coefficients: \\n', regr.coef_)\r\n",
        "# Este es el valor donde corta el eje Y (en X=0)\r\n",
        "print('Independent term: \\n', regr.intercept_)\r\n",
        "# Error Cuadrado Medio\r\n",
        "print(\"Mean squared error: %.2f\" % mean_squared_error(y_train, y_pred))\r\n",
        "# Puntaje de Varianza. El mejor puntaje es un 1.0\r\n",
        "print('Variance score: %.2f' % r2_score(y_train, y_pred))"
      ],
      "execution_count": 38,
      "outputs": [
        {
          "output_type": "stream",
          "text": [
            "Coefficients: \n",
            " [0.01823254]\n",
            "Independent term: \n",
            " -36.129211902349155\n",
            "Mean squared error: 0.01\n",
            "Variance score: 0.57\n"
          ],
          "name": "stdout"
        }
      ]
    },
    {
      "cell_type": "code",
      "metadata": {
        "colab": {
          "base_uri": "https://localhost:8080/",
          "height": 554
        },
        "id": "ZpD3X4Up_Hq-",
        "outputId": "93bfe50b-7703-4fde-fc67-703ee00f7123"
      },
      "source": [
        "#Graficando con matplotlib  y usando ggplot\r\n",
        "plt.scatter(X_train, y_train, c='r', edgecolors=(0, 0, 0), alpha=0.5)\r\n",
        "b , a = regr.coef_ , regr.intercept_\r\n",
        "plt.plot(X_train, [a + b * x for x in X_train], c=\"b\")\r\n",
        "plt.xlabel('Año (12 datos por año, uno para cada mes) ')\r\n",
        "plt.ylabel('Delta de Temperatura')\r\n",
        "plt.show()\r\n"
      ],
      "execution_count": 40,
      "outputs": [
        {
          "output_type": "display_data",
          "data": {
            "image/png": "[encoded data removed]",
            "text/plain": [
              "<Figure size 1152x648 with 1 Axes>"
            ]
          },
          "metadata": {
            "tags": []
          }
        }
      ]
    },
    {
      "cell_type": "markdown",
      "metadata": {
        "id": "8fjUWFxTBKFQ"
      },
      "source": [
        "La grafica anterior representa por año, la variación del intervalo en el aumento de la temperatura y a su vez el aumento lineal a lo largo del tiempo en 25 años desde 1983 hasta 2008. Es una grafica interesante, pues se observa que aunque no se tenga una función como tal, pues para cada abscisa se tiene varias ordenadas, aún asi, es aplicable la regresión lineal. \\\\\r\n"
      ]
    },
    {
      "cell_type": "markdown",
      "metadata": {
        "id": "DNVtLGq57JXh"
      },
      "source": [
        "# Conclusiones <a id=\"Conlusiones\"></a>\r\n",
        "\r\n",
        "\r\n",
        "\r\n",
        "*   La regresión lineal es una muy buena aproximación para predecir el comportamiento de dos variables que se relacionan de manera proporcional. Para nuestro caso se observa que la temperatura a nivel global ha aumentado de manera lineal a lo largo de los ultimos 25 años, lo cual es una clara de evidencia de que el calentamiento global es un problema serio. \r\n",
        "\r\n",
        "* El procedimiento anterior resulta de suma importancia, pues al tener una función que me permita relacionar la variable dependiente con la independiente, se podrá calcular a futuro el valor de la variable dependiente o almenos su comportamiento aparente. Todo lo anterior dependiendo de que tan bueno sea el ajuste.  \r\n"
      ]
    },
    {
      "cell_type": "markdown",
      "metadata": {
        "id": "nfHmlkU3HT06"
      },
      "source": [
        "# Bibliografía <a id=\"Bibliografia\"></a>"
      ]
    },
    {
      "cell_type": "markdown",
      "metadata": {
        "id": "G3OxcvZcNI9Y"
      },
      "source": [
        "\r\n",
        "\r\n",
        "1.   *Weisberg, S. (2005). Applied linear regression (Vol. 528). John Wiley & Sons.*\r\n",
        "2.   *Finney*, D. J. (1996). A note on the history of regression.\r\n",
        "\r\n",
        "3.   Stanton, J. M. (2001). Galton, Pearson, and the peas: A brief history of linear regression for statistics instructors. Journal of Statistics Education, 9(3).\r\n",
        "\r\n",
        "\r\n",
        "\r\n"
      ]
    },
    {
      "cell_type": "code",
      "metadata": {
        "id": "avizhq-CHePy"
      },
      "source": [
        ""
      ],
      "execution_count": 39,
      "outputs": []
    }
  ]
}